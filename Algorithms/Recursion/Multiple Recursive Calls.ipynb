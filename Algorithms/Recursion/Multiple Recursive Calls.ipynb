{
 "cells": [
  {
   "cell_type": "markdown",
   "id": "5a0363cd",
   "metadata": {},
   "source": [
    "### 6. **Recursion with Multiple Recursive Calls**\n",
    "\n",
    "- **Description**: Problems where each recursive call generates more than one new recursive call, such as splitting a problem into multiple smaller problems.\n",
    "- **Popular Problems**:\n",
    "    - **Generate Parentheses** (LeetCode 22)\n",
    "    - **Letter Combinations of a Phone Number** (LeetCode 17)\n",
    "    - **Subsets** (LeetCode 78)\n",
    "    - **Permutations** (LeetCode 46)\n",
    "    - **All Paths From Source to Target** (LeetCode 797)"
   ]
  },
  {
   "cell_type": "code",
   "execution_count": null,
   "id": "33c27961",
   "metadata": {},
   "outputs": [],
   "source": []
  }
 ],
 "metadata": {
  "kernelspec": {
   "display_name": "Python 3 (ipykernel)",
   "language": "python",
   "name": "python3"
  },
  "language_info": {
   "codemirror_mode": {
    "name": "ipython",
    "version": 3
   },
   "file_extension": ".py",
   "mimetype": "text/x-python",
   "name": "python",
   "nbconvert_exporter": "python",
   "pygments_lexer": "ipython3",
   "version": "3.11.3"
  }
 },
 "nbformat": 4,
 "nbformat_minor": 5
}
