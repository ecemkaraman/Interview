{
 "cells": [
  {
   "cell_type": "markdown",
   "id": "45bdd9ca",
   "metadata": {},
   "source": [
    "### 8. **Recursion in Graphs**\n",
    "\n",
    "- **Description**: Problems where recursion is used for traversing graphs, often in depth-first search (DFS) for finding paths, connected components, or cycles.\n",
    "- **Popular Problems**:\n",
    "    - **Number of Islands** (LeetCode 200)\n",
    "    - **Max Area of Island** (LeetCode 695)\n",
    "    - **Graph Valid Tree** (LeetCode 261)\n",
    "    - **Clone Graph** (LeetCode 133)\n",
    "    - **Course Schedule** (LeetCode 207)"
   ]
  },
  {
   "cell_type": "code",
   "execution_count": null,
   "id": "86f21aa9",
   "metadata": {},
   "outputs": [],
   "source": []
  }
 ],
 "metadata": {
  "kernelspec": {
   "display_name": "Python 3 (ipykernel)",
   "language": "python",
   "name": "python3"
  },
  "language_info": {
   "codemirror_mode": {
    "name": "ipython",
    "version": 3
   },
   "file_extension": ".py",
   "mimetype": "text/x-python",
   "name": "python",
   "nbconvert_exporter": "python",
   "pygments_lexer": "ipython3",
   "version": "3.11.3"
  }
 },
 "nbformat": 4,
 "nbformat_minor": 5
}
