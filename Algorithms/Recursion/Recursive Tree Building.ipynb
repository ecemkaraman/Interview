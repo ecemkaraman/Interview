{
 "cells": [
  {
   "cell_type": "markdown",
   "id": "c1626746",
   "metadata": {},
   "source": [
    "### 15. **Recursive Tree Building**\n",
    "\n",
    "- **Description**: Problems where recursion is used to construct trees, such as binary trees or binary search trees, by recursively constructing left and right subtrees.\n",
    "- **Popular Problems**:\n",
    "    - **Convert Sorted Array to Binary Search Tree** (LeetCode 108)\n",
    "    - **Construct Binary Tree from Preorder and Inorder Traversal** (LeetCode 105)\n",
    "    - **Construct Binary Tree from Inorder and Postorder Traversal** (LeetCode 106)\n",
    "    - **Unique Binary Search Trees II** (LeetCode 95)"
   ]
  },
  {
   "cell_type": "code",
   "execution_count": null,
   "id": "4ec73d04",
   "metadata": {},
   "outputs": [],
   "source": []
  }
 ],
 "metadata": {
  "kernelspec": {
   "display_name": "Python 3 (ipykernel)",
   "language": "python",
   "name": "python3"
  },
  "language_info": {
   "codemirror_mode": {
    "name": "ipython",
    "version": 3
   },
   "file_extension": ".py",
   "mimetype": "text/x-python",
   "name": "python",
   "nbconvert_exporter": "python",
   "pygments_lexer": "ipython3",
   "version": "3.11.3"
  }
 },
 "nbformat": 4,
 "nbformat_minor": 5
}
