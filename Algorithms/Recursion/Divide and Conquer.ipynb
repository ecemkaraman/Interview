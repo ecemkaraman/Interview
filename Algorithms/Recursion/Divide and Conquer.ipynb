{
 "cells": [
  {
   "cell_type": "markdown",
   "id": "9035a1ff",
   "metadata": {},
   "source": [
    "### 3. **Divide and Conquer**\n",
    "\n",
    "- **Description**: Problems where the main problem is recursively divided into smaller subproblems, solved independently, and their solutions are combined.\n",
    "- **Popular Problems**:\n",
    "    - **Merge Sort** (Custom Problem)\n",
    "    - **Quick Sort** (Custom Problem)\n",
    "    - **Sort an Array** (LeetCode 912)\n",
    "    - **Kth Largest Element in an Array** (LeetCode 215)\n",
    "    - **Maximum Subarray (Divide and Conquer)** (LeetCode 53)\n",
    "    - **Convert Sorted Array to Binary Search Tree** (LeetCode 108)"
   ]
  },
  {
   "cell_type": "code",
   "execution_count": null,
   "id": "6115a428",
   "metadata": {},
   "outputs": [],
   "source": []
  }
 ],
 "metadata": {
  "kernelspec": {
   "display_name": "Python 3 (ipykernel)",
   "language": "python",
   "name": "python3"
  },
  "language_info": {
   "codemirror_mode": {
    "name": "ipython",
    "version": 3
   },
   "file_extension": ".py",
   "mimetype": "text/x-python",
   "name": "python",
   "nbconvert_exporter": "python",
   "pygments_lexer": "ipython3",
   "version": "3.11.3"
  }
 },
 "nbformat": 4,
 "nbformat_minor": 5
}
