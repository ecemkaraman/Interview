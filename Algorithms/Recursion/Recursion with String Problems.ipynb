{
 "cells": [
  {
   "cell_type": "markdown",
   "id": "485cfacd",
   "metadata": {},
   "source": [
    "### 9. **Recursion with String Problems**\n",
    "\n",
    "- **Description**: String manipulation problems that can be solved using recursive techniques, often involving splitting strings or recursive backtracking for generation problems.\n",
    "- **Popular Problems**:\n",
    "    - **Regular Expression Matching** (LeetCode 10)\n",
    "    - **Wildcard Matching** (LeetCode 44)\n",
    "    - **Decode String** (LeetCode 394)\n",
    "    - **Longest Palindromic Substring** (LeetCode 5, recursive approach)\n",
    "    - **Restore IP Addresses** (LeetCode 93)"
   ]
  },
  {
   "cell_type": "code",
   "execution_count": null,
   "id": "ed7ec81d",
   "metadata": {},
   "outputs": [],
   "source": []
  }
 ],
 "metadata": {
  "kernelspec": {
   "display_name": "Python 3 (ipykernel)",
   "language": "python",
   "name": "python3"
  },
  "language_info": {
   "codemirror_mode": {
    "name": "ipython",
    "version": 3
   },
   "file_extension": ".py",
   "mimetype": "text/x-python",
   "name": "python",
   "nbconvert_exporter": "python",
   "pygments_lexer": "ipython3",
   "version": "3.11.3"
  }
 },
 "nbformat": 4,
 "nbformat_minor": 5
}
