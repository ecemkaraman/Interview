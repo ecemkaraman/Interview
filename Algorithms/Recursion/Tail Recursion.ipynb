{
 "cells": [
  {
   "cell_type": "markdown",
   "id": "0a9bb5f0",
   "metadata": {},
   "source": [
    "### 14. **Tail Recursion**\n",
    "\n",
    "- **Description**: Problems where the recursive call is the last operation performed before returning the result. Though rare in interview settings, it can be an efficient form of recursion.\n",
    "- **Popular Problems**:\n",
    "    - **Factorial (Tail Recursive)** (Custom Problem)\n",
    "    - **Fibonacci Number (Tail Recursive)** (Custom Problem)"
   ]
  },
  {
   "cell_type": "code",
   "execution_count": null,
   "id": "4e7bffab",
   "metadata": {},
   "outputs": [],
   "source": []
  }
 ],
 "metadata": {
  "kernelspec": {
   "display_name": "Python 3 (ipykernel)",
   "language": "python",
   "name": "python3"
  },
  "language_info": {
   "codemirror_mode": {
    "name": "ipython",
    "version": 3
   },
   "file_extension": ".py",
   "mimetype": "text/x-python",
   "name": "python",
   "nbconvert_exporter": "python",
   "pygments_lexer": "ipython3",
   "version": "3.11.3"
  }
 },
 "nbformat": 4,
 "nbformat_minor": 5
}
