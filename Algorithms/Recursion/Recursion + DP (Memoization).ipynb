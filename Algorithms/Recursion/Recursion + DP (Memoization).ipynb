{
 "cells": [
  {
   "cell_type": "markdown",
   "id": "9a4c1a5b",
   "metadata": {},
   "source": [
    "### 5. **Recursion with Dynamic Programming (Memoization)**\n",
    "\n",
    "- **Description**: Problems where recursion leads to repeated subproblem computations, so memoization (caching results) is used to optimize time complexity.\n",
    "- **Popular Problems**:\n",
    "    - **Fibonacci Number** (LeetCode 509, with memoization)\n",
    "    - **Climbing Stairs** (LeetCode 70, with memoization)\n",
    "    - **House Robber** (LeetCode 198)\n",
    "    - **Unique Paths** (LeetCode 62)\n",
    "    - **Longest Palindromic Subsequence** (LeetCode 516)"
   ]
  },
  {
   "cell_type": "code",
   "execution_count": null,
   "id": "7bc3a0dd",
   "metadata": {},
   "outputs": [],
   "source": []
  }
 ],
 "metadata": {
  "kernelspec": {
   "display_name": "Python 3 (ipykernel)",
   "language": "python",
   "name": "python3"
  },
  "language_info": {
   "codemirror_mode": {
    "name": "ipython",
    "version": 3
   },
   "file_extension": ".py",
   "mimetype": "text/x-python",
   "name": "python",
   "nbconvert_exporter": "python",
   "pygments_lexer": "ipython3",
   "version": "3.11.3"
  }
 },
 "nbformat": 4,
 "nbformat_minor": 5
}
