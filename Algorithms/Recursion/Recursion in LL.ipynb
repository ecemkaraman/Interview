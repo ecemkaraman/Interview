{
 "cells": [
  {
   "cell_type": "markdown",
   "id": "86493a3b",
   "metadata": {},
   "source": [
    "### 7. **Recursion in Linked Lists**\n",
    "\n",
    "- **Description**: Linked list problems often use recursion to traverse nodes or reverse the list since recursion provides a natural way to go deep in linked lists.\n",
    "- **Popular Problems**:\n",
    "    - **Reverse Linked List** (LeetCode 206, recursive approach)\n",
    "    - **Swap Nodes in Pairs** (LeetCode 24)\n",
    "    - **Merge Two Sorted Lists** (LeetCode 21)\n",
    "    - **Palindrome Linked List** (LeetCode 234, recursive approach)\n",
    "    - **Flatten a Multilevel Doubly Linked List** (LeetCode 430)"
   ]
  },
  {
   "cell_type": "code",
   "execution_count": null,
   "id": "c7c5fe65",
   "metadata": {},
   "outputs": [],
   "source": []
  }
 ],
 "metadata": {
  "kernelspec": {
   "display_name": "Python 3 (ipykernel)",
   "language": "python",
   "name": "python3"
  },
  "language_info": {
   "codemirror_mode": {
    "name": "ipython",
    "version": 3
   },
   "file_extension": ".py",
   "mimetype": "text/x-python",
   "name": "python",
   "nbconvert_exporter": "python",
   "pygments_lexer": "ipython3",
   "version": "3.11.3"
  }
 },
 "nbformat": 4,
 "nbformat_minor": 5
}
