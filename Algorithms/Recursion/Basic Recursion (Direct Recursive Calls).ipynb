{
 "cells": [
  {
   "cell_type": "markdown",
   "id": "0b64319c",
   "metadata": {},
   "source": [
    "### 1. **Basic Recursion (Direct Recursive Calls)**\n",
    "\n",
    "- **Description**: Problems that require solving smaller subproblems by calling the same function with modified inputs. These are often straightforward, involving direct recursion.\n",
    "- **Popular Problems**:\n",
    "    - **Factorial** (Custom Problem)\n",
    "    - **Fibonacci Number** (LeetCode 509)\n",
    "    - **Climbing Stairs** (LeetCode 70)\n",
    "    - **Power of Two** (LeetCode 231)\n",
    "    - **Reverse Linked List** (LeetCode 206)"
   ]
  },
  {
   "cell_type": "code",
   "execution_count": null,
   "id": "2468de05",
   "metadata": {},
   "outputs": [],
   "source": []
  }
 ],
 "metadata": {
  "kernelspec": {
   "display_name": "Python 3 (ipykernel)",
   "language": "python",
   "name": "python3"
  },
  "language_info": {
   "codemirror_mode": {
    "name": "ipython",
    "version": 3
   },
   "file_extension": ".py",
   "mimetype": "text/x-python",
   "name": "python",
   "nbconvert_exporter": "python",
   "pygments_lexer": "ipython3",
   "version": "3.11.3"
  }
 },
 "nbformat": 4,
 "nbformat_minor": 5
}
