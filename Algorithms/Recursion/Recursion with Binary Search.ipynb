{
 "cells": [
  {
   "cell_type": "markdown",
   "id": "bf513e81",
   "metadata": {},
   "source": [
    "### 12. **Recursion with Binary Search**\n",
    "\n",
    "- **Description**: Problems where recursion is used with binary search to efficiently search for an element in sorted arrays or perform operations like finding a peak element.\n",
    "- **Popular Problems**:\n",
    "    - **Binary Search** (LeetCode 704, recursive approach)\n",
    "    - **Search in Rotated Sorted Array** (LeetCode 33)\n",
    "    - **Find Minimum in Rotated Sorted Array** (LeetCode 153)\n",
    "    - **Find Peak Element** (LeetCode 162)\n",
    "    - **Kth Smallest Element in a BST** (LeetCode 230)"
   ]
  },
  {
   "cell_type": "code",
   "execution_count": null,
   "id": "835a6796",
   "metadata": {},
   "outputs": [],
   "source": []
  }
 ],
 "metadata": {
  "kernelspec": {
   "display_name": "Python 3 (ipykernel)",
   "language": "python",
   "name": "python3"
  },
  "language_info": {
   "codemirror_mode": {
    "name": "ipython",
    "version": 3
   },
   "file_extension": ".py",
   "mimetype": "text/x-python",
   "name": "python",
   "nbconvert_exporter": "python",
   "pygments_lexer": "ipython3",
   "version": "3.11.3"
  }
 },
 "nbformat": 4,
 "nbformat_minor": 5
}
