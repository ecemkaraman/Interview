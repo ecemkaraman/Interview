{
 "cells": [
  {
   "cell_type": "markdown",
   "id": "aa6ad777",
   "metadata": {},
   "source": [
    "### 13. **Memoization and Recursion with LCS / Subsequence**\n",
    "\n",
    "- **Description**: Problems where recursion with memoization is used to find the longest common subsequence, palindromic subsequences, or other similar dynamic programming problems.\n",
    "- **Popular Problems**:\n",
    "    - **Longest Common Subsequence** (LeetCode 1143)\n",
    "    - **Longest Increasing Subsequence** (LeetCode 300)\n",
    "    - **Longest Palindromic Subsequence** (LeetCode 516)\n",
    "    - **Distinct Subsequences** (LeetCode 115)\n",
    "    - **Edit Distance** (LeetCode 72)"
   ]
  },
  {
   "cell_type": "code",
   "execution_count": null,
   "id": "78c3bda5",
   "metadata": {},
   "outputs": [],
   "source": []
  }
 ],
 "metadata": {
  "kernelspec": {
   "display_name": "Python 3 (ipykernel)",
   "language": "python",
   "name": "python3"
  },
  "language_info": {
   "codemirror_mode": {
    "name": "ipython",
    "version": 3
   },
   "file_extension": ".py",
   "mimetype": "text/x-python",
   "name": "python",
   "nbconvert_exporter": "python",
   "pygments_lexer": "ipython3",
   "version": "3.11.3"
  }
 },
 "nbformat": 4,
 "nbformat_minor": 5
}
