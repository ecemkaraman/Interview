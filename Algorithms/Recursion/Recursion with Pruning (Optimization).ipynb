{
 "cells": [
  {
   "cell_type": "markdown",
   "id": "cb9af73d",
   "metadata": {},
   "source": [
    "### 11. **Recursion with Pruning (Optimization)**\n",
    "\n",
    "- **Description**: Recursion combined with pruning, where branches of the recursion tree are cut off early when it’s clear they won't lead to a valid solution.\n",
    "- **Popular Problems**:\n",
    "    - **N-Queens** (LeetCode 51)\n",
    "    - **Sudoku Solver** (LeetCode 37)\n",
    "    - **Word Search** (LeetCode 79)\n",
    "    - **Combination Sum II** (LeetCode 40)\n",
    "    - **Palindrome Partitioning** (LeetCode 131)"
   ]
  },
  {
   "cell_type": "code",
   "execution_count": null,
   "id": "e4e0cea2",
   "metadata": {},
   "outputs": [],
   "source": []
  }
 ],
 "metadata": {
  "kernelspec": {
   "display_name": "Python 3 (ipykernel)",
   "language": "python",
   "name": "python3"
  },
  "language_info": {
   "codemirror_mode": {
    "name": "ipython",
    "version": 3
   },
   "file_extension": ".py",
   "mimetype": "text/x-python",
   "name": "python",
   "nbconvert_exporter": "python",
   "pygments_lexer": "ipython3",
   "version": "3.11.3"
  }
 },
 "nbformat": 4,
 "nbformat_minor": 5
}
