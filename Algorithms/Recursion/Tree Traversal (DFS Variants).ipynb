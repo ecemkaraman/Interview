{
 "cells": [
  {
   "cell_type": "markdown",
   "id": "27b126dc",
   "metadata": {},
   "source": [
    "### 4. **Tree Traversal (DFS Variants)**\n",
    "\n",
    "- **Description**: Problems involving recursion to traverse binary trees (or n-ary trees) using different depth-first traversal techniques like preorder, inorder, and postorder traversal.\n",
    "- **Popular Problems**:\n",
    "    - **Binary Tree Inorder Traversal** (LeetCode 94)\n",
    "    - **Binary Tree Preorder Traversal** (LeetCode 144)\n",
    "    - **Binary Tree Postorder Traversal** (LeetCode 145)\n",
    "    - **Maximum Depth of Binary Tree** (LeetCode 104)\n",
    "    - **Path Sum** (LeetCode 112)"
   ]
  },
  {
   "cell_type": "code",
   "execution_count": null,
   "id": "4bfd3346",
   "metadata": {},
   "outputs": [],
   "source": []
  }
 ],
 "metadata": {
  "kernelspec": {
   "display_name": "Python 3 (ipykernel)",
   "language": "python",
   "name": "python3"
  },
  "language_info": {
   "codemirror_mode": {
    "name": "ipython",
    "version": 3
   },
   "file_extension": ".py",
   "mimetype": "text/x-python",
   "name": "python",
   "nbconvert_exporter": "python",
   "pygments_lexer": "ipython3",
   "version": "3.11.3"
  }
 },
 "nbformat": 4,
 "nbformat_minor": 5
}
