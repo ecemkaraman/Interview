{
 "cells": [
  {
   "cell_type": "markdown",
   "id": "74c2082f",
   "metadata": {},
   "source": [
    "### **13. Maximum/Minimum Subarray Problems**\n",
    "\n",
    "**Pattern**:\n",
    "\n",
    "- Problems that focus on finding the maximum or minimum contiguous subarray.\n",
    "\n",
    "**Key Characteristics**:\n",
    "\n",
    "- Can be solved using Kadane’s algorithm or similar approaches with DP.\n",
    "\n",
    "**LeetCode Examples**:\n",
    "\n",
    "- **LeetCode 53**: Maximum Subarray\n",
    "- **LeetCode 152**: Maximum Product Subarray\n",
    "- **LeetCode 715**: Range Module (finding ranges with specific sums)"
   ]
  },
  {
   "cell_type": "code",
   "execution_count": null,
   "id": "38870b35",
   "metadata": {},
   "outputs": [],
   "source": []
  }
 ],
 "metadata": {
  "kernelspec": {
   "display_name": "Python 3 (ipykernel)",
   "language": "python",
   "name": "python3"
  },
  "language_info": {
   "codemirror_mode": {
    "name": "ipython",
    "version": 3
   },
   "file_extension": ".py",
   "mimetype": "text/x-python",
   "name": "python",
   "nbconvert_exporter": "python",
   "pygments_lexer": "ipython3",
   "version": "3.11.3"
  }
 },
 "nbformat": 4,
 "nbformat_minor": 5
}
