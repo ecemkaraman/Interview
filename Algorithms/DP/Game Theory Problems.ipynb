{
 "cells": [
  {
   "cell_type": "markdown",
   "id": "bf56ffe3",
   "metadata": {},
   "source": [
    "### **7. Game Theory Problems**\n",
    "\n",
    "**Pattern**:\n",
    "\n",
    "- Problems involving strategy where players make decisions to optimize their outcome.\n",
    "\n",
    "**Key Characteristics**:\n",
    "\n",
    "- Often involves a turn-based structure with optimal strategy choices.\n",
    "- Can be approached using minimax or memoization.\n",
    "\n",
    "**LeetCode Examples**:\n",
    "\n",
    "- **LeetCode 877**: Stone Game (optimal moves)\n",
    "- **LeetCode 964**: Least Operators to Express Number (dynamic programming)\n",
    "- **LeetCode 780**: Reaching Points (optimal path strategy)"
   ]
  },
  {
   "cell_type": "code",
   "execution_count": null,
   "id": "7fd2e859",
   "metadata": {},
   "outputs": [],
   "source": []
  }
 ],
 "metadata": {
  "kernelspec": {
   "display_name": "Python 3 (ipykernel)",
   "language": "python",
   "name": "python3"
  },
  "language_info": {
   "codemirror_mode": {
    "name": "ipython",
    "version": 3
   },
   "file_extension": ".py",
   "mimetype": "text/x-python",
   "name": "python",
   "nbconvert_exporter": "python",
   "pygments_lexer": "ipython3",
   "version": "3.11.3"
  }
 },
 "nbformat": 4,
 "nbformat_minor": 5
}
