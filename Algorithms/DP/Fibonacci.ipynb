{
 "cells": [
  {
   "cell_type": "markdown",
   "id": "10fc590f",
   "metadata": {},
   "source": [
    "### **1. Fibonacci and Related Problems**\n",
    "\n",
    "**Pattern**:\n",
    "\n",
    "- Problems that can be reduced to computing Fibonacci-like sequences using memoization or tabulation.\n",
    "\n",
    "**Key Characteristics**:\n",
    "\n",
    "- Recursive structure where the solution depends on smaller subproblems.\n",
    "- Often involves overlapping subproblems.\n",
    "\n",
    "**LeetCode Examples**:\n",
    "\n",
    "- **LeetCode 70**: Climbing Stairs (fibonacci sequence variant)\n",
    "- **LeetCode 509**: Fibonacci Number\n",
    "- **LeetCode 746**: Min Cost Climbing Stairs (related to the Fibonacci approach)"
   ]
  },
  {
   "cell_type": "code",
   "execution_count": null,
   "id": "1cc84655",
   "metadata": {},
   "outputs": [],
   "source": []
  }
 ],
 "metadata": {
  "kernelspec": {
   "display_name": "Python 3 (ipykernel)",
   "language": "python",
   "name": "python3"
  },
  "language_info": {
   "codemirror_mode": {
    "name": "ipython",
    "version": 3
   },
   "file_extension": ".py",
   "mimetype": "text/x-python",
   "name": "python",
   "nbconvert_exporter": "python",
   "pygments_lexer": "ipython3",
   "version": "3.11.3"
  }
 },
 "nbformat": 4,
 "nbformat_minor": 5
}
