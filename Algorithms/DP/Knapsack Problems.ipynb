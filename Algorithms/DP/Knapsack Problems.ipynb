{
 "cells": [
  {
   "cell_type": "markdown",
   "id": "770b1d34",
   "metadata": {},
   "source": [
    "### **2. Knapsack Problems**\n",
    "\n",
    "**Pattern**:\n",
    "\n",
    "- Problems that involve optimizing the selection of items to maximize or minimize a value given constraints.\n",
    "\n",
    "**Key Characteristics**:\n",
    "\n",
    "- Two main types: 0/1 Knapsack (selecting or not selecting items) and Fractional Knapsack (dividing items).\n",
    "- Can be solved using either a 2D or 1D DP array.\n",
    "\n",
    "**LeetCode Examples**:\n",
    "\n",
    "- **LeetCode 416**: Partition Equal Subset Sum\n",
    "- **LeetCode 0/1 Knapsack**: **LeetCode 416**: Can Partition\n",
    "- **LeetCode 494**: Target Sum (similar to subset sum)\n",
    "- **LeetCode 322**: Coin Change (variation of the knapsack problem)"
   ]
  },
  {
   "cell_type": "code",
   "execution_count": null,
   "id": "df95ba84",
   "metadata": {},
   "outputs": [],
   "source": []
  }
 ],
 "metadata": {
  "kernelspec": {
   "display_name": "Python 3 (ipykernel)",
   "language": "python",
   "name": "python3"
  },
  "language_info": {
   "codemirror_mode": {
    "name": "ipython",
    "version": 3
   },
   "file_extension": ".py",
   "mimetype": "text/x-python",
   "name": "python",
   "nbconvert_exporter": "python",
   "pygments_lexer": "ipython3",
   "version": "3.11.3"
  }
 },
 "nbformat": 4,
 "nbformat_minor": 5
}
