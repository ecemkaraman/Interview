{
 "cells": [
  {
   "cell_type": "markdown",
   "id": "81196512",
   "metadata": {},
   "source": [
    "### **4. String Problems**\n",
    "\n",
    "**Pattern**:\n",
    "\n",
    "- Problems that involve manipulating strings or comparing them for specific properties or transformations.\n",
    "\n",
    "**Key Characteristics**:\n",
    "\n",
    "- Often uses a 2D array to represent combinations of characters or subsequences.\n",
    "- Commonly involves operations like insertions, deletions, or substitutions.\n",
    "\n",
    "**LeetCode Examples**:\n",
    "\n",
    "- **LeetCode 1143**: Longest Common Subsequence\n",
    "- **LeetCode 300**: Longest Increasing Subsequence\n",
    "- **LeetCode 5**: Longest Palindromic Substring\n",
    "- **LeetCode 72**: Edit Distance (minimum operations to convert one string to another)\n",
    "- **LeetCode 132**: Palindrome Partitioning II (min cuts to partition)"
   ]
  },
  {
   "cell_type": "code",
   "execution_count": null,
   "id": "7ca67848",
   "metadata": {},
   "outputs": [],
   "source": []
  }
 ],
 "metadata": {
  "kernelspec": {
   "display_name": "Python 3 (ipykernel)",
   "language": "python",
   "name": "python3"
  },
  "language_info": {
   "codemirror_mode": {
    "name": "ipython",
    "version": 3
   },
   "file_extension": ".py",
   "mimetype": "text/x-python",
   "name": "python",
   "nbconvert_exporter": "python",
   "pygments_lexer": "ipython3",
   "version": "3.11.3"
  }
 },
 "nbformat": 4,
 "nbformat_minor": 5
}
