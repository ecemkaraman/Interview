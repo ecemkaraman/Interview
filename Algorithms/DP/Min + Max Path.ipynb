{
 "cells": [
  {
   "cell_type": "markdown",
   "id": "da99fa79",
   "metadata": {},
   "source": [
    "### **11. Minimum/Maximum Path Problems**\n",
    "\n",
    "**Pattern**:\n",
    "\n",
    "- Problems focused on finding the minimum or maximum path cost in weighted graphs or grids.\n",
    "\n",
    "**Key Characteristics**:\n",
    "\n",
    "- Involves pathfinding with added weights for each move or transition.\n",
    "\n",
    "**LeetCode Examples**:\n",
    "\n",
    "- **LeetCode 931**: Minimum Falling Path Sum\n",
    "- **LeetCode 1289**: Minimum Falling Path Sum II (with constraints)\n",
    "- **LeetCode 1615**: Maximal Network Rank"
   ]
  },
  {
   "cell_type": "code",
   "execution_count": null,
   "id": "a3498f09",
   "metadata": {},
   "outputs": [],
   "source": []
  }
 ],
 "metadata": {
  "kernelspec": {
   "display_name": "Python 3 (ipykernel)",
   "language": "python",
   "name": "python3"
  },
  "language_info": {
   "codemirror_mode": {
    "name": "ipython",
    "version": 3
   },
   "file_extension": ".py",
   "mimetype": "text/x-python",
   "name": "python",
   "nbconvert_exporter": "python",
   "pygments_lexer": "ipython3",
   "version": "3.11.3"
  }
 },
 "nbformat": 4,
 "nbformat_minor": 5
}
