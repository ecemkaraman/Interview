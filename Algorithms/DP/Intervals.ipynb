{
 "cells": [
  {
   "cell_type": "markdown",
   "id": "95340be8",
   "metadata": {},
   "source": [
    "### **8. Interval Problems**\n",
    "\n",
    "**Pattern**:\n",
    "\n",
    "- Problems that involve intervals or ranges, often optimizing values based on the intervals.\n",
    "\n",
    "**Key Characteristics**:\n",
    "\n",
    "- Typically requires merging or selecting non-overlapping intervals.\n",
    "- Can involve sorting and then using DP to optimize selection.\n",
    "\n",
    "**LeetCode Examples**:\n",
    "\n",
    "- **LeetCode 646**: Maximum Length of Pair Chain\n",
    "- **LeetCode 763**: Partition Labels (partition based on intervals)\n",
    "- **LeetCode 352**: Data Stream as Disjoint Intervals (managing overlapping intervals)"
   ]
  },
  {
   "cell_type": "code",
   "execution_count": null,
   "id": "77fbc827",
   "metadata": {},
   "outputs": [],
   "source": []
  }
 ],
 "metadata": {
  "kernelspec": {
   "display_name": "Python 3 (ipykernel)",
   "language": "python",
   "name": "python3"
  },
  "language_info": {
   "codemirror_mode": {
    "name": "ipython",
    "version": 3
   },
   "file_extension": ".py",
   "mimetype": "text/x-python",
   "name": "python",
   "nbconvert_exporter": "python",
   "pygments_lexer": "ipython3",
   "version": "3.11.3"
  }
 },
 "nbformat": 4,
 "nbformat_minor": 5
}
