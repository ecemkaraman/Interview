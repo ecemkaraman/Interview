{
 "cells": [
  {
   "cell_type": "markdown",
   "id": "814278ff",
   "metadata": {},
   "source": [
    "### **12. Palindrome Problems**\n",
    "\n",
    "**Pattern**:\n",
    "\n",
    "- Problems that involve checking or constructing palindromic sequences or substrings.\n",
    "\n",
    "**Key Characteristics**:\n",
    "\n",
    "- Often involves dynamic programming to build solutions based on previous results.\n",
    "\n",
    "**LeetCode Examples**:\n",
    "\n",
    "- **LeetCode 516**: Longest Palindromic Subsequence\n",
    "- **LeetCode 5**: Longest Palindromic Substring\n",
    "- **LeetCode 131**: Palindrome Partitioning (minimum cuts)"
   ]
  },
  {
   "cell_type": "code",
   "execution_count": null,
   "id": "96e8600b",
   "metadata": {},
   "outputs": [],
   "source": []
  }
 ],
 "metadata": {
  "kernelspec": {
   "display_name": "Python 3 (ipykernel)",
   "language": "python",
   "name": "python3"
  },
  "language_info": {
   "codemirror_mode": {
    "name": "ipython",
    "version": 3
   },
   "file_extension": ".py",
   "mimetype": "text/x-python",
   "name": "python",
   "nbconvert_exporter": "python",
   "pygments_lexer": "ipython3",
   "version": "3.11.3"
  }
 },
 "nbformat": 4,
 "nbformat_minor": 5
}
