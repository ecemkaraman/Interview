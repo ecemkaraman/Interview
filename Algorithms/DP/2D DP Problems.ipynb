{
 "cells": [
  {
   "cell_type": "markdown",
   "id": "ce8b835b",
   "metadata": {},
   "source": [
    "### **10. 2D DP Problems**\n",
    "\n",
    "**Pattern**:\n",
    "\n",
    "- Problems requiring two-dimensional DP for optimization or state representation.\n",
    "\n",
    "**Key Characteristics**:\n",
    "\n",
    "- Focused on optimizing paths or combinations over a two-dimensional grid or matrix.\n",
    "\n",
    "**LeetCode Examples**:\n",
    "\n",
    "- **LeetCode 516**: Longest Palindromic Subsequence\n",
    "- **LeetCode 300**: Longest Increasing Subsequence\n",
    "- **LeetCode 221**: Maximal Square (max square of 1s in a binary matrix)"
   ]
  },
  {
   "cell_type": "code",
   "execution_count": null,
   "id": "73948aa4",
   "metadata": {},
   "outputs": [],
   "source": []
  }
 ],
 "metadata": {
  "kernelspec": {
   "display_name": "Python 3 (ipykernel)",
   "language": "python",
   "name": "python3"
  },
  "language_info": {
   "codemirror_mode": {
    "name": "ipython",
    "version": 3
   },
   "file_extension": ".py",
   "mimetype": "text/x-python",
   "name": "python",
   "nbconvert_exporter": "python",
   "pygments_lexer": "ipython3",
   "version": "3.11.3"
  }
 },
 "nbformat": 4,
 "nbformat_minor": 5
}
