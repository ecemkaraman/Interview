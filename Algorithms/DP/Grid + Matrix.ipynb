{
 "cells": [
  {
   "cell_type": "markdown",
   "id": "2d8f66a0",
   "metadata": {},
   "source": [
    "### **5. Grid and Matrix Problems**\n",
    "\n",
    "**Pattern**:\n",
    "\n",
    "- Problems that require navigating through a grid or matrix while optimizing some value.\n",
    "\n",
    "**Key Characteristics**:\n",
    "\n",
    "- Often involves calculating paths or values based on neighboring cells.\n",
    "- Can be approached using 2D DP arrays.\n",
    "\n",
    "**LeetCode Examples**:\n",
    "\n",
    "- **LeetCode 62**: Unique Paths (counting paths in a grid)\n",
    "- **LeetCode 63**: Unique Paths II (with obstacles)\n",
    "- **LeetCode 70**: Unique Paths III (visit all cells)\n",
    "- **LeetCode 120**: Triangle (minimum path sum from top to bottom)\n",
    "- **LeetCode 413**: Arithmetic Slices (number of arithmetic subsequences in a grid)"
   ]
  },
  {
   "cell_type": "code",
   "execution_count": null,
   "id": "8ef8eec3",
   "metadata": {},
   "outputs": [],
   "source": []
  }
 ],
 "metadata": {
  "kernelspec": {
   "display_name": "Python 3 (ipykernel)",
   "language": "python",
   "name": "python3"
  },
  "language_info": {
   "codemirror_mode": {
    "name": "ipython",
    "version": 3
   },
   "file_extension": ".py",
   "mimetype": "text/x-python",
   "name": "python",
   "nbconvert_exporter": "python",
   "pygments_lexer": "ipython3",
   "version": "3.11.3"
  }
 },
 "nbformat": 4,
 "nbformat_minor": 5
}
