{
 "cells": [
  {
   "cell_type": "markdown",
   "id": "f910ec22",
   "metadata": {},
   "source": [
    "### **9. Bitmasking with DP**\n",
    "\n",
    "**Pattern**:\n",
    "\n",
    "- Problems that utilize bitmasking to represent states or subsets efficiently.\n",
    "\n",
    "**Key Characteristics**:\n",
    "\n",
    "- Often involves state representation using bits, allowing for compact storage of combinations or selections.\n",
    "- Typically used in combination with a DP array.\n",
    "\n",
    "**LeetCode Examples**:\n",
    "\n",
    "- **LeetCode 140**: Word Break II (finding all valid word breaks)\n",
    "- **LeetCode 524**: Longest Word in Dictionary through Deleting (filtering based on conditions)\n",
    "- **LeetCode 128**: Longest Consecutive Sequence (tracking states using bitmasks)"
   ]
  },
  {
   "cell_type": "code",
   "execution_count": null,
   "id": "3212177f",
   "metadata": {},
   "outputs": [],
   "source": []
  }
 ],
 "metadata": {
  "kernelspec": {
   "display_name": "Python 3 (ipykernel)",
   "language": "python",
   "name": "python3"
  },
  "language_info": {
   "codemirror_mode": {
    "name": "ipython",
    "version": 3
   },
   "file_extension": ".py",
   "mimetype": "text/x-python",
   "name": "python",
   "nbconvert_exporter": "python",
   "pygments_lexer": "ipython3",
   "version": "3.11.3"
  }
 },
 "nbformat": 4,
 "nbformat_minor": 5
}
