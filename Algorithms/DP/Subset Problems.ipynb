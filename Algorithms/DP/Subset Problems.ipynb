{
 "cells": [
  {
   "cell_type": "markdown",
   "id": "ee7b8484",
   "metadata": {},
   "source": [
    "### **3. Subset Problems**\n",
    "\n",
    "**Pattern**:\n",
    "\n",
    "- Problems that require finding subsets with specific properties, often involving summation or arrangement.\n",
    "\n",
    "**Key Characteristics**:\n",
    "\n",
    "- Related to partitioning sets or counting combinations.\n",
    "- Uses 2D or 1D arrays to keep track of achievable states.\n",
    "\n",
    "**LeetCode Examples**:\n",
    "\n",
    "- **LeetCode 78**: Subsets (finding all subsets)\n",
    "- **LeetCode 90**: Subsets II (finding subsets with duplicates)\n",
    "- **LeetCode 494**: Target Sum (using subsets to reach a specific sum)\n",
    "- **LeetCode 518**: Coin Change II (counting ways to make change)"
   ]
  },
  {
   "cell_type": "code",
   "execution_count": null,
   "id": "848b0c9f",
   "metadata": {},
   "outputs": [],
   "source": []
  }
 ],
 "metadata": {
  "kernelspec": {
   "display_name": "Python 3 (ipykernel)",
   "language": "python",
   "name": "python3"
  },
  "language_info": {
   "codemirror_mode": {
    "name": "ipython",
    "version": 3
   },
   "file_extension": ".py",
   "mimetype": "text/x-python",
   "name": "python",
   "nbconvert_exporter": "python",
   "pygments_lexer": "ipython3",
   "version": "3.11.3"
  }
 },
 "nbformat": 4,
 "nbformat_minor": 5
}
