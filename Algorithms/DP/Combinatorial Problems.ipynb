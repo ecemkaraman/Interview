{
 "cells": [
  {
   "cell_type": "markdown",
   "id": "13b1d688",
   "metadata": {},
   "source": [
    "### **6. Combinatorial Problems**\n",
    "\n",
    "**Pattern**:\n",
    "\n",
    "- Problems that require counting arrangements or combinations under constraints.\n",
    "\n",
    "**Key Characteristics**:\n",
    "\n",
    "- Often involves recursion and backtracking with memoization.\n",
    "- Can use combinatorial identities for optimization.\n",
    "\n",
    "**LeetCode Examples**:\n",
    "\n",
    "- **LeetCode 70**: Climbing Stairs (counting distinct ways)\n",
    "- **LeetCode 77**: Combinations (generate combinations)\n",
    "- **LeetCode 79**: Word Search (backtracking with DP)\n",
    "- **LeetCode 218**: The Skyline Problem (counting buildings)"
   ]
  },
  {
   "cell_type": "code",
   "execution_count": null,
   "id": "f2b6982b",
   "metadata": {},
   "outputs": [],
   "source": []
  }
 ],
 "metadata": {
  "kernelspec": {
   "display_name": "Python 3 (ipykernel)",
   "language": "python",
   "name": "python3"
  },
  "language_info": {
   "codemirror_mode": {
    "name": "ipython",
    "version": 3
   },
   "file_extension": ".py",
   "mimetype": "text/x-python",
   "name": "python",
   "nbconvert_exporter": "python",
   "pygments_lexer": "ipython3",
   "version": "3.11.3"
  }
 },
 "nbformat": 4,
 "nbformat_minor": 5
}
