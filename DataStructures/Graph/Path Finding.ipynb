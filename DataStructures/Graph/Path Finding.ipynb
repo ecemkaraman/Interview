{
 "cells": [
  {
   "cell_type": "markdown",
   "id": "6dda4c9b",
   "metadata": {},
   "source": [
    "Pattern: Path Finding\n",
    "Description: Problems that focus on finding paths in a graph, whether they be the shortest path, any path, or all paths.\n",
    "\n",
    "Popular Problems:\n",
    "\n",
    "Course Schedule (LeetCode 207)\n",
    "Course Schedule II (LeetCode 210)\n",
    "Word Ladder (LeetCode 127)\n",
    "Minimum Depth of Binary Tree (LeetCode 111)\n",
    "Unique Paths (LeetCode 62)"
   ]
  },
  {
   "cell_type": "code",
   "execution_count": null,
   "id": "caa1ecf0",
   "metadata": {},
   "outputs": [],
   "source": []
  }
 ],
 "metadata": {
  "kernelspec": {
   "display_name": "Python 3 (ipykernel)",
   "language": "python",
   "name": "python3"
  },
  "language_info": {
   "codemirror_mode": {
    "name": "ipython",
    "version": 3
   },
   "file_extension": ".py",
   "mimetype": "text/x-python",
   "name": "python",
   "nbconvert_exporter": "python",
   "pygments_lexer": "ipython3",
   "version": "3.11.3"
  }
 },
 "nbformat": 4,
 "nbformat_minor": 5
}
