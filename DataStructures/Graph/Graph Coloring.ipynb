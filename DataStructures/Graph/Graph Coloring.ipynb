{
 "cells": [
  {
   "cell_type": "markdown",
   "id": "a978bf98",
   "metadata": {},
   "source": [
    "6. Graph Coloring Problems\n",
    "Description: Problems that involve coloring the vertices of a graph in such a way that no two adjacent vertices share the same color.\n",
    "\n",
    "Popular Problems:\n",
    "\n",
    "Is Graph Bipartite? (LeetCode 785)\n",
    "Graph Valid Tree (LeetCode 261)\n",
    "Minimum Number of Colors to Color a Graph (LeetCode 1063)"
   ]
  }
 ],
 "metadata": {
  "kernelspec": {
   "display_name": "Python 3 (ipykernel)",
   "language": "python",
   "name": "python3"
  },
  "language_info": {
   "codemirror_mode": {
    "name": "ipython",
    "version": 3
   },
   "file_extension": ".py",
   "mimetype": "text/x-python",
   "name": "python",
   "nbconvert_exporter": "python",
   "pygments_lexer": "ipython3",
   "version": "3.11.3"
  }
 },
 "nbformat": 4,
 "nbformat_minor": 5
}
