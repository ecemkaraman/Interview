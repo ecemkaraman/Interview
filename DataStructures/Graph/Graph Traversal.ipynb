{
 "cells": [
  {
   "cell_type": "markdown",
   "id": "25f79868",
   "metadata": {},
   "source": [
    "3. Graph Traversal Techniques\n",
    "Description: Problems that require exploring all nodes in a graph using specific traversal techniques.\n",
    "\n",
    "Popular Problems:\n",
    "\n",
    "Binary Tree Level Order Traversal (LeetCode 102)\n",
    "All Paths From Source to Target (LeetCode 797)\n",
    "Subtree of Another Tree (LeetCode 572)\n",
    "Binary Tree Zigzag Level Order Traversal (LeetCode 103)"
   ]
  },
  {
   "cell_type": "code",
   "execution_count": null,
   "id": "5a6d388c",
   "metadata": {},
   "outputs": [],
   "source": []
  }
 ],
 "metadata": {
  "kernelspec": {
   "display_name": "Python 3 (ipykernel)",
   "language": "python",
   "name": "python3"
  },
  "language_info": {
   "codemirror_mode": {
    "name": "ipython",
    "version": 3
   },
   "file_extension": ".py",
   "mimetype": "text/x-python",
   "name": "python",
   "nbconvert_exporter": "python",
   "pygments_lexer": "ipython3",
   "version": "3.11.3"
  }
 },
 "nbformat": 4,
 "nbformat_minor": 5
}
