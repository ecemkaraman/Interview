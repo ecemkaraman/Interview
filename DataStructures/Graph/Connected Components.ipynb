{
 "cells": [
  {
   "cell_type": "markdown",
   "id": "703ebb5a",
   "metadata": {},
   "source": [
    "## Pattern: graph traversal, connected components, or grid-based traversal"
   ]
  },
  {
   "cell_type": "markdown",
   "id": "287afe48",
   "metadata": {},
   "source": [
    "### Summary of Similarities:\n",
    "\n",
    "- **Problem Structure**: All problems involve grid traversal, typically with DFS/BFS.\n",
    "- **Goal**: Whether counting islands, calculating areas, or propagating changes (like color or distance), these problems require processing connected components.\n",
    "- **Core Algorithm**: DFS/BFS can be applied to all, while Union-Find may be used for more advanced cases (like counting components in certain graph problems).\n",
    "\n",
    "### Tradeoff Discussion:\n",
    "\n",
    "- **DFS**: Good for recursive traversal but risks stack overflow for large grids.\n",
    "- **BFS**: More suitable for iterative solutions, avoids stack overflow, but can consume more memory due to queue usage.\n",
    "- **Union-Find**: Best for problems where we repeatedly query connected components, but its complexity is higher for simpler grid-based problems like these."
   ]
  },
  {
   "cell_type": "markdown",
   "id": "ddf3cb2c",
   "metadata": {},
   "source": [
    "### 1.Number of Islands (LeetCode #200)\n",
    "You are given an m x n grid filled with '1' (land) and '0' (water). You need to count the number of islands. An island is surrounded by water and is formed by connecting adjacent lands horizontally or vertically. "
   ]
  },
  {
   "cell_type": "markdown",
   "id": "b44b1733",
   "metadata": {},
   "source": [
    "Approach 1: DFS\n",
    "- Time Complexity: O(m * n) \n",
    "- Space Complexity: O(m * n) (recursion depth)"
   ]
  },
  {
   "cell_type": "code",
   "execution_count": null,
   "id": "72c15cdd",
   "metadata": {},
   "outputs": [],
   "source": [
    "def numIslands(grid):\n",
    "    if not grid:\n",
    "        return 0\n",
    "\n",
    "    def dfs(i, j):\n",
    "        # If we are out of bounds or at a water cell ('0'), return.\n",
    "        if i < 0 or i >= len(grid) or j < 0 or j >= len(grid[0]) or grid[i][j] == '0':\n",
    "            return\n",
    "\n",
    "        # Mark the current cell as visited by setting it to '0'.\n",
    "        grid[i][j] = '0'\n",
    "\n",
    "        # Recursively visit all connected neighbors (up, down, left, right).\n",
    "        dfs(i + 1, j)  # down\n",
    "        dfs(i - 1, j)  # up\n",
    "        dfs(i, j + 1)  # right\n",
    "        dfs(i, j - 1)  # left\n",
    "\n",
    "    island_count = 0\n",
    "    for i in range(len(grid)):\n",
    "        for j in range(len(grid[0])):\n",
    "            if grid[i][j] == '1':\n",
    "                # Start DFS on the new island.\n",
    "                dfs(i, j)\n",
    "                island_count += 1\n",
    "\n",
    "    return island_count"
   ]
  },
  {
   "cell_type": "markdown",
   "id": "5460ce83",
   "metadata": {},
   "source": [
    "Approach 2: BFS\n",
    "- Time Complexity: O(m * n) \n",
    "- Space Complexity: O(min(m, n)) (queue size)"
   ]
  },
  {
   "cell_type": "code",
   "execution_count": 4,
   "id": "64956169",
   "metadata": {},
   "outputs": [],
   "source": [
    "from collections import deque\n",
    "from typing import List\n",
    "\n",
    "class Solution:\n",
    "    def numIslandsBfs(self, grid: List[List[str]]) -> int:\n",
    "        if not grid:\n",
    "            return 0\n",
    "        directions = [(1, 0), (-1, 0), (0, 1), (0, -1)]\n",
    "        num_islands = 0\n",
    "        \n",
    "        for i in range(len(grid)): #Iterate over rows(y-axis)\n",
    "            for j in range(len(grid[0])): #iterate over columns(x-axis)\n",
    "                if grid[i][j] == '1':\n",
    "                    num_islands += 1\n",
    "                    queue = deque([(i, j)])\n",
    "                    while queue:\n",
    "                        x, y = queue.popleft() #(x,y)=current cell's coords\n",
    "                        #x=column_index=x-axis, y=row_index=y-axis\n",
    "                        if 0 <= x < len(grid) and 0 <= y < len(grid[0]) and grid[x][y] == '1':\n",
    "                            grid[x][y] = '0'  # mark as visited\n",
    "                            for dx, dy in directions:\n",
    "                                queue.append((x + dx, y + dy))\n",
    "        \n",
    "        return num_islands"
   ]
  },
  {
   "cell_type": "markdown",
   "id": "50ba247c",
   "metadata": {},
   "source": [
    "### 2. Max Area of Island (LeetCode #695):\n",
    "- **Problem**: Given a grid of '0's and '1's, find the maximum area of an island.\n",
    "- **Similarity**: Connected component in a grid, like \"Number of Islands.\"->Instead of counting islands, you need to find the size of the largest one.\n",
    "- **Approach**: Same DFS/BFS to explore islands, but now you keep track of the size of each island and return the maximum.\n",
    "\n",
    "- **Time Complexity**: O(m * n) for traversing the grid.\n",
    "- **Space Complexity**: O(m * n) for recursion stack or BFS queue."
   ]
  },
  {
   "cell_type": "code",
   "execution_count": null,
   "id": "7d89469d",
   "metadata": {},
   "outputs": [],
   "source": [
    "def maxAreaOfIsland(grid):\n",
    "    def dfs(i, j):\n",
    "        if i < 0 or i >= len(grid) or j < 0 or j >= len(grid[0]) or grid[i][j] == '0':\n",
    "            return 0\n",
    "        grid[i][j] = '0'  # Mark the cell as visited.\n",
    "        area = 1  # Current cell counts as area.\n",
    "        area += dfs(i + 1, j)  # Down\n",
    "        area += dfs(i - 1, j)  # Up\n",
    "        area += dfs(i, j + 1)  # Right\n",
    "        area += dfs(i, j - 1)  # Left\n",
    "        return area\n",
    "\n",
    "    max_area = 0\n",
    "    for i in range(len(grid)):\n",
    "        for j in range(len(grid[0])):\n",
    "            if grid[i][j] == '1':\n",
    "                max_area = max(max_area, dfs(i, j))\n",
    "    return max_area"
   ]
  },
  {
   "cell_type": "markdown",
   "id": "7e6cbe6b",
   "metadata": {},
   "source": [
    "### 3. **Surrounded Regions (LeetCode #130)**:\n",
    "- **Problem**: Given a grid where 'X' represents a region surrounded by 'O', flip all 'O's to 'X's that are surrounded by 'X'.\n",
    "- **Similarity**: Grid traversal/Connected component problem with boundary conditions.\n",
    "- **Key Difference**: Traverse from the boundary and focus on regions connected to it.\n",
    "- **Approach**: DFS/BFS from the boundary cells to mark non-surrounded 'O's & identify which 'O's should remain unflipped (those connected to the boundary).\n",
    "- **Time Complexity**: O(m * n).\n",
    "- **Space Complexity**: O(m * n)"
   ]
  },
  {
   "cell_type": "code",
   "execution_count": null,
   "id": "133d9e22",
   "metadata": {},
   "outputs": [],
   "source": [
    "def solve(board):\n",
    "    if not board or not board[0]:\n",
    "        return\n",
    "\n",
    "    def dfs(i, j):\n",
    "        if i < 0 or i >= len(board) or j < 0 or j >= len(board[0]) or board[i][j] != 'O':\n",
    "            return\n",
    "        board[i][j] = 'T'  # Temporarily mark 'O' to avoid flipping.\n",
    "        dfs(i + 1, j)\n",
    "        dfs(i - 1, j)\n",
    "        dfs(i, j + 1)\n",
    "        dfs(i, j - 1)\n",
    "\n",
    "    # Step 1: Start from boundary and mark non-surrounded 'O's.\n",
    "    for i in range(len(board)):\n",
    "        for j in range(len(board[0])):\n",
    "            if (i in [0, len(board) - 1] or j in [0, len(board[0]) - 1]) and board[i][j] == 'O':\n",
    "                dfs(i, j)\n",
    "\n",
    "    # Step 2: Flip all remaining 'O's to 'X', and 'T' back to 'O'.\n",
    "    for i in range(len(board)):\n",
    "        for j in range(len(board[0])):\n",
    "            if board[i][j] == 'O':\n",
    "                board[i][j] = 'X'\n",
    "            elif board[i][j] == 'T':\n",
    "                board[i][j] = 'O'"
   ]
  },
  {
   "cell_type": "markdown",
   "id": "f65c199c",
   "metadata": {},
   "source": [
    "### 4. **Walls and Gates (LeetCode #286)**:\n",
    "- **Problem**: Given a grid where some rooms are marked as gates (0), walls (-1), or empty (INF), fill each empty room with the number of steps to the nearest gate.\n",
    "- **Problem Type**: Shortest path traversal from multiple sources (gates).\n",
    "- **Similarity**: Traversing from specific points (gates) to fill the grid.\n",
    "- **Approach**: Use BFS from all gates at once to propagate the shortest distances.\n",
    "- **Key Difference**: Instead of DFS, BFS ensures the shortest path from each gate is propagated correctly.\n",
    "- **Time Complexity**: O(m * n).\n",
    "- **Space Complexity**: O(m * n) for BFS queue"
   ]
  },
  {
   "cell_type": "code",
   "execution_count": null,
   "id": "0609bd20",
   "metadata": {},
   "outputs": [],
   "source": [
    "from collections import deque\n",
    "\n",
    "def wallsAndGates(rooms):\n",
    "    if not rooms:\n",
    "        return\n",
    "\n",
    "    rows, cols = len(rooms), len(rooms[0])\n",
    "    queue = deque()\n",
    "\n",
    "    # Step 1: Add all gates (0s) to the queue.\n",
    "    for i in range(rows):\n",
    "        for j in range(cols):\n",
    "            if rooms[i][j] == 0:\n",
    "                queue.append((i, j))\n",
    "\n",
    "    # Step 2: Perform BFS to fill in distances.\n",
    "    directions = [(1, 0), (-1, 0), (0, 1), (0, -1)]\n",
    "    while queue:\n",
    "        i, j = queue.popleft()\n",
    "        for di, dj in directions:\n",
    "            new_i, new_j = i + di, j + dj\n",
    "            if 0 <= new_i < rows and 0 <= new_j < cols and rooms[new_i][new_j] == float('inf'):\n",
    "                rooms[new_i][new_j] = rooms[i][j] + 1\n",
    "                queue.append((new_i, new_j))"
   ]
  },
  {
   "cell_type": "markdown",
   "id": "424dd8a1",
   "metadata": {},
   "source": [
    "### 5. **Flood Fill (LeetCode #733)**:\n",
    "- **Problem**: Given an image represented by a 2D array, perform a flood fill on a starting cell (i, j) and replace all connected cells of the same color with a new color.\n",
    "- **Problem Type**: Connected component traversal\n",
    "- **Similarity**: Connected component problem with DFS/BFS traversal.\n",
    "- **Approach**: DFS/BFS from the starting cell to mark and replace all connected cells of the same color.\n",
    "- **Key Difference**: Modify connected components rather than just counting or marking them.\n",
    "- **Time Complexity**: O(m * n).\n",
    "- **Space Complexity**: O(m * n) for DFS recursion stack."
   ]
  },
  {
   "cell_type": "code",
   "execution_count": null,
   "id": "73a63551",
   "metadata": {},
   "outputs": [],
   "source": [
    "def floodFill(image, sr, sc, newColor):\n",
    "    original_color = image[sr][sc]\n",
    "    if original_color == newColor:\n",
    "        return image\n",
    "\n",
    "    def dfs(i, j):\n",
    "        if i < 0 or i >= len(image) or j < 0 or j >= len(image[0]) or image[i][j] != original_color:\n",
    "            return\n",
    "        image[i][j] = newColor\n",
    "        dfs(i + 1, j)\n",
    "        dfs(i - 1, j)\n",
    "        dfs(i, j + 1)\n",
    "        dfs(i, j - 1)\n",
    "\n",
    "    dfs(sr, sc)\n",
    "    return image"
   ]
  }
 ],
 "metadata": {
  "kernelspec": {
   "display_name": "Python 3 (ipykernel)",
   "language": "python",
   "name": "python3"
  },
  "language_info": {
   "codemirror_mode": {
    "name": "ipython",
    "version": 3
   },
   "file_extension": ".py",
   "mimetype": "text/x-python",
   "name": "python",
   "nbconvert_exporter": "python",
   "pygments_lexer": "ipython3",
   "version": "3.11.3"
  }
 },
 "nbformat": 4,
 "nbformat_minor": 5
}
