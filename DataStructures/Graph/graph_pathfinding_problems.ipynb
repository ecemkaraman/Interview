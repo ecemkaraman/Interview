{
 "cells": [
  {
   "cell_type": "markdown",
   "id": "1919b729",
   "metadata": {},
   "source": [
    "## LeetCode 127: Word Ladder"
   ]
  },
  {
   "cell_type": "markdown",
   "id": "426841a9",
   "metadata": {},
   "source": [
    "**Problem Definition**: Given two words (beginWord and endWord), and a dictionary's word list, find the length of the shortest transformation sequence from beginWord to endWord, such that only one letter can be changed at a time, and each transformed word must exist in the word list."
   ]
  },
  {
   "cell_type": "markdown",
   "id": "4a704adf",
   "metadata": {},
   "source": [
    "**Main Strategy**: Use **BFS** to find the shortest path in an unweighted graph formed by connecting words that differ by one character."
   ]
  },
  {
   "cell_type": "markdown",
   "id": "00c7531b",
   "metadata": {},
   "source": [
    "**Steps**:\n",
    "- 1. Add `beginWord` to the queue.\n",
    "- 2. For each word, explore all words differing by one letter that exist in the word list.\n",
    "- 3. Track visited words to prevent cycles.\n",
    "- 4. Continue until `endWord` is found or the queue is empty."
   ]
  },
  {
   "cell_type": "markdown",
   "id": "42d4bc74",
   "metadata": {},
   "source": [
    "**Complexity**: Time: O(M^2 * N), Space: O(M * N), where M is the length of words and N is the number of words in the list."
   ]
  },
  {
   "cell_type": "markdown",
   "id": "ace0764e",
   "metadata": {},
   "source": [
    "**Smart Interview Comment**: BFS is optimal here as it ensures the shortest path is found first in an unweighted word graph."
   ]
  },
  {
   "cell_type": "code",
   "execution_count": null,
   "id": "28838fb3",
   "metadata": {},
   "outputs": [],
   "source": [
    "from collections import deque\n",
    "\n",
    "def ladderLength(beginWord, endWord, wordList):\n",
    "    wordSet = set(wordList)\n",
    "    if endWord not in wordSet:\n",
    "        return 0\n",
    "    \n",
    "    queue = deque([(beginWord, 1)])\n",
    "    while queue:\n",
    "        current_word, level = queue.popleft()\n",
    "        for i in range(len(current_word)):\n",
    "            for c in 'abcdefghijklmnopqrstuvwxyz':\n",
    "                next_word = current_word[:i] + c + current_word[i+1:]\n",
    "                if next_word == endWord:\n",
    "                    return level + 1\n",
    "                if next_word in wordSet:\n",
    "                    wordSet.remove(next_word)\n",
    "                    queue.append((next_word, level + 1))\n",
    "    return 0"
   ]
  },
  {
   "cell_type": "markdown",
   "id": "9078d8a6",
   "metadata": {},
   "source": [
    "## LeetCode 200: Number of Islands"
   ]
  },
  {
   "cell_type": "markdown",
   "id": "a86dbc60",
   "metadata": {},
   "source": [
    "**Problem Definition**: Given a 2D grid of '1's (land) and '0's (water), count the number of islands where an island is surrounded by water and is formed by connecting adjacent lands horizontally or vertically."
   ]
  },
  {
   "cell_type": "markdown",
   "id": "05502e29",
   "metadata": {},
   "source": [
    "**Main Strategy**: Use **DFS** or **BFS** to explore each cell and mark connected land as visited."
   ]
  },
  {
   "cell_type": "markdown",
   "id": "dfcaf123",
   "metadata": {},
   "source": [
    "**Steps**:\n",
    "- 1. Iterate through each cell in the grid.\n",
    "- 2. For each '1', use DFS/BFS to mark the entire connected component.\n",
    "- 3. Increment the island count when a new component is found."
   ]
  },
  {
   "cell_type": "markdown",
   "id": "9ea9e439",
   "metadata": {},
   "source": [
    "**Complexity**: Time: O(M * N), Space: O(M * N), where M and N are the dimensions of the grid."
   ]
  },
  {
   "cell_type": "markdown",
   "id": "88c31ab8",
   "metadata": {},
   "source": [
    "**Smart Interview Comment**: BFS or DFS both work well; choose based on familiarity and recursion stack limits."
   ]
  },
  {
   "cell_type": "code",
   "execution_count": null,
   "id": "c497234c",
   "metadata": {},
   "outputs": [],
   "source": [
    "def numIslands(grid):\n",
    "    if not grid:\n",
    "        return 0\n",
    "    \n",
    "    def dfs(x, y):\n",
    "        if x < 0 or x >= len(grid) or y < 0 or y >= len(grid[0]) or grid[x][y] != '1':\n",
    "            return\n",
    "        grid[x][y] = '0'  # Mark as visited\n",
    "        dfs(x + 1, y)\n",
    "        dfs(x - 1, y)\n",
    "        dfs(x, y + 1)\n",
    "        dfs(x, y - 1)\n",
    "    \n",
    "    num_islands = 0\n",
    "    for i in range(len(grid)):\n",
    "        for j in range(len(grid[0])):\n",
    "            if grid[i][j] == '1':\n",
    "                num_islands += 1\n",
    "                dfs(i, j)\n",
    "    return num_islands"
   ]
  },
  {
   "cell_type": "markdown",
   "id": "0f7808ef",
   "metadata": {},
   "source": [
    "## LeetCode 743: Network Delay Time"
   ]
  },
  {
   "cell_type": "markdown",
   "id": "3e80580f",
   "metadata": {},
   "source": [
    "**Problem Definition**: Given a network of N nodes, represented as an edge list with travel times, find the time it takes for all nodes to receive a signal sent from a starting node K."
   ]
  },
  {
   "cell_type": "markdown",
   "id": "13415cc8",
   "metadata": {},
   "source": [
    "**Main Strategy**: Use **Dijkstra's algorithm** to find the shortest paths from the starting node to all other nodes."
   ]
  },
  {
   "cell_type": "markdown",
   "id": "bfe3a4ac",
   "metadata": {},
   "source": [
    "**Steps**:\n",
    "- 1. Create an adjacency list for the graph.\n",
    "- 2. Use a priority queue to explore the shortest known path to each node.\n",
    "- 3. Track visited nodes to avoid revisiting.\n",
    "- 4. Return the maximum time to reach a node or -1 if a node is unreachable."
   ]
  },
  {
   "cell_type": "markdown",
   "id": "c00fc2a1",
   "metadata": {},
   "source": [
    "**Complexity**: Time: O((N + E) log N), Space: O(N + E), where N is the number of nodes and E is the number of edges."
   ]
  },
  {
   "cell_type": "markdown",
   "id": "9b1d466e",
   "metadata": {},
   "source": [
    "**Smart Interview Comment**: Dijkstra's algorithm is efficient for finding shortest paths in weighted graphs with non-negative weights."
   ]
  },
  {
   "cell_type": "code",
   "execution_count": null,
   "id": "cecb87e3",
   "metadata": {},
   "outputs": [],
   "source": [
    "import heapq\n",
    "\n",
    "def networkDelayTime(times, N, K):\n",
    "    graph = {i: [] for i in range(1, N + 1)}\n",
    "    for u, v, w in times:\n",
    "        graph[u].append((v, w))\n",
    "    \n",
    "    min_heap = [(0, K)]  # (time, node)\n",
    "    visited = {}\n",
    "    \n",
    "    while min_heap:\n",
    "        time, node = heapq.heappop(min_heap)\n",
    "        if node in visited:\n",
    "            continue\n",
    "        visited[node] = time\n",
    "        for neighbor, weight in graph[node]:\n",
    "            if neighbor not in visited:\n",
    "                heapq.heappush(min_heap, (time + weight, neighbor))\n",
    "    \n",
    "    return max(visited.values()) if len(visited) == N else -1"
   ]
  }
 ],
 "metadata": {
  "kernelspec": {
   "display_name": "Python 3 (ipykernel)",
   "language": "python",
   "name": "python3"
  },
  "language_info": {
   "codemirror_mode": {
    "name": "ipython",
    "version": 3
   },
   "file_extension": ".py",
   "mimetype": "text/x-python",
   "name": "python",
   "nbconvert_exporter": "python",
   "pygments_lexer": "ipython3",
   "version": "3.11.3"
  }
 },
 "nbformat": 4,
 "nbformat_minor": 5
}
