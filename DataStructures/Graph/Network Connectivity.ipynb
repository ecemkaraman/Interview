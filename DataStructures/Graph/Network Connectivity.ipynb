{
 "cells": [
  {
   "cell_type": "code",
   "execution_count": null,
   "id": "aa5df862",
   "metadata": {},
   "outputs": [],
   "source": [
    "9. Network Connectivity Problems\n",
    "Description: Problems that assess connectivity between nodes in a network (often represented as a graph).\n",
    "\n",
    "Popular Problems:\n",
    "\n",
    "Number of Connected Components in an Undirected Graph (LeetCode 323)\n",
    "Redundant Connection (LeetCode 684)\n",
    "Redundant Connection II (LeetCode 685)"
   ]
  }
 ],
 "metadata": {
  "kernelspec": {
   "display_name": "Python 3 (ipykernel)",
   "language": "python",
   "name": "python3"
  },
  "language_info": {
   "codemirror_mode": {
    "name": "ipython",
    "version": 3
   },
   "file_extension": ".py",
   "mimetype": "text/x-python",
   "name": "python",
   "nbconvert_exporter": "python",
   "pygments_lexer": "ipython3",
   "version": "3.11.3"
  }
 },
 "nbformat": 4,
 "nbformat_minor": 5
}
