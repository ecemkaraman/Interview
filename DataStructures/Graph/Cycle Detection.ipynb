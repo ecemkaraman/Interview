{
 "cells": [
  {
   "cell_type": "code",
   "execution_count": null,
   "id": "21be8e38",
   "metadata": {},
   "outputs": [],
   "source": [
    "4. Cycle Detection\n",
    "Description: Problems that require detecting cycles in a graph, often in directed or undirected graphs.\n",
    "\n",
    "Popular Problems:\n",
    "\n",
    "Detect Cycle in an Undirected Graph (LeetCode 261)\n",
    "Course Schedule II (LeetCode 210) — (also involves detecting cycles)\n",
    "Linked List Cycle (LeetCode 141)\n",
    "Linked List Cycle II (LeetCode 142)"
   ]
  }
 ],
 "metadata": {
  "kernelspec": {
   "display_name": "Python 3 (ipykernel)",
   "language": "python",
   "name": "python3"
  },
  "language_info": {
   "codemirror_mode": {
    "name": "ipython",
    "version": 3
   },
   "file_extension": ".py",
   "mimetype": "text/x-python",
   "name": "python",
   "nbconvert_exporter": "python",
   "pygments_lexer": "ipython3",
   "version": "3.11.3"
  }
 },
 "nbformat": 4,
 "nbformat_minor": 5
}
