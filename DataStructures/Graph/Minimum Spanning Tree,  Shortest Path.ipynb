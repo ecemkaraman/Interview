{
 "cells": [
  {
   "cell_type": "markdown",
   "id": "83266c70",
   "metadata": {},
   "source": [
    "7. Minimum Spanning Tree / Shortest Path Algorithms\n",
    "Description: Problems that require finding minimum distances in weighted graphs.\n",
    "\n",
    "Popular Problems:\n",
    "\n",
    "Minimum Cost to Connect Sticks (LeetCode 1167)\n",
    "Network Delay Time (LeetCode 743)\n",
    "Dijkstra's Algorithm Implementation Problems (general graph problems)"
   ]
  },
  {
   "cell_type": "code",
   "execution_count": null,
   "id": "5cc5fbaa",
   "metadata": {},
   "outputs": [],
   "source": []
  }
 ],
 "metadata": {
  "kernelspec": {
   "display_name": "Python 3 (ipykernel)",
   "language": "python",
   "name": "python3"
  },
  "language_info": {
   "codemirror_mode": {
    "name": "ipython",
    "version": 3
   },
   "file_extension": ".py",
   "mimetype": "text/x-python",
   "name": "python",
   "nbconvert_exporter": "python",
   "pygments_lexer": "ipython3",
   "version": "3.11.3"
  }
 },
 "nbformat": 4,
 "nbformat_minor": 5
}
