{
 "cells": [
  {
   "cell_type": "markdown",
   "id": "c827a5c2",
   "metadata": {},
   "source": [
    "5. Topological Sorting\n",
    "Description: Problems that involve ordering nodes such that for every directed edge uv, vertex u comes before v.\n",
    "\n",
    "Popular Problems:\n",
    "\n",
    "Course Schedule (LeetCode 207)\n",
    "Course Schedule II (LeetCode 210)\n",
    "Minimum Height Trees (LeetCode 310)"
   ]
  }
 ],
 "metadata": {
  "kernelspec": {
   "display_name": "Python 3 (ipykernel)",
   "language": "python",
   "name": "python3"
  },
  "language_info": {
   "codemirror_mode": {
    "name": "ipython",
    "version": 3
   },
   "file_extension": ".py",
   "mimetype": "text/x-python",
   "name": "python",
   "nbconvert_exporter": "python",
   "pygments_lexer": "ipython3",
   "version": "3.11.3"
  }
 },
 "nbformat": 4,
 "nbformat_minor": 5
}
