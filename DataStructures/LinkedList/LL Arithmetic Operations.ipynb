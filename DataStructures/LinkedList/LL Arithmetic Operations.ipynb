{
 "cells": [
  {
   "cell_type": "markdown",
   "id": "bb78ff9c",
   "metadata": {},
   "source": [
    "### 7. **Linked List and Arithmetic Operations**\n",
    "\n",
    "- **Description**: Problems that involve performing arithmetic operations like addition or multiplication using linked lists.\n",
    "- **Popular Problems**:\n",
    "    - **Add Two Numbers** (LeetCode 2)\n",
    "    - **Add Two Numbers II** (LeetCode 445)\n",
    "    - **Multiply Strings** (LeetCode 43)\n",
    "    - **Subtract Two Numbers** — Custom problem (Similar to LeetCode 2)"
   ]
  },
  {
   "cell_type": "code",
   "execution_count": null,
   "id": "9f6e37de",
   "metadata": {},
   "outputs": [],
   "source": []
  }
 ],
 "metadata": {
  "kernelspec": {
   "display_name": "Python 3 (ipykernel)",
   "language": "python",
   "name": "python3"
  },
  "language_info": {
   "codemirror_mode": {
    "name": "ipython",
    "version": 3
   },
   "file_extension": ".py",
   "mimetype": "text/x-python",
   "name": "python",
   "nbconvert_exporter": "python",
   "pygments_lexer": "ipython3",
   "version": "3.11.3"
  }
 },
 "nbformat": 4,
 "nbformat_minor": 5
}
