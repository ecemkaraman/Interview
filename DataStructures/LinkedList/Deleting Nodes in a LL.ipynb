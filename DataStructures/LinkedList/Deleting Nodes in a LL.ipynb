{
 "cells": [
  {
   "cell_type": "markdown",
   "id": "6590ea7a",
   "metadata": {},
   "source": [
    "### 5. **Deleting Nodes in a Linked List**\n",
    "\n",
    "- **Description**: Problems where certain nodes need to be deleted based on specific conditions, including removing duplicates or deleting a given node.\n",
    "- **Popular Problems**:\n",
    "    - **Remove Duplicates from Sorted List** (LeetCode 83)\n",
    "    - **Remove Duplicates from Sorted List II** (LeetCode 82)\n",
    "    - **Delete Node in a Linked List** (LeetCode 237)\n",
    "    - **Remove Nth Node From End of List** (LeetCode 19)"
   ]
  },
  {
   "cell_type": "code",
   "execution_count": null,
   "id": "86de9550",
   "metadata": {},
   "outputs": [],
   "source": []
  }
 ],
 "metadata": {
  "kernelspec": {
   "display_name": "Python 3 (ipykernel)",
   "language": "python",
   "name": "python3"
  },
  "language_info": {
   "codemirror_mode": {
    "name": "ipython",
    "version": 3
   },
   "file_extension": ".py",
   "mimetype": "text/x-python",
   "name": "python",
   "nbconvert_exporter": "python",
   "pygments_lexer": "ipython3",
   "version": "3.11.3"
  }
 },
 "nbformat": 4,
 "nbformat_minor": 5
}
