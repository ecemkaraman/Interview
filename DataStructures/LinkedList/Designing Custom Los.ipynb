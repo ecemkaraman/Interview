{
 "cells": [
  {
   "cell_type": "markdown",
   "id": "d14d697b",
   "metadata": {},
   "source": [
    "### 15. **Designing Custom Linked Lists**\n",
    "\n",
    "- **Description**: Implementing custom linked lists (singly, doubly, or circular) with various operations.\n",
    "- **Popular Problems**:\n",
    "    - **Design Linked List** (LeetCode 707)\n",
    "    - **Design Circular Deque** (LeetCode 641)\n",
    "    - **LRU Cache** (LeetCode 146) — Uses a doubly linked list and a hash map."
   ]
  },
  {
   "cell_type": "code",
   "execution_count": null,
   "id": "2b09d577",
   "metadata": {},
   "outputs": [],
   "source": []
  }
 ],
 "metadata": {
  "kernelspec": {
   "display_name": "Python 3 (ipykernel)",
   "language": "python",
   "name": "python3"
  },
  "language_info": {
   "codemirror_mode": {
    "name": "ipython",
    "version": 3
   },
   "file_extension": ".py",
   "mimetype": "text/x-python",
   "name": "python",
   "nbconvert_exporter": "python",
   "pygments_lexer": "ipython3",
   "version": "3.11.3"
  }
 },
 "nbformat": 4,
 "nbformat_minor": 5
}
