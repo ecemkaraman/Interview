{
 "cells": [
  {
   "cell_type": "markdown",
   "id": "f501f779",
   "metadata": {},
   "source": [
    "### 3. **Cycle Detection**\n",
    "\n",
    "- **Description**: Problems where you need to detect if a linked list has a cycle or find the starting point of a cycle.\n",
    "- **Popular Problems**:\n",
    "    - **Linked List Cycle** (LeetCode 141)\n",
    "    - **Linked List Cycle II** (LeetCode 142)\n",
    "    - **Happy Number** (LeetCode 202)\n",
    "    - **Find the Duplicate Number** (LeetCode 287) — can be solved with cycle detection (Floyd's Tortoise and Hare)."
   ]
  },
  {
   "cell_type": "code",
   "execution_count": null,
   "id": "6b476488",
   "metadata": {},
   "outputs": [],
   "source": []
  }
 ],
 "metadata": {
  "kernelspec": {
   "display_name": "Python 3 (ipykernel)",
   "language": "python",
   "name": "python3"
  },
  "language_info": {
   "codemirror_mode": {
    "name": "ipython",
    "version": 3
   },
   "file_extension": ".py",
   "mimetype": "text/x-python",
   "name": "python",
   "nbconvert_exporter": "python",
   "pygments_lexer": "ipython3",
   "version": "3.11.3"
  }
 },
 "nbformat": 4,
 "nbformat_minor": 5
}
