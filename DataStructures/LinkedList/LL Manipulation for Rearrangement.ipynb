{
 "cells": [
  {
   "cell_type": "markdown",
   "id": "dcb81f53",
   "metadata": {},
   "source": [
    "### 11. **Linked List Manipulation for Rearrangement**\n",
    "\n",
    "- **Description**: Problems where you need to rearrange the nodes in a particular way.\n",
    "- **Popular Problems**:\n",
    "    - **Reorder List** (LeetCode 143)\n",
    "    - **Odd Even Linked List** (LeetCode 328)\n",
    "    - **Swap Nodes in Pairs** (LeetCode 24)"
   ]
  },
  {
   "cell_type": "code",
   "execution_count": null,
   "id": "7543faec",
   "metadata": {},
   "outputs": [],
   "source": []
  }
 ],
 "metadata": {
  "kernelspec": {
   "display_name": "Python 3 (ipykernel)",
   "language": "python",
   "name": "python3"
  },
  "language_info": {
   "codemirror_mode": {
    "name": "ipython",
    "version": 3
   },
   "file_extension": ".py",
   "mimetype": "text/x-python",
   "name": "python",
   "nbconvert_exporter": "python",
   "pygments_lexer": "ipython3",
   "version": "3.11.3"
  }
 },
 "nbformat": 4,
 "nbformat_minor": 5
}
