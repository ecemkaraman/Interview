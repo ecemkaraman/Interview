{
 "cells": [
  {
   "cell_type": "markdown",
   "id": "9c567da5",
   "metadata": {},
   "source": [
    "### 1. **Basic Operations (Insert, Delete, Search)**\n",
    "\n",
    "- **Description**: Problems focusing on fundamental linked list operations like inserting, deleting, or searching nodes.\n",
    "- **Popular Problems**:\n",
    "    - **Design Linked List** (LeetCode 707)\n",
    "    - **Delete Node in a Linked List** (LeetCode 237)\n",
    "    - **Remove Linked List Elements** (LeetCode 203)\n",
    "    - **Find the Middle of a Linked List** (LeetCode 876)"
   ]
  },
  {
   "cell_type": "code",
   "execution_count": null,
   "id": "58db2430",
   "metadata": {},
   "outputs": [],
   "source": []
  }
 ],
 "metadata": {
  "kernelspec": {
   "display_name": "Python 3 (ipykernel)",
   "language": "python",
   "name": "python3"
  },
  "language_info": {
   "codemirror_mode": {
    "name": "ipython",
    "version": 3
   },
   "file_extension": ".py",
   "mimetype": "text/x-python",
   "name": "python",
   "nbconvert_exporter": "python",
   "pygments_lexer": "ipython3",
   "version": "3.11.3"
  }
 },
 "nbformat": 4,
 "nbformat_minor": 5
}
