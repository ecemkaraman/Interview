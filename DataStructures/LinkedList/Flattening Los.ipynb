{
 "cells": [
  {
   "cell_type": "markdown",
   "id": "ffe8963b",
   "metadata": {},
   "source": [
    "### 8. **Flattening Linked Lists**\n",
    "\n",
    "- **Description**: Problems where you need to flatten nested linked lists or multi-level lists into a single list.\n",
    "- **Popular Problems**:\n",
    "    - **Flatten a Multilevel Doubly Linked List** (LeetCode 430)\n",
    "    - **Flatten Binary Tree to Linked List** (LeetCode 114) — Tree but conceptually similar to flattening lists.\n",
    "    - **Flatten Nested List Iterator** (LeetCode 341)"
   ]
  },
  {
   "cell_type": "code",
   "execution_count": null,
   "id": "a6425a1f",
   "metadata": {},
   "outputs": [],
   "source": []
  }
 ],
 "metadata": {
  "kernelspec": {
   "display_name": "Python 3 (ipykernel)",
   "language": "python",
   "name": "python3"
  },
  "language_info": {
   "codemirror_mode": {
    "name": "ipython",
    "version": 3
   },
   "file_extension": ".py",
   "mimetype": "text/x-python",
   "name": "python",
   "nbconvert_exporter": "python",
   "pygments_lexer": "ipython3",
   "version": "3.11.3"
  }
 },
 "nbformat": 4,
 "nbformat_minor": 5
}
