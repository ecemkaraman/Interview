{
 "cells": [
  {
   "cell_type": "markdown",
   "id": "2518a013",
   "metadata": {},
   "source": [
    "### 2. **Reversing a Linked List**\n",
    "\n",
    "- **Description**: Problems that require reversing all or part of a linked list, often as a prerequisite for more complex operations.\n",
    "- **Popular Problems**:\n",
    "    - **Reverse Linked List** (LeetCode 206)\n",
    "    - **Reverse Linked List II** (LeetCode 92)\n",
    "    - **Palindrome Linked List** (LeetCode 234)\n",
    "    - **Reverse Nodes in k-Group** (LeetCode 25)"
   ]
  },
  {
   "cell_type": "code",
   "execution_count": null,
   "id": "2ffe09a7",
   "metadata": {},
   "outputs": [],
   "source": []
  }
 ],
 "metadata": {
  "kernelspec": {
   "display_name": "Python 3 (ipykernel)",
   "language": "python",
   "name": "python3"
  },
  "language_info": {
   "codemirror_mode": {
    "name": "ipython",
    "version": 3
   },
   "file_extension": ".py",
   "mimetype": "text/x-python",
   "name": "python",
   "nbconvert_exporter": "python",
   "pygments_lexer": "ipython3",
   "version": "3.11.3"
  }
 },
 "nbformat": 4,
 "nbformat_minor": 5
}
