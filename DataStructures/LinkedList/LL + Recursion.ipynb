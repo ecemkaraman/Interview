{
 "cells": [
  {
   "cell_type": "markdown",
   "id": "eff82bbb",
   "metadata": {},
   "source": [
    "### 14. **Recursive Solutions for Linked Lists**\n",
    "\n",
    "- **Description**: Problems that require recursive approaches, typically for reversing, merging, or traversing the list.\n",
    "- **Popular Problems**:\n",
    "    - **Reverse Linked List** (LeetCode 206)\n",
    "    - **Reverse Nodes in k-Group** (LeetCode 25)\n",
    "    - **Merge Two Sorted Lists** (LeetCode 21)\n",
    "    - **Swap Nodes in Pairs** (LeetCode 24)"
   ]
  },
  {
   "cell_type": "code",
   "execution_count": null,
   "id": "074c29e4",
   "metadata": {},
   "outputs": [],
   "source": []
  }
 ],
 "metadata": {
  "kernelspec": {
   "display_name": "Python 3 (ipykernel)",
   "language": "python",
   "name": "python3"
  },
  "language_info": {
   "codemirror_mode": {
    "name": "ipython",
    "version": 3
   },
   "file_extension": ".py",
   "mimetype": "text/x-python",
   "name": "python",
   "nbconvert_exporter": "python",
   "pygments_lexer": "ipython3",
   "version": "3.11.3"
  }
 },
 "nbformat": 4,
 "nbformat_minor": 5
}
