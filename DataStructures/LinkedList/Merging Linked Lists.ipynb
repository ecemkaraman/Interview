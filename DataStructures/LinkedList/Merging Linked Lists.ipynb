{
 "cells": [
  {
   "cell_type": "markdown",
   "id": "9a1e38f9",
   "metadata": {},
   "source": [
    "### 4. **Merging Linked Lists**\n",
    "\n",
    "- **Description**: Problems involving merging one or more linked lists, either sorted or unsorted.\n",
    "- **Popular Problems**:\n",
    "    - **Merge Two Sorted Lists** (LeetCode 21)\n",
    "    - **Merge k Sorted Lists** (LeetCode 23)\n",
    "    - **Intersection of Two Linked Lists** (LeetCode 160)\n",
    "    - **Add Two Numbers** (LeetCode 2)"
   ]
  },
  {
   "cell_type": "code",
   "execution_count": null,
   "id": "cd7f8cbb",
   "metadata": {},
   "outputs": [],
   "source": []
  }
 ],
 "metadata": {
  "kernelspec": {
   "display_name": "Python 3 (ipykernel)",
   "language": "python",
   "name": "python3"
  },
  "language_info": {
   "codemirror_mode": {
    "name": "ipython",
    "version": 3
   },
   "file_extension": ".py",
   "mimetype": "text/x-python",
   "name": "python",
   "nbconvert_exporter": "python",
   "pygments_lexer": "ipython3",
   "version": "3.11.3"
  }
 },
 "nbformat": 4,
 "nbformat_minor": 5
}
