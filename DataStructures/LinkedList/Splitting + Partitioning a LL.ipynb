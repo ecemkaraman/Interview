{
 "cells": [
  {
   "cell_type": "markdown",
   "id": "a0a5875a",
   "metadata": {},
   "source": [
    "### 6. **Splitting and Partitioning a Linked List**\n",
    "\n",
    "- **Description**: Problems involving splitting a linked list into two or more parts based on certain conditions or pivot values.\n",
    "- **Popular Problems**:\n",
    "    - **Split Linked List in Parts** (LeetCode 725)\n",
    "    - **Odd Even Linked List** (LeetCode 328)\n",
    "    - **Partition List** (LeetCode 86)"
   ]
  },
  {
   "cell_type": "code",
   "execution_count": null,
   "id": "bb9b76e5",
   "metadata": {},
   "outputs": [],
   "source": []
  }
 ],
 "metadata": {
  "kernelspec": {
   "display_name": "Python 3 (ipykernel)",
   "language": "python",
   "name": "python3"
  },
  "language_info": {
   "codemirror_mode": {
    "name": "ipython",
    "version": 3
   },
   "file_extension": ".py",
   "mimetype": "text/x-python",
   "name": "python",
   "nbconvert_exporter": "python",
   "pygments_lexer": "ipython3",
   "version": "3.11.3"
  }
 },
 "nbformat": 4,
 "nbformat_minor": 5
}
