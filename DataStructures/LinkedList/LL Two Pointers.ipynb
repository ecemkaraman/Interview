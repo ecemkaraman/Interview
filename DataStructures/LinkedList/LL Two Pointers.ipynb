{
 "cells": [
  {
   "cell_type": "markdown",
   "id": "76edc017",
   "metadata": {},
   "source": [
    "### 13. **Two Pointer Technique**\n",
    "\n",
    "- **Description**: Problems where two pointers (one slow, one fast) are used to traverse or manipulate the linked list.\n",
    "- **Popular Problems**:\n",
    "    - **Remove Nth Node From End of List** (LeetCode 19)\n",
    "    - **Linked List Cycle** (LeetCode 141)\n",
    "    - **Linked List Cycle II** (LeetCode 142)\n",
    "    - **Intersection of Two Linked Lists** (LeetCode 160)"
   ]
  },
  {
   "cell_type": "code",
   "execution_count": null,
   "id": "74415b6a",
   "metadata": {},
   "outputs": [],
   "source": []
  }
 ],
 "metadata": {
  "kernelspec": {
   "display_name": "Python 3 (ipykernel)",
   "language": "python",
   "name": "python3"
  },
  "language_info": {
   "codemirror_mode": {
    "name": "ipython",
    "version": 3
   },
   "file_extension": ".py",
   "mimetype": "text/x-python",
   "name": "python",
   "nbconvert_exporter": "python",
   "pygments_lexer": "ipython3",
   "version": "3.11.3"
  }
 },
 "nbformat": 4,
 "nbformat_minor": 5
}
