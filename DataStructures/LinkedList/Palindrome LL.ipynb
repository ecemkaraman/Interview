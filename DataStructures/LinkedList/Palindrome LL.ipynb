{
 "cells": [
  {
   "cell_type": "markdown",
   "id": "a1a0192d",
   "metadata": {},
   "source": [
    "### 10. **Palindrome Linked List**\n",
    "\n",
    "- **Description**: Special problems where you check if the linked list forms a palindrome.\n",
    "- **Popular Problems**:\n",
    "    - **Palindrome Linked List** (LeetCode 234)\n",
    "    - **Reorder List** (LeetCode 143)"
   ]
  },
  {
   "cell_type": "code",
   "execution_count": null,
   "id": "4364d9a6",
   "metadata": {},
   "outputs": [],
   "source": []
  }
 ],
 "metadata": {
  "kernelspec": {
   "display_name": "Python 3 (ipykernel)",
   "language": "python",
   "name": "python3"
  },
  "language_info": {
   "codemirror_mode": {
    "name": "ipython",
    "version": 3
   },
   "file_extension": ".py",
   "mimetype": "text/x-python",
   "name": "python",
   "nbconvert_exporter": "python",
   "pygments_lexer": "ipython3",
   "version": "3.11.3"
  }
 },
 "nbformat": 4,
 "nbformat_minor": 5
}
