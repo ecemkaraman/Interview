{
 "cells": [
  {
   "cell_type": "markdown",
   "id": "6ec165b1",
   "metadata": {},
   "source": [
    "### 12. **Dummy Head Technique**\n",
    "\n",
    "- **Description**: Many problems can be simplified by using a dummy head pointer to avoid edge cases.\n",
    "- **Popular Problems**:\n",
    "    - **Merge Two Sorted Lists** (LeetCode 21)\n",
    "    - **Add Two Numbers** (LeetCode 2)\n",
    "    - **Remove Nth Node From End of List** (LeetCode 19)"
   ]
  },
  {
   "cell_type": "code",
   "execution_count": null,
   "id": "dd85298a",
   "metadata": {},
   "outputs": [],
   "source": []
  }
 ],
 "metadata": {
  "kernelspec": {
   "display_name": "Python 3 (ipykernel)",
   "language": "python",
   "name": "python3"
  },
  "language_info": {
   "codemirror_mode": {
    "name": "ipython",
    "version": 3
   },
   "file_extension": ".py",
   "mimetype": "text/x-python",
   "name": "python",
   "nbconvert_exporter": "python",
   "pygments_lexer": "ipython3",
   "version": "3.11.3"
  }
 },
 "nbformat": 4,
 "nbformat_minor": 5
}
