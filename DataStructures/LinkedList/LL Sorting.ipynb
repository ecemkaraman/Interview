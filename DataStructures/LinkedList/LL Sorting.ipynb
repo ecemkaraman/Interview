{
 "cells": [
  {
   "cell_type": "markdown",
   "id": "8fa6454e",
   "metadata": {},
   "source": [
    "### 9. **Linked List Sorting**\n",
    "\n",
    "- **Description**: Problems that involve sorting a linked list, usually requiring algorithms like merge sort due to the list’s structure.\n",
    "- **Popular Problems**:\n",
    "    - **Sort List** (LeetCode 148)\n",
    "    - **Insertion Sort List** (LeetCode 147)\n",
    "    - **Reorder List** (LeetCode 143)\n",
    "    - **Merge Two Sorted Lists** (LeetCode 21)"
   ]
  },
  {
   "cell_type": "code",
   "execution_count": null,
   "id": "5d9256e9",
   "metadata": {},
   "outputs": [],
   "source": []
  }
 ],
 "metadata": {
  "kernelspec": {
   "display_name": "Python 3 (ipykernel)",
   "language": "python",
   "name": "python3"
  },
  "language_info": {
   "codemirror_mode": {
    "name": "ipython",
    "version": 3
   },
   "file_extension": ".py",
   "mimetype": "text/x-python",
   "name": "python",
   "nbconvert_exporter": "python",
   "pygments_lexer": "ipython3",
   "version": "3.11.3"
  }
 },
 "nbformat": 4,
 "nbformat_minor": 5
}
