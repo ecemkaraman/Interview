{
 "cells": [
  {
   "cell_type": "markdown",
   "id": "73362416",
   "metadata": {},
   "source": [
    "### 3. **Two Sum / K-Sum Variations**\n",
    "\n",
    "- **Description**: Problems that ask to find pairs or groups of numbers that satisfy a specific condition (like summing to a target), often solvable with hash maps for efficient lookup.\n",
    "- **Popular Problems**:\n",
    "    - **Two Sum** (LeetCode 1)\n",
    "    - **3Sum** (LeetCode 15)\n",
    "    - **4Sum** (LeetCode 18)\n",
    "    - **Subarray Sum Equals K** (LeetCode 560)\n",
    "    - **Longest Substring Without Repeating Characters** (LeetCode 3)"
   ]
  },
  {
   "cell_type": "code",
   "execution_count": null,
   "id": "32cd47ca",
   "metadata": {},
   "outputs": [],
   "source": []
  }
 ],
 "metadata": {
  "kernelspec": {
   "display_name": "Python 3 (ipykernel)",
   "language": "python",
   "name": "python3"
  },
  "language_info": {
   "codemirror_mode": {
    "name": "ipython",
    "version": 3
   },
   "file_extension": ".py",
   "mimetype": "text/x-python",
   "name": "python",
   "nbconvert_exporter": "python",
   "pygments_lexer": "ipython3",
   "version": "3.11.3"
  }
 },
 "nbformat": 4,
 "nbformat_minor": 5
}
