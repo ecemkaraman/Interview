{
 "cells": [
  {
   "cell_type": "markdown",
   "id": "a34159ce",
   "metadata": {},
   "source": [
    "### 8. **Finding Intersection / Union**\n",
    "\n",
    "- **Description**: Problems that ask for the intersection or union of two arrays, lists, or sets can often be solved using hash sets for O(1) lookups.\n",
    "- **Popular Problems**:\n",
    "    - **Intersection of Two Arrays** (LeetCode 349)\n",
    "    - **Intersection of Two Arrays II** (LeetCode 350)\n",
    "    - **Find the Difference** (LeetCode 389)\n",
    "    - **Jewels and Stones** (LeetCode 771)"
   ]
  },
  {
   "cell_type": "code",
   "execution_count": null,
   "id": "f47a8a8a",
   "metadata": {},
   "outputs": [],
   "source": []
  }
 ],
 "metadata": {
  "kernelspec": {
   "display_name": "Python 3 (ipykernel)",
   "language": "python",
   "name": "python3"
  },
  "language_info": {
   "codemirror_mode": {
    "name": "ipython",
    "version": 3
   },
   "file_extension": ".py",
   "mimetype": "text/x-python",
   "name": "python",
   "nbconvert_exporter": "python",
   "pygments_lexer": "ipython3",
   "version": "3.11.3"
  }
 },
 "nbformat": 4,
 "nbformat_minor": 5
}
