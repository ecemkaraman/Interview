{
 "cells": [
  {
   "cell_type": "markdown",
   "id": "c742dbcc",
   "metadata": {},
   "source": [
    "### 1. **Basic Hash Map Operations (Insert, Search, Delete)**\n",
    "\n",
    "- **Description**: Fundamental operations such as inserting key-value pairs, searching for a value, or deleting entries from a hash map.\n",
    "- **Popular Problems**:\n",
    "    - **Design HashMap** (LeetCode 706)\n",
    "    - **Design HashSet** (LeetCode 705)\n",
    "    - **Insert Delete GetRandom O(1)** (LeetCode 380)\n",
    "    - **First Unique Character in a String** (LeetCode 387)"
   ]
  },
  {
   "cell_type": "code",
   "execution_count": null,
   "id": "de4c31c0",
   "metadata": {},
   "outputs": [],
   "source": []
  }
 ],
 "metadata": {
  "kernelspec": {
   "display_name": "Python 3 (ipykernel)",
   "language": "python",
   "name": "python3"
  },
  "language_info": {
   "codemirror_mode": {
    "name": "ipython",
    "version": 3
   },
   "file_extension": ".py",
   "mimetype": "text/x-python",
   "name": "python",
   "nbconvert_exporter": "python",
   "pygments_lexer": "ipython3",
   "version": "3.11.3"
  }
 },
 "nbformat": 4,
 "nbformat_minor": 5
}
