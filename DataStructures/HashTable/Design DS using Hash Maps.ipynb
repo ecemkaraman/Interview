{
 "cells": [
  {
   "cell_type": "markdown",
   "id": "31fab8f0",
   "metadata": {},
   "source": [
    "### 12. **Design Data Structures using Hash Maps**\n",
    "\n",
    "- **Description**: Some problems ask you to design custom data structures using hash maps as the primary storage to enable efficient access and manipulation.\n",
    "- **Popular Problems**:\n",
    "    - **LRU Cache** (LeetCode 146)\n",
    "    - **LFU Cache** (LeetCode 460)\n",
    "    - **Time-based Key-Value Store** (LeetCode 981)\n",
    "    - **Design Twitter** (LeetCode 355)"
   ]
  },
  {
   "cell_type": "code",
   "execution_count": null,
   "id": "ed4bab3f",
   "metadata": {},
   "outputs": [],
   "source": []
  }
 ],
 "metadata": {
  "kernelspec": {
   "display_name": "Python 3 (ipykernel)",
   "language": "python",
   "name": "python3"
  },
  "language_info": {
   "codemirror_mode": {
    "name": "ipython",
    "version": 3
   },
   "file_extension": ".py",
   "mimetype": "text/x-python",
   "name": "python",
   "nbconvert_exporter": "python",
   "pygments_lexer": "ipython3",
   "version": "3.11.3"
  }
 },
 "nbformat": 4,
 "nbformat_minor": 5
}
