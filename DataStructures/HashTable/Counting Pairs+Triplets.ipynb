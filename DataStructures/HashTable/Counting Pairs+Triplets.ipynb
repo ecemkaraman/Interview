{
 "cells": [
  {
   "cell_type": "markdown",
   "id": "6e1e1256",
   "metadata": {},
   "source": [
    "### 13. **Counting Pairs/Triplets**\n",
    "\n",
    "- **Description**: Problems that ask to count the number of pairs or triplets that satisfy a given condition. Hash maps are often used to store the frequencies of elements and efficiently count valid pairs.\n",
    "- **Popular Problems**:\n",
    "    - **Count Good Meals** (LeetCode 1711)\n",
    "    - **4Sum II** (LeetCode 454)\n",
    "    - **Two Sum** (LeetCode 1)\n",
    "    - **Count Pairs in an Array with a Given Sum** (Custom Problem)"
   ]
  },
  {
   "cell_type": "code",
   "execution_count": null,
   "id": "344a0dbb",
   "metadata": {},
   "outputs": [],
   "source": []
  }
 ],
 "metadata": {
  "kernelspec": {
   "display_name": "Python 3 (ipykernel)",
   "language": "python",
   "name": "python3"
  },
  "language_info": {
   "codemirror_mode": {
    "name": "ipython",
    "version": 3
   },
   "file_extension": ".py",
   "mimetype": "text/x-python",
   "name": "python",
   "nbconvert_exporter": "python",
   "pygments_lexer": "ipython3",
   "version": "3.11.3"
  }
 },
 "nbformat": 4,
 "nbformat_minor": 5
}
