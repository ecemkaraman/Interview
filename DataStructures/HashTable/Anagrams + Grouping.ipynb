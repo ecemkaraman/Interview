{
 "cells": [
  {
   "cell_type": "markdown",
   "id": "ca15a39f",
   "metadata": {},
   "source": [
    "### 4. **Anagrams and Grouping**\n",
    "\n",
    "- **Description**: Problems where you group or check for anagrams, which can often be solved efficiently using hash maps with frequency counts or encoded keys.\n",
    "- **Popular Problems**:\n",
    "    - **Valid Anagram** (LeetCode 242)\n",
    "    - **Group Anagrams** (LeetCode 49)\n",
    "    - **Find All Anagrams in a String** (LeetCode 438)\n",
    "    - **Minimum Number of Steps to Make Two Strings Anagram** (LeetCode 1347)"
   ]
  },
  {
   "cell_type": "code",
   "execution_count": null,
   "id": "acf0611a",
   "metadata": {},
   "outputs": [],
   "source": []
  }
 ],
 "metadata": {
  "kernelspec": {
   "display_name": "Python 3 (ipykernel)",
   "language": "python",
   "name": "python3"
  },
  "language_info": {
   "codemirror_mode": {
    "name": "ipython",
    "version": 3
   },
   "file_extension": ".py",
   "mimetype": "text/x-python",
   "name": "python",
   "nbconvert_exporter": "python",
   "pygments_lexer": "ipython3",
   "version": "3.11.3"
  }
 },
 "nbformat": 4,
 "nbformat_minor": 5
}
