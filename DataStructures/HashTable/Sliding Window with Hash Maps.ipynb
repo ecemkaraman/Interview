{
 "cells": [
  {
   "cell_type": "markdown",
   "id": "788ba7f2",
   "metadata": {},
   "source": [
    "### 6. **Sliding Window with Hash Maps**\n",
    "\n",
    "- **Description**: Many sliding window problems require hash maps to track the frequency of elements within the window for efficient lookup and update.\n",
    "- **Popular Problems**:\n",
    "    - **Longest Substring Without Repeating Characters** (LeetCode 3)\n",
    "    - **Minimum Window Substring** (LeetCode 76)\n",
    "    - **Subarrays with K Different Integers** (LeetCode 992)\n",
    "    - **Find All Anagrams in a String** (LeetCode 438)"
   ]
  },
  {
   "cell_type": "code",
   "execution_count": null,
   "id": "18ece6e0",
   "metadata": {},
   "outputs": [],
   "source": []
  }
 ],
 "metadata": {
  "kernelspec": {
   "display_name": "Python 3 (ipykernel)",
   "language": "python",
   "name": "python3"
  },
  "language_info": {
   "codemirror_mode": {
    "name": "ipython",
    "version": 3
   },
   "file_extension": ".py",
   "mimetype": "text/x-python",
   "name": "python",
   "nbconvert_exporter": "python",
   "pygments_lexer": "ipython3",
   "version": "3.11.3"
  }
 },
 "nbformat": 4,
 "nbformat_minor": 5
}
