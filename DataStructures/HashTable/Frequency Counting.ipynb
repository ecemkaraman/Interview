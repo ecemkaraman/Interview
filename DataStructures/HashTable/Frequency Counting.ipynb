{
 "cells": [
  {
   "cell_type": "markdown",
   "id": "8410f3d7",
   "metadata": {},
   "source": [
    "### 2. **Frequency Counting / Mode Problems**\n",
    "\n",
    "- **Description**: Problems where you need to count occurrences of elements, often using hash maps to track the frequency.\n",
    "- **Popular Problems**:\n",
    "    - **Top K Frequent Elements** (LeetCode 347)\n",
    "    - **Majority Element** (LeetCode 169)\n",
    "    - **Majority Element II** (LeetCode 229)\n",
    "    - **Sort Characters by Frequency** (LeetCode 451)\n",
    "    - **Minimum Window Substring** (LeetCode 76)"
   ]
  },
  {
   "cell_type": "code",
   "execution_count": null,
   "id": "c8f20d7e",
   "metadata": {},
   "outputs": [],
   "source": []
  }
 ],
 "metadata": {
  "kernelspec": {
   "display_name": "Python 3 (ipykernel)",
   "language": "python",
   "name": "python3"
  },
  "language_info": {
   "codemirror_mode": {
    "name": "ipython",
    "version": 3
   },
   "file_extension": ".py",
   "mimetype": "text/x-python",
   "name": "python",
   "nbconvert_exporter": "python",
   "pygments_lexer": "ipython3",
   "version": "3.11.3"
  }
 },
 "nbformat": 4,
 "nbformat_minor": 5
}
