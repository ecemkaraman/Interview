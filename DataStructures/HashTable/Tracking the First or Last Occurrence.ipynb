{
 "cells": [
  {
   "cell_type": "markdown",
   "id": "8f7934e9",
   "metadata": {},
   "source": [
    "### 14. **Tracking the First or Last Occurrence**\n",
    "\n",
    "- **Description**: Problems where you need to find or track the first or last occurrence of an element, often solvable using hash maps for constant-time access to previously seen indices.\n",
    "- **Popular Problems**:\n",
    "    - **First Missing Positive** (LeetCode 41)\n",
    "    - **First Unique Character in a String** (LeetCode 387)\n",
    "    - **Shortest Word Distance II** (LeetCode 244)"
   ]
  },
  {
   "cell_type": "code",
   "execution_count": null,
   "id": "e978c806",
   "metadata": {},
   "outputs": [],
   "source": []
  }
 ],
 "metadata": {
  "kernelspec": {
   "display_name": "Python 3 (ipykernel)",
   "language": "python",
   "name": "python3"
  },
  "language_info": {
   "codemirror_mode": {
    "name": "ipython",
    "version": 3
   },
   "file_extension": ".py",
   "mimetype": "text/x-python",
   "name": "python",
   "nbconvert_exporter": "python",
   "pygments_lexer": "ipython3",
   "version": "3.11.3"
  }
 },
 "nbformat": 4,
 "nbformat_minor": 5
}
