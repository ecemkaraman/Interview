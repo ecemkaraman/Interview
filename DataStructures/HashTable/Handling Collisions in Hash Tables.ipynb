{
 "cells": [
  {
   "cell_type": "markdown",
   "id": "6ae24db0",
   "metadata": {},
   "source": [
    "### 15. **Handling Collisions in Hash Tables**\n",
    "\n",
    "- **Description**: Implementing custom hash table designs, handling collisions using techniques like chaining or open addressing.\n",
    "- **Popular Problems**:\n",
    "    - **Design HashMap** (LeetCode 706)\n",
    "    - **Design HashSet** (LeetCode 705)\n",
    "    - **Implement Trie (Prefix Tree)** (LeetCode 208)"
   ]
  },
  {
   "cell_type": "code",
   "execution_count": null,
   "id": "ded67525",
   "metadata": {},
   "outputs": [],
   "source": []
  }
 ],
 "metadata": {
  "kernelspec": {
   "display_name": "Python 3 (ipykernel)",
   "language": "python",
   "name": "python3"
  },
  "language_info": {
   "codemirror_mode": {
    "name": "ipython",
    "version": 3
   },
   "file_extension": ".py",
   "mimetype": "text/x-python",
   "name": "python",
   "nbconvert_exporter": "python",
   "pygments_lexer": "ipython3",
   "version": "3.11.3"
  }
 },
 "nbformat": 4,
 "nbformat_minor": 5
}
