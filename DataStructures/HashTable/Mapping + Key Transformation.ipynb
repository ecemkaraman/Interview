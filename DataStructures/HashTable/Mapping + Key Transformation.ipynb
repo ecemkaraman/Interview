{
 "cells": [
  {
   "cell_type": "markdown",
   "id": "c3236d0c",
   "metadata": {},
   "source": [
    "### 9. **Mapping / Key Transformation**\n",
    "\n",
    "- **Description**: Problems where you need to map elements from one form to another, which can often be done using hash maps for O(1) lookups.\n",
    "- **Popular Problems**:\n",
    "    - **Isomorphic Strings** (LeetCode 205)\n",
    "    - **Word Pattern** (LeetCode 290)\n",
    "    - **Find and Replace Pattern** (LeetCode 890)"
   ]
  },
  {
   "cell_type": "code",
   "execution_count": null,
   "id": "fb1c25e2",
   "metadata": {},
   "outputs": [],
   "source": []
  }
 ],
 "metadata": {
  "kernelspec": {
   "display_name": "Python 3 (ipykernel)",
   "language": "python",
   "name": "python3"
  },
  "language_info": {
   "codemirror_mode": {
    "name": "ipython",
    "version": 3
   },
   "file_extension": ".py",
   "mimetype": "text/x-python",
   "name": "python",
   "nbconvert_exporter": "python",
   "pygments_lexer": "ipython3",
   "version": "3.11.3"
  }
 },
 "nbformat": 4,
 "nbformat_minor": 5
}
