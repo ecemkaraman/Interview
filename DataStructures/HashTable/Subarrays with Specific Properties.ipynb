{
 "cells": [
  {
   "cell_type": "markdown",
   "id": "f4d497ee",
   "metadata": {},
   "source": [
    "### 7. **Subarrays with Specific Properties**\n",
    "\n",
    "- **Description**: Problems that require finding subarrays with certain properties, like a sum or product, often solvable using prefix sums combined with hash maps for efficient searching.\n",
    "- **Popular Problems**:\n",
    "    - **Subarray Sum Equals K** (LeetCode 560)\n",
    "    - **Longest Subarray with Sum at Most K** (Custom Problem, variations on Sliding Window/HashMap)\n",
    "    - **Contiguous Array** (LeetCode 525)\n",
    "    - **Longest Substring with At Most K Distinct Characters** (LeetCode 340)"
   ]
  },
  {
   "cell_type": "code",
   "execution_count": null,
   "id": "a2e80f98",
   "metadata": {},
   "outputs": [],
   "source": []
  }
 ],
 "metadata": {
  "kernelspec": {
   "display_name": "Python 3 (ipykernel)",
   "language": "python",
   "name": "python3"
  },
  "language_info": {
   "codemirror_mode": {
    "name": "ipython",
    "version": 3
   },
   "file_extension": ".py",
   "mimetype": "text/x-python",
   "name": "python",
   "nbconvert_exporter": "python",
   "pygments_lexer": "ipython3",
   "version": "3.11.3"
  }
 },
 "nbformat": 4,
 "nbformat_minor": 5
}
