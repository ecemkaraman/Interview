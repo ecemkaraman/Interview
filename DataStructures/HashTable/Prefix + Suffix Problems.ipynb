{
 "cells": [
  {
   "cell_type": "markdown",
   "id": "008a8cec",
   "metadata": {},
   "source": [
    "### 11. **Prefix and Suffix Problems**\n",
    "\n",
    "- **Description**: Problems where you're asked to track prefixes or suffixes efficiently, often solved with hash maps for constant-time lookup of previously computed results.\n",
    "- **Popular Problems**:\n",
    "    - **Map Sum Pairs** (LeetCode 677)\n",
    "    - **Trie-based Problems** (LeetCode 208 - Implement Trie)\n",
    "    - **Longest Word in Dictionary** (LeetCode 720)\n",
    "    - **Prefix and Suffix Search** (LeetCode 745)"
   ]
  },
  {
   "cell_type": "code",
   "execution_count": null,
   "id": "a0c37101",
   "metadata": {},
   "outputs": [],
   "source": []
  }
 ],
 "metadata": {
  "kernelspec": {
   "display_name": "Python 3 (ipykernel)",
   "language": "python",
   "name": "python3"
  },
  "language_info": {
   "codemirror_mode": {
    "name": "ipython",
    "version": 3
   },
   "file_extension": ".py",
   "mimetype": "text/x-python",
   "name": "python",
   "nbconvert_exporter": "python",
   "pygments_lexer": "ipython3",
   "version": "3.11.3"
  }
 },
 "nbformat": 4,
 "nbformat_minor": 5
}
