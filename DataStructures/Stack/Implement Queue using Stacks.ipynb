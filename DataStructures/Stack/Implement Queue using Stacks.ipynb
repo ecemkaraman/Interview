{
 "cells": [
  {
   "cell_type": "markdown",
   "id": "103c08b5",
   "metadata": {},
   "source": [
    "### **6. Implement Queue using Stacks**\n",
    "\n",
    "**Pattern**:\n",
    "\n",
    "- Problems that involve implementing a queue using two stacks.\n",
    "\n",
    "**Key Characteristics**:\n",
    "\n",
    "- Demonstrates understanding of stack properties while adhering to queue operations (FIFO).\n",
    "- Requires careful management of stack elements to maintain order.\n",
    "\n",
    "**LeetCode Examples**:\n",
    "\n",
    "- **LeetCode 232**: Implement Queue using Stacks\n",
    "- **LeetCode 225**: Implement Stack using Queues (inverse problem)"
   ]
  },
  {
   "cell_type": "code",
   "execution_count": null,
   "id": "088167f8",
   "metadata": {},
   "outputs": [],
   "source": []
  }
 ],
 "metadata": {
  "kernelspec": {
   "display_name": "Python 3 (ipykernel)",
   "language": "python",
   "name": "python3"
  },
  "language_info": {
   "codemirror_mode": {
    "name": "ipython",
    "version": 3
   },
   "file_extension": ".py",
   "mimetype": "text/x-python",
   "name": "python",
   "nbconvert_exporter": "python",
   "pygments_lexer": "ipython3",
   "version": "3.11.3"
  }
 },
 "nbformat": 4,
 "nbformat_minor": 5
}
