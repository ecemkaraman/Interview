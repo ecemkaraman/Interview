{
 "cells": [
  {
   "cell_type": "markdown",
   "id": "45bb2184",
   "metadata": {},
   "source": [
    "### **2. Next Greater Element**\n",
    "\n",
    "**Pattern**:\n",
    "\n",
    "- Problems that involve finding the next greater element for each element in an array.\n",
    "\n",
    "**Key Characteristics**:\n",
    "\n",
    "- Use a stack to keep track of indices or elements for comparison as you traverse the array.\n",
    "- Efficiently finds the next greater element in O(n) time.\n",
    "\n",
    "**LeetCode Examples**:\n",
    "\n",
    "- **LeetCode 496**: Next Greater Element I\n",
    "- **LeetCode 503**: Next Greater Element II (circular array)"
   ]
  },
  {
   "cell_type": "code",
   "execution_count": null,
   "id": "b9512d6c",
   "metadata": {},
   "outputs": [],
   "source": []
  }
 ],
 "metadata": {
  "kernelspec": {
   "display_name": "Python 3 (ipykernel)",
   "language": "python",
   "name": "python3"
  },
  "language_info": {
   "codemirror_mode": {
    "name": "ipython",
    "version": 3
   },
   "file_extension": ".py",
   "mimetype": "text/x-python",
   "name": "python",
   "nbconvert_exporter": "python",
   "pygments_lexer": "ipython3",
   "version": "3.11.3"
  }
 },
 "nbformat": 4,
 "nbformat_minor": 5
}
