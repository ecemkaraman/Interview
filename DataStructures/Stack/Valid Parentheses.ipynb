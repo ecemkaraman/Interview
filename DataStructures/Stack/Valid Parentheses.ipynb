{
 "cells": [
  {
   "cell_type": "markdown",
   "id": "3773551e",
   "metadata": {},
   "source": [
    "### **1. Valid Parentheses**\n",
    "\n",
    "**Pattern**:\n",
    "\n",
    "- Problems that require checking for balanced parentheses or brackets.\n",
    "\n",
    "**Key Characteristics**:\n",
    "\n",
    "- Use a stack to push opening brackets and pop them when encountering a closing bracket.\n",
    "- Efficiently checks for matching pairs.\n",
    "\n",
    "**LeetCode Examples**:\n",
    "\n",
    "- **LeetCode 20**: Valid Parentheses\n",
    "- **LeetCode 921**: Minimum Add to Make Parentheses Valid"
   ]
  },
  {
   "cell_type": "code",
   "execution_count": null,
   "id": "eef9b3e6",
   "metadata": {},
   "outputs": [],
   "source": []
  }
 ],
 "metadata": {
  "kernelspec": {
   "display_name": "Python 3 (ipykernel)",
   "language": "python",
   "name": "python3"
  },
  "language_info": {
   "codemirror_mode": {
    "name": "ipython",
    "version": 3
   },
   "file_extension": ".py",
   "mimetype": "text/x-python",
   "name": "python",
   "nbconvert_exporter": "python",
   "pygments_lexer": "ipython3",
   "version": "3.11.3"
  }
 },
 "nbformat": 4,
 "nbformat_minor": 5
}
