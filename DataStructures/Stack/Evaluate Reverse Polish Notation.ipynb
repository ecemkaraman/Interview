{
 "cells": [
  {
   "cell_type": "markdown",
   "id": "ce5330af",
   "metadata": {},
   "source": [
    "### **3. Evaluate Reverse Polish Notation**\n",
    "\n",
    "**Pattern**:\n",
    "\n",
    "- Problems that require evaluating expressions written in Reverse Polish Notation (RPN).\n",
    "\n",
    "**Key Characteristics**:\n",
    "\n",
    "- Use a stack to store operands and compute results as operators are encountered.\n",
    "- Effectively handles operations in the correct order.\n",
    "\n",
    "**LeetCode Examples**:\n",
    "\n",
    "- **LeetCode 150**: Evaluate Reverse Polish Notation\n",
    "- **LeetCode 735**: Asteroid Collision (using stack for collision handling)"
   ]
  },
  {
   "cell_type": "code",
   "execution_count": null,
   "id": "e9218a20",
   "metadata": {},
   "outputs": [],
   "source": []
  }
 ],
 "metadata": {
  "kernelspec": {
   "display_name": "Python 3 (ipykernel)",
   "language": "python",
   "name": "python3"
  },
  "language_info": {
   "codemirror_mode": {
    "name": "ipython",
    "version": 3
   },
   "file_extension": ".py",
   "mimetype": "text/x-python",
   "name": "python",
   "nbconvert_exporter": "python",
   "pygments_lexer": "ipython3",
   "version": "3.11.3"
  }
 },
 "nbformat": 4,
 "nbformat_minor": 5
}
