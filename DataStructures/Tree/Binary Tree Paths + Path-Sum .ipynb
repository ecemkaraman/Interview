{
 "cells": [
  {
   "cell_type": "markdown",
   "id": "6731586e",
   "metadata": {},
   "source": [
    "### 7. **Binary Tree Paths / Path-Sum Related Problems**\n",
    "\n",
    "- **Description**: Finding paths in a binary tree with specific sums or constructing paths from root to leaf nodes.\n",
    "- **Popular Problems**:\n",
    "    - **Path Sum** (LeetCode 112)\n",
    "    - **Path Sum II** (LeetCode 113)\n",
    "    - **Binary Tree Paths** (LeetCode 257)\n",
    "    - **Sum Root to Leaf Numbers** (LeetCode 129)\n",
    "    - **Maximum Path Sum** (LeetCode 124)"
   ]
  },
  {
   "cell_type": "code",
   "execution_count": null,
   "id": "a3cd0bce",
   "metadata": {},
   "outputs": [],
   "source": []
  }
 ],
 "metadata": {
  "kernelspec": {
   "display_name": "Python 3 (ipykernel)",
   "language": "python",
   "name": "python3"
  },
  "language_info": {
   "codemirror_mode": {
    "name": "ipython",
    "version": 3
   },
   "file_extension": ".py",
   "mimetype": "text/x-python",
   "name": "python",
   "nbconvert_exporter": "python",
   "pygments_lexer": "ipython3",
   "version": "3.11.3"
  }
 },
 "nbformat": 4,
 "nbformat_minor": 5
}
