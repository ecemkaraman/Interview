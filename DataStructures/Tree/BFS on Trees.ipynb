{
 "cells": [
  {
   "cell_type": "markdown",
   "id": "b44edeff",
   "metadata": {},
   "source": [
    "### 4. **Breadth-First Search (BFS) on Trees**\n",
    "\n",
    "- **Description**: BFS is ideal for problems that involve exploring levels or the shortest path. It's often implemented using a queue.\n",
    "- **Popular Problems**:\n",
    "    - **Binary Tree Level Order Traversal** (LeetCode 102)\n",
    "    - **Minimum Depth of Binary Tree** (LeetCode 111)\n",
    "    - **Symmetric Tree** (LeetCode 101)\n",
    "    - **Binary Tree Right Side View** (LeetCode 199)\n",
    "    - **Cousins in Binary Tree** (LeetCode 993)"
   ]
  },
  {
   "cell_type": "code",
   "execution_count": null,
   "id": "d0df3b21",
   "metadata": {},
   "outputs": [],
   "source": []
  }
 ],
 "metadata": {
  "kernelspec": {
   "display_name": "Python 3 (ipykernel)",
   "language": "python",
   "name": "python3"
  },
  "language_info": {
   "codemirror_mode": {
    "name": "ipython",
    "version": 3
   },
   "file_extension": ".py",
   "mimetype": "text/x-python",
   "name": "python",
   "nbconvert_exporter": "python",
   "pygments_lexer": "ipython3",
   "version": "3.11.3"
  }
 },
 "nbformat": 4,
 "nbformat_minor": 5
}
