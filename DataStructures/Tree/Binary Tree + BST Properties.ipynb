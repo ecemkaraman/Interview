{
 "cells": [
  {
   "cell_type": "markdown",
   "id": "658ac13e",
   "metadata": {},
   "source": [
    "### 12. **Binary Tree / BST Properties**\n",
    "\n",
    "- **Description**: Verifying or calculating properties of trees, such as height, balance, symmetry, or whether the tree meets specific constraints.\n",
    "- **Popular Problems**:\n",
    "    - **Balanced Binary Tree** (LeetCode 110)\n",
    "    - **Symmetric Tree** (LeetCode 101)\n",
    "    - **Subtree of Another Tree** (LeetCode 572)\n",
    "    - **Is Same Tree** (LeetCode 100)\n",
    "    - **Is Subsequence** (LeetCode 392)"
   ]
  }
 ],
 "metadata": {
  "kernelspec": {
   "display_name": "Python 3 (ipykernel)",
   "language": "python",
   "name": "python3"
  },
  "language_info": {
   "codemirror_mode": {
    "name": "ipython",
    "version": 3
   },
   "file_extension": ".py",
   "mimetype": "text/x-python",
   "name": "python",
   "nbconvert_exporter": "python",
   "pygments_lexer": "ipython3",
   "version": "3.11.3"
  }
 },
 "nbformat": 4,
 "nbformat_minor": 5
}
