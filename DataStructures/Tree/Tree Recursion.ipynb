{
 "cells": [
  {
   "cell_type": "markdown",
   "id": "b3bd5d9f",
   "metadata": {},
   "source": [
    "### 6. **Tree Recursion**\n",
    "\n",
    "- **Description**: Problems where recursion is used to explore subtrees and perform calculations on the way up or down the recursion tree.\n",
    "- **Popular Problems**:\n",
    "    - **Maximum Depth of Binary Tree** (LeetCode 104)\n",
    "    - **Same Tree** (LeetCode 100)\n",
    "    - **Symmetric Tree** (LeetCode 101)\n",
    "    - **Invert Binary Tree** (LeetCode 226)\n",
    "    - **Balanced Binary Tree** (LeetCode 110)"
   ]
  },
  {
   "cell_type": "code",
   "execution_count": null,
   "id": "b00718d6",
   "metadata": {},
   "outputs": [],
   "source": []
  }
 ],
 "metadata": {
  "kernelspec": {
   "display_name": "Python 3 (ipykernel)",
   "language": "python",
   "name": "python3"
  },
  "language_info": {
   "codemirror_mode": {
    "name": "ipython",
    "version": 3
   },
   "file_extension": ".py",
   "mimetype": "text/x-python",
   "name": "python",
   "nbconvert_exporter": "python",
   "pygments_lexer": "ipython3",
   "version": "3.11.3"
  }
 },
 "nbformat": 4,
 "nbformat_minor": 5
}
