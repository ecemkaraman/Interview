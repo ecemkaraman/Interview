{
 "cells": [
  {
   "cell_type": "markdown",
   "id": "115b9914",
   "metadata": {},
   "source": [
    "### 8. **Tree Diameter / Longest Path Problems**\n",
    "\n",
    "- **Description**: Problems involving finding the longest path or diameter of the tree.\n",
    "- **Popular Problems**:\n",
    "    - **Diameter of Binary Tree** (LeetCode 543)\n",
    "    - **Binary Tree Maximum Path Sum** (LeetCode 124)\n",
    "    - **Longest Univalue Path** (LeetCode 687)\n",
    "    - **Longest Zigzag Path in a Binary Tree** (LeetCode 1372)"
   ]
  },
  {
   "cell_type": "code",
   "execution_count": null,
   "id": "be699138",
   "metadata": {},
   "outputs": [],
   "source": []
  }
 ],
 "metadata": {
  "kernelspec": {
   "display_name": "Python 3 (ipykernel)",
   "language": "python",
   "name": "python3"
  },
  "language_info": {
   "codemirror_mode": {
    "name": "ipython",
    "version": 3
   },
   "file_extension": ".py",
   "mimetype": "text/x-python",
   "name": "python",
   "nbconvert_exporter": "python",
   "pygments_lexer": "ipython3",
   "version": "3.11.3"
  }
 },
 "nbformat": 4,
 "nbformat_minor": 5
}
