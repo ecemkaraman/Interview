{
 "cells": [
  {
   "cell_type": "markdown",
   "id": "b1dfbdd6",
   "metadata": {},
   "source": [
    "### 13. **Tree Serialization & Deserialization**\n",
    "\n",
    "- **Description**: Converting a binary tree to a string or array format and reconstructing the original tree from that format.\n",
    "- **Popular Problems**:\n",
    "    - **Serialize and Deserialize Binary Tree** (LeetCode 297)\n",
    "    - **Serialize and Deserialize BST** (LeetCode 449)\n",
    "    - **Serialize and Deserialize N-ary Tree** (Custom Problem)"
   ]
  },
  {
   "cell_type": "code",
   "execution_count": null,
   "id": "ce63cb16",
   "metadata": {},
   "outputs": [],
   "source": []
  }
 ],
 "metadata": {
  "kernelspec": {
   "display_name": "Python 3 (ipykernel)",
   "language": "python",
   "name": "python3"
  },
  "language_info": {
   "codemirror_mode": {
    "name": "ipython",
    "version": 3
   },
   "file_extension": ".py",
   "mimetype": "text/x-python",
   "name": "python",
   "nbconvert_exporter": "python",
   "pygments_lexer": "ipython3",
   "version": "3.11.3"
  }
 },
 "nbformat": 4,
 "nbformat_minor": 5
}
