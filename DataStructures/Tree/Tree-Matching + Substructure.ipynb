{
 "cells": [
  {
   "cell_type": "markdown",
   "id": "40dbfc47",
   "metadata": {},
   "source": [
    "### 15. **Tree-Matching and Substructure Problems**\n",
    "\n",
    "- **Description**: Checking if a tree is a subtree of another tree, or matching patterns of trees.\n",
    "- **Popular Problems**:\n",
    "    - **Subtree of Another Tree** (LeetCode 572)\n",
    "    - **Isomorphic Trees** (Custom Problem)\n",
    "    - **Flip Equivalent Binary Trees** (LeetCode 951)"
   ]
  },
  {
   "cell_type": "code",
   "execution_count": null,
   "id": "410a0d64",
   "metadata": {},
   "outputs": [],
   "source": []
  }
 ],
 "metadata": {
  "kernelspec": {
   "display_name": "Python 3 (ipykernel)",
   "language": "python",
   "name": "python3"
  },
  "language_info": {
   "codemirror_mode": {
    "name": "ipython",
    "version": 3
   },
   "file_extension": ".py",
   "mimetype": "text/x-python",
   "name": "python",
   "nbconvert_exporter": "python",
   "pygments_lexer": "ipython3",
   "version": "3.11.3"
  }
 },
 "nbformat": 4,
 "nbformat_minor": 5
}
