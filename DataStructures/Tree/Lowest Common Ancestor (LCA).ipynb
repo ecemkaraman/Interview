{
 "cells": [
  {
   "cell_type": "markdown",
   "id": "de3de06c",
   "metadata": {},
   "source": [
    "### 16. **Lowest Common Ancestor Problems**\n",
    "\n",
    "- **Description**: Finding the lowest common ancestor (LCA) of two nodes in a binary tree or BST.\n",
    "- LCA(p,q) is the lowest/deepest node in a tree that has both (p,q) nodes as descendants.\n",
    "- LCA = The point where the paths from both nodes to the root intersect for the 1st time.\n",
    "- LCA is an **ancestor** of both nodes-> always located **above or at the same level** as the two nodes, never below them. \n",
    "    - Aka the \"parent\"(or grandparent etc) that both nodes share.\n",
    "    - A descendant is always below its ancestor in the tree.\n",
    "    - It’s the **lowest common point** in the hierarchy.\n",
    "- By definition, a node can be a descendant of itself. \n",
    "- **Popular Problems**:\n",
    "    - **LCA of BST:** Iterative Pre-order DFS\n",
    "    - **LCA of Binary Tree:** Recursive Pre-order DFS\n",
    "    - **Smallest Common Region** (LeetCode 1257)"
   ]
  },
  {
   "cell_type": "code",
   "execution_count": null,
   "id": "9d2c8750",
   "metadata": {},
   "outputs": [],
   "source": [
    "class TreeNode:\n",
    "    def __init__(self, val=0, left=None, right=None):\n",
    "        self.val = val\n",
    "        self.left = left\n",
    "        self.right = right"
   ]
  },
  {
   "cell_type": "markdown",
   "id": "0da94ca8",
   "metadata": {},
   "source": [
    "### 1. **LeetCode 235: Lowest Common Ancestor of a Binary Search Tree**\n",
    "\n",
    "- **Paraphrase:** We need to find the LCA of two nodes in a **BST**.\n",
    "- **Strategy:** Use the **BST property** (left subtree < root < right subtree) to find the LCA efficiently by comparing node values.\n",
    "\n",
    "- **Input**: A BST root, and two nodes `p` and `q`.\n",
    "- **Output**: The LCA node.\n",
    "- **Constraints**: The tree is a **BST**, and all node values are unique.\n",
    "\n",
    "**APPROACH: Direct Navigation** -> Start from the root\n",
    "1. If both `p` and `q` are smaller than the current node, explore the left subtree.\n",
    "2. If both `p` and `q` are larger, explore the right subtree.\n",
    "3. If one node is on the left and the other on the right, the current node is the LCA.\n",
    "\n",
    "- **Time**: **O(H)** Balanced trees=O(logn), Skewed trees=O(n)\n",
    "- **Space**: **O(1)** since we solve it iteratively without recursion.\n",
    "\n",
    "#### Edge Cases:\n",
    "- If `p` or `q` is the root, the root is the LCA.\n",
    "- If `p` and `q` are the same node, that node is the LCA ->disallowed in constraints\n",
    "- If p is an ancestor of q or vice versa - still works bc it handles splitting nodes.\n",
    "\n",
    "- *\"By leveraging the BST’s ordering properties, I reduced the search space to (O(h)), ensuring optimal traversal directly towards the LCA without needing to check all nodes.\""
   ]
  },
  {
   "cell_type": "code",
   "execution_count": null,
   "id": "d319cf56",
   "metadata": {},
   "outputs": [],
   "source": [
    "def lowestCommonAncestor(root, p, q):\n",
    "    current = root\n",
    "    while current:\n",
    "        if p.val < current.val and q.val < current.val:\n",
    "            current = current.left\n",
    "        elif p.val > current.val and q.val > current.val:\n",
    "            current = current.right\n",
    "        else:\n",
    "            return current"
   ]
  },
  {
   "cell_type": "markdown",
   "id": "2a91c8d0",
   "metadata": {},
   "source": [
    "### 2. LeetCode 236: Lowest Common Ancestor of a Binary Tree\n",
    "- **Approach**:Recursive Preorder DFS to explore both left & right subtrees. \n",
    "- The recursion stops when either `p` or `q` is found or when it reaches a leaf node (`None`). \n",
    "- If both the left and right subtrees return non-null values, it means `p` and `q` are found on opposite sides, so the current node is the LCA. \n",
    "- Otherwise, the non-null result from either the left or right subtree is returned as the potential LCA.\n",
    "- **Tradeoffs**:\n",
    "    - This recursive approach is efficient for general binary trees but may run into issues with deep recursion if the tree is very deep.\n",
    "    - **Edge cases** include the scenario where one of the nodes is the root or where both nodes are in the same subtree.\n",
    "    \n",
    "#### Input/Output/Constraints:\n",
    "- **Input**: `root`, `p` and `q` (two distinct nodes in the tree).\n",
    "- **Output**: The lowest common ancestor of `p` and `q`.\n",
    "- **Constraints**: All nodes are distinct, and both `p` and `q` are guaranteed to be in the tree.\n",
    "- **Edge Case 1**: If `p` or `q` is the root, the root is the LCA.\n",
    "- **Edge Case 2**: If `p` and `q` are the same node, that node is the LCA.\n",
    "- **Scenario**: If one node is the ancestor of another - handled in recursion, ancestor node will return itself when found.  \n",
    "- Stack overflow risk if deep recursion\n",
    "\n",
    "#### Time and Space Complexity:\n",
    "- **Time Complexity**: **O(N)** - worst case, we visit every node.\n",
    "- **Space Complexity**: **O(H)** - due to the recursion stack. Balanced trees=O(logn), Skewed trees=O(n)\n",
    "\n",
    "- \"This recursive DFS solution works efficiently in **O(N)** time, exploring both subtrees, and guarantees that the first node where both target nodes meet will be their LCA.\"\n",
    "- **Alternative Approach:** You can use **Iterative DFS/BFS** with a parent map to track the parent of each node + enable backtracking from both target nodes"
   ]
  },
  {
   "cell_type": "code",
   "execution_count": null,
   "id": "6dde5a18",
   "metadata": {},
   "outputs": [],
   "source": [
    "def lowestCommonAncestor(root, p, q):\n",
    "    # Base case: if the root is None or root is one of p or q\n",
    "    if not root or root == p or root == q:\n",
    "        return root\n",
    "\n",
    "    # Recursively search for LCA in the left and right subtrees\n",
    "    left = lowestCommonAncestor(root.left, p, q)\n",
    "    right = lowestCommonAncestor(root.right, p, q)\n",
    "\n",
    "    if left and right: # If left&right are both non-null, root=LCA\n",
    "        return root\n",
    "\n",
    "    # Otherwise, return the non-null child (left or right)\n",
    "    return left if left else right"
   ]
  },
  {
   "cell_type": "markdown",
   "id": "d1c5f621",
   "metadata": {},
   "source": [
    "### 3. **LeetCode 1257: Smallest Common Region**\n",
    "\n",
    "#### Paraphrase:\n",
    "Given a set of regions (hierarchical structure), find the smallest common region for two regions, similar to finding the LCA in a tree structure where each region can have multiple subregions.\n",
    "#### Input/Output:\n",
    "- **Input**: A list of regions and two region names.\n",
    "- **Output**: The smallest common region (i.e., the LCA of the two regions).\n",
    "- **Constraints**: Each region has exactly one parent, forming a tree-like structure.\n",
    "\n",
    "#### Time and Space Complexity:\n",
    "- **Time Complexity**: **O(N)**, we traverse each region once to build the parent map and then again to trace the ancestry. \n",
    "- **Space Complexity**: **O(N)** for the parent map and ancestor set.\n",
    "\n",
    "#### Edge Cases:\n",
    "- If `region1` or `region2` is a top-level region, it is the smallest common region.\n",
    "- Regions are guaranteed to exist, so no need for null checks.\n",
    "\n",
    "- **Approach**: Build a **parent map** where each region points to its parent. Trace the ancestors of `region1`, then trace the ancestors of `region2` until a common ancestor is found.\n",
    "- **Tradeoff**: Avoid recursive depth, but storing hashmap requires extra space.  \n",
    "- \"By using a parent map, this approach mimics LCA logic in non-binary tree structures, ensuring that we can find the smallest common region efficiently.\"\n",
    "\n",
    "#### Steps:\n",
    "1. **Build Parent Map**: Create a mapping of each region to its parent.\n",
    "2. **Trace Ancestry for Region 1**: Store the ancestors of `region1` in a set.\n",
    "3. **Find First Common Ancestor**: Trace the ancestry of `region2` and return the first common region."
   ]
  },
  {
   "cell_type": "code",
   "execution_count": null,
   "id": "06bfae04",
   "metadata": {},
   "outputs": [],
   "source": [
    "def findSmallestRegion(regions, region1, region2):\n",
    "    parent_map = {}\n",
    "\n",
    "    # Build the parent map from the regions list\n",
    "    for region_list in regions:\n",
    "        for region in region_list[1:]:\n",
    "            parent_map[region] = region_list[0]\n",
    "\n",
    "    # Build the ancestry path for region1\n",
    "    ancestors = set()\n",
    "    while region1:\n",
    "        ancestors.add(region1)\n",
    "        region1 = parent_map.get(region1)\n",
    "\n",
    "    # Find the first common ancestor for region2\n",
    "    while region2:\n",
    "        if region2 in ancestors:\n",
    "            return region2\n",
    "        region2 = parent_map.get(region2)\n",
    "\n",
    "    return None  #Although guaranteed, in case no common ancestor found "
   ]
  }
 ],
 "metadata": {
  "kernelspec": {
   "display_name": "Python 3 (ipykernel)",
   "language": "python",
   "name": "python3"
  },
  "language_info": {
   "codemirror_mode": {
    "name": "ipython",
    "version": 3
   },
   "file_extension": ".py",
   "mimetype": "text/x-python",
   "name": "python",
   "nbconvert_exporter": "python",
   "pygments_lexer": "ipython3",
   "version": "3.11.3"
  }
 },
 "nbformat": 4,
 "nbformat_minor": 5
}
