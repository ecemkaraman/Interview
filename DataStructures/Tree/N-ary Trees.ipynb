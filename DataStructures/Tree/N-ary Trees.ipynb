{
 "cells": [
  {
   "cell_type": "markdown",
   "id": "3bb91bdc",
   "metadata": {},
   "source": [
    "### 11. **N-ary Trees**\n",
    "\n",
    "- **Description**: Similar to binary trees but with nodes having more than two children. Traversals and operations apply similarly, but the code may need to handle multiple children.\n",
    "- **Popular Problems**:\n",
    "    - **N-ary Tree Preorder Traversal** (LeetCode 589)\n",
    "    - **N-ary Tree Postorder Traversal** (LeetCode 590)\n",
    "    - **Maximum Depth of N-ary Tree** (LeetCode 559)\n",
    "    - **Encode N-ary Tree to Binary Tree** (LeetCode 431)\n",
    "    - **Clone N-ary Tree** (Custom Problem)"
   ]
  },
  {
   "cell_type": "code",
   "execution_count": null,
   "id": "52413e77",
   "metadata": {},
   "outputs": [],
   "source": []
  }
 ],
 "metadata": {
  "kernelspec": {
   "display_name": "Python 3 (ipykernel)",
   "language": "python",
   "name": "python3"
  },
  "language_info": {
   "codemirror_mode": {
    "name": "ipython",
    "version": 3
   },
   "file_extension": ".py",
   "mimetype": "text/x-python",
   "name": "python",
   "nbconvert_exporter": "python",
   "pygments_lexer": "ipython3",
   "version": "3.11.3"
  }
 },
 "nbformat": 4,
 "nbformat_minor": 5
}
