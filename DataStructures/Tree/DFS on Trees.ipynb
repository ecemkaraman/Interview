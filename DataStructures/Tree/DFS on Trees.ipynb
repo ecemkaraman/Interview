{
 "cells": [
  {
   "cell_type": "markdown",
   "id": "76a46fed",
   "metadata": {},
   "source": [
    "### 3. **Depth-First Search (DFS) on Trees**\n",
    "\n",
    "- **Description**: DFS is often used to explore all nodes in a tree or solve problems where backtracking is needed.\n",
    "- **Popular Problems**:\n",
    "    - **Maximum Depth of Binary Tree** (LeetCode 104)\n",
    "    - **Path Sum** (LeetCode 112)\n",
    "    - **Binary Tree Paths** (LeetCode 257)\n",
    "    - **Sum Root to Leaf Numbers** (LeetCode 129)\n",
    "    - **Diameter of Binary Tree** (LeetCode 543)"
   ]
  },
  {
   "cell_type": "code",
   "execution_count": null,
   "id": "24df7185",
   "metadata": {},
   "outputs": [],
   "source": []
  }
 ],
 "metadata": {
  "kernelspec": {
   "display_name": "Python 3 (ipykernel)",
   "language": "python",
   "name": "python3"
  },
  "language_info": {
   "codemirror_mode": {
    "name": "ipython",
    "version": 3
   },
   "file_extension": ".py",
   "mimetype": "text/x-python",
   "name": "python",
   "nbconvert_exporter": "python",
   "pygments_lexer": "ipython3",
   "version": "3.11.3"
  }
 },
 "nbformat": 4,
 "nbformat_minor": 5
}
