{
 "cells": [
  {
   "cell_type": "markdown",
   "id": "f4a1b799",
   "metadata": {},
   "source": [
    "### 14. **Tree Flattening**\n",
    "\n",
    "- **Description**: Converting a tree structure into a flat form, such as a linked list or an array.\n",
    "- **Popular Problems**:\n",
    "    - **Flatten Binary Tree to Linked List** (LeetCode 114)\n",
    "    - **Convert Binary Search Tree to Sorted Doubly Linked List** (LeetCode 426)\n",
    "    - **Increasing Order Search Tree** (LeetCode 897)"
   ]
  },
  {
   "cell_type": "code",
   "execution_count": null,
   "id": "1e8a0e22",
   "metadata": {},
   "outputs": [],
   "source": []
  }
 ],
 "metadata": {
  "kernelspec": {
   "display_name": "Python 3 (ipykernel)",
   "language": "python",
   "name": "python3"
  },
  "language_info": {
   "codemirror_mode": {
    "name": "ipython",
    "version": 3
   },
   "file_extension": ".py",
   "mimetype": "text/x-python",
   "name": "python",
   "nbconvert_exporter": "python",
   "pygments_lexer": "ipython3",
   "version": "3.11.3"
  }
 },
 "nbformat": 4,
 "nbformat_minor": 5
}
