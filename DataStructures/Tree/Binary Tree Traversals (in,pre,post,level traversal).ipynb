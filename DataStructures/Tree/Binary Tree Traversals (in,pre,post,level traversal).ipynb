{
 "cells": [
  {
   "cell_type": "markdown",
   "id": "1246f4e4",
   "metadata": {},
   "source": [
    "### 1. **Binary Tree Traversals**\n",
    "\n",
    "- **Description**: Traversing the nodes of a tree in different orders (Preorder, Inorder, Postorder, Level-order). These are fundamental operations in tree problems.\n",
    "- **Popular Problems**:\n",
    "    - **Binary Tree Inorder Traversal** (LeetCode 94)\n",
    "    - **Binary Tree Preorder Traversal** (LeetCode 144)\n",
    "    - **Binary Tree Postorder Traversal** (LeetCode 145)\n",
    "    - **Binary Tree Level Order Traversal** (LeetCode 102)"
   ]
  },
  {
   "cell_type": "code",
   "execution_count": null,
   "id": "38f9ab03",
   "metadata": {},
   "outputs": [],
   "source": []
  }
 ],
 "metadata": {
  "kernelspec": {
   "display_name": "Python 3 (ipykernel)",
   "language": "python",
   "name": "python3"
  },
  "language_info": {
   "codemirror_mode": {
    "name": "ipython",
    "version": 3
   },
   "file_extension": ".py",
   "mimetype": "text/x-python",
   "name": "python",
   "nbconvert_exporter": "python",
   "pygments_lexer": "ipython3",
   "version": "3.11.3"
  }
 },
 "nbformat": 4,
 "nbformat_minor": 5
}
