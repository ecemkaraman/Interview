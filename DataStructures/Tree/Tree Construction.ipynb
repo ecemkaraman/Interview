{
 "cells": [
  {
   "cell_type": "markdown",
   "id": "ddd678aa",
   "metadata": {},
   "source": [
    "### 5. **Tree Construction**\n",
    "\n",
    "- **Description**: Constructing a binary tree or BST from traversal orders or other forms of input.\n",
    "- **Popular Problems**:\n",
    "    - **Construct Binary Tree from Preorder and Inorder Traversal** (LeetCode 105)\n",
    "    - **Construct Binary Tree from Inorder and Postorder Traversal** (LeetCode 106)\n",
    "    - **Convert Sorted Array to Binary Search Tree** (LeetCode 108)\n",
    "    - **Serialize and Deserialize Binary Tree** (LeetCode 297)\n",
    "    - **Construct Binary Search Tree from Preorder Traversal** (LeetCode 1008)"
   ]
  },
  {
   "cell_type": "code",
   "execution_count": null,
   "id": "d6c0fd9a",
   "metadata": {},
   "outputs": [],
   "source": []
  }
 ],
 "metadata": {
  "kernelspec": {
   "display_name": "Python 3 (ipykernel)",
   "language": "python",
   "name": "python3"
  },
  "language_info": {
   "codemirror_mode": {
    "name": "ipython",
    "version": 3
   },
   "file_extension": ".py",
   "mimetype": "text/x-python",
   "name": "python",
   "nbconvert_exporter": "python",
   "pygments_lexer": "ipython3",
   "version": "3.11.3"
  }
 },
 "nbformat": 4,
 "nbformat_minor": 5
}
