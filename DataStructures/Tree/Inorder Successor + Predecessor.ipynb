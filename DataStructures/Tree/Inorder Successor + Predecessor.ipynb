{
 "cells": [
  {
   "cell_type": "markdown",
   "id": "6acd843b",
   "metadata": {},
   "source": [
    "### 17. **Inorder Successor / Predecessor Problems**\n",
    "\n",
    "- **Description**: Finding the next or previous node in an in-order traversal of a tree.\n",
    "- **Popular Problems**:\n",
    "    - **Inorder Successor in BST** (LeetCode 285)\n",
    "    - **Inorder Predecessor in BST** (Custom Problem)\n",
    "    - **Kth Smallest Element in a BST** (LeetCode 230)"
   ]
  },
  {
   "cell_type": "code",
   "execution_count": null,
   "id": "57772b21",
   "metadata": {},
   "outputs": [],
   "source": []
  }
 ],
 "metadata": {
  "kernelspec": {
   "display_name": "Python 3 (ipykernel)",
   "language": "python",
   "name": "python3"
  },
  "language_info": {
   "codemirror_mode": {
    "name": "ipython",
    "version": 3
   },
   "file_extension": ".py",
   "mimetype": "text/x-python",
   "name": "python",
   "nbconvert_exporter": "python",
   "pygments_lexer": "ipython3",
   "version": "3.11.3"
  }
 },
 "nbformat": 4,
 "nbformat_minor": 5
}
