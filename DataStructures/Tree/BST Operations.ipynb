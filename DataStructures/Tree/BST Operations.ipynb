{
 "cells": [
  {
   "cell_type": "markdown",
   "id": "cd31593f",
   "metadata": {},
   "source": [
    "## 2. **BST Operations**\n",
    "\n",
    "- **Description**: Problems that take advantage of the ordered property of BSTs, including operations like search, insert, and delete, as well as range queries and finding specific elements.\n",
    "- **Popular Problems**:\n",
    "    - **Validate Binary Search Tree** (LeetCode 98)\n",
    "    - **Insert into a Binary Search Tree** (LeetCode 701)\n",
    "    - **Delete Node in a BST** (LeetCode 450)\n",
    "    - **Lowest Common Ancestor of a BST** (LeetCode 235)\n",
    "    - **Kth Smallest Element in a BST** (LeetCode 230)\n",
    "    - **Find Mode in Binary Search Tree** (LeetCode 501)"
   ]
  },
  {
   "cell_type": "code",
   "execution_count": 1,
   "id": "9f92e868",
   "metadata": {},
   "outputs": [],
   "source": [
    "from typing import Optional"
   ]
  },
  {
   "cell_type": "code",
   "execution_count": 2,
   "id": "91a86887",
   "metadata": {},
   "outputs": [],
   "source": [
    "# CONSTRUCTOR \n",
    "class TreeNode:\n",
    "    def __init__(self, val=0, left=None, right=None):\n",
    "        self.val = val\n",
    "        self.left = left\n",
    "        self.right = right\n",
    "\n",
    "class BinarySearchTree:\n",
    "    def __init__(self):\n",
    "        self.root = None "
   ]
  },
  {
   "cell_type": "markdown",
   "id": "8c6f5780",
   "metadata": {},
   "source": [
    "### **Validate Binary Search Tree** (98, Medium)\n",
    "- Given the root of a binary tree, determine if it is a valid BST (T/F)\n",
    "- left_subtree < current_node < right_subtree\n",
    "- Recursive DFS: This approach doesn’t do traditional DFS traversal but it mimics inorder logic (left→current→right) to enforce BST validity left < root < right.\n",
    "- **Each node’s value is checked against a range that updates as we traverse down the tree. \n",
    "\n",
    "1. **Recursive Validation**: The `validate` function checks if the current node falls within its range. If not, it returns `False`.\n",
    "2. **Range Update**: \n",
    "    1. We start by setting an initial range of `(-∞, ∞)` for the root. \n",
    "    2. Left child: the high limit becomes the current node’s value→ range is updated to `(-∞, node.val)`. \n",
    "    3. Right child: the low limit becomes the current node’s value→range becomes `(node.val, ∞)`\n",
    "3. **Base Case**: If a node is `None`, it returns `True` since an empty subtree is valid.\n",
    "\n",
    "- **Time** : O(n), as each node is visited once.\n",
    "- **Space** : O(h), due to recursion stack → risk of stack overflow in deep trees\n",
    "- “This recursive solution effectively checks BST validity by dynamically adjusting node ranges, balancing optimal time complexity with manageable space usage due to its depth-first nature.”\n",
    "- Check Notion for iterative solution"
   ]
  },
  {
   "cell_type": "code",
   "execution_count": 3,
   "id": "c46fcc6b",
   "metadata": {},
   "outputs": [],
   "source": [
    "def isValidBST(root: Optional[TreeNode]) -> bool:\n",
    "    def validate(node, low, high):\n",
    "        if not node:\n",
    "            return True #Base case: An empty subtree is valid\n",
    "        if not (low<node.val<high):\n",
    "            return False\n",
    "        #return True only if both left&right recursive calls are True\n",
    "        return (validate(node.left, low, node.val) \n",
    "                and validate(node.right, node.val, high))\n",
    "    \n",
    "    return validate(root, float('-inf'), float('inf'))"
   ]
  },
  {
   "cell_type": "code",
   "execution_count": 6,
   "id": "65d63cea",
   "metadata": {},
   "outputs": [
    {
     "name": "stdout",
     "output_type": "stream",
     "text": [
      "True\n"
     ]
    }
   ],
   "source": [
    "#Test Case: root = [2,1,3]\n",
    "#WATCH OUT! Construct the tree from TreeNode class, don't pass a list\n",
    "root = TreeNode(2)\n",
    "root.left = TreeNode(1)\n",
    "root.right = TreeNode(3)\n",
    "\n",
    "print(isValidBST(root)) "
   ]
  },
  {
   "cell_type": "code",
   "execution_count": 9,
   "id": "f60d9550",
   "metadata": {},
   "outputs": [
    {
     "name": "stdout",
     "output_type": "stream",
     "text": [
      "False\n"
     ]
    }
   ],
   "source": [
    "#Test Case2: root = [5,1,4,null,null,3,6]\n",
    "root = TreeNode(5)\n",
    "root.left = TreeNode(1)\n",
    "root.right = TreeNode(4)\n",
    "root.right.left = TreeNode(3)\n",
    "root.right.right = TreeNode(6)\n",
    "print(isValidBST(root)) "
   ]
  },
  {
   "cell_type": "code",
   "execution_count": null,
   "id": "94c844c7",
   "metadata": {},
   "outputs": [],
   "source": []
  }
 ],
 "metadata": {
  "kernelspec": {
   "display_name": "Python 3 (ipykernel)",
   "language": "python",
   "name": "python3"
  },
  "language_info": {
   "codemirror_mode": {
    "name": "ipython",
    "version": 3
   },
   "file_extension": ".py",
   "mimetype": "text/x-python",
   "name": "python",
   "nbconvert_exporter": "python",
   "pygments_lexer": "ipython3",
   "version": "3.11.3"
  }
 },
 "nbformat": 4,
 "nbformat_minor": 5
}
