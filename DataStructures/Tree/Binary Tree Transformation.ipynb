{
 "cells": [
  {
   "cell_type": "markdown",
   "id": "d311157c",
   "metadata": {},
   "source": [
    "### 9. **Binary Tree Transformation / Modification**\n",
    "\n",
    "- **Description**: Problems where you need to modify the structure of a binary tree, such as converting to another format or flattening it.\n",
    "- **Popular Problems**:\n",
    "    - **Flatten Binary Tree to Linked List** (LeetCode 114)\n",
    "    - **Convert BST to Greater Tree** (LeetCode 538)\n",
    "    - **Populating Next Right Pointers in Each Node** (LeetCode 116)\n",
    "    - **Binary Tree Pruning** (LeetCode 814)\n",
    "    - **Recover Binary Search Tree** (LeetCode 99)"
   ]
  },
  {
   "cell_type": "code",
   "execution_count": null,
   "id": "332df01c",
   "metadata": {},
   "outputs": [],
   "source": []
  }
 ],
 "metadata": {
  "kernelspec": {
   "display_name": "Python 3 (ipykernel)",
   "language": "python",
   "name": "python3"
  },
  "language_info": {
   "codemirror_mode": {
    "name": "ipython",
    "version": 3
   },
   "file_extension": ".py",
   "mimetype": "text/x-python",
   "name": "python",
   "nbconvert_exporter": "python",
   "pygments_lexer": "ipython3",
   "version": "3.11.3"
  }
 },
 "nbformat": 4,
 "nbformat_minor": 5
}
