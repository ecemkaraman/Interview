{
 "cells": [
  {
   "cell_type": "markdown",
   "id": "2f81967e",
   "metadata": {},
   "source": [
    "### **8. Regular Expressions and Wildcard Matching**\n",
    "\n",
    "**Pattern**:\n",
    "\n",
    "- Problems involving matching strings based on patterns defined by regular expressions or wildcards.\n",
    "\n",
    "**Key Characteristics**:\n",
    "\n",
    "- Often requires a deep understanding of regex rules and backtracking.\n",
    "- May involve dynamic programming for complex patterns.\n",
    "\n",
    "**LeetCode Examples**:\n",
    "\n",
    "- **LeetCode 10**: Regular Expression Matching\n",
    "- **LeetCode 44**: Wildcard Matching\n",
    "- **LeetCode 168**: Excel Sheet Column Title (handling patterns)"
   ]
  },
  {
   "cell_type": "code",
   "execution_count": null,
   "id": "35e5242d",
   "metadata": {},
   "outputs": [],
   "source": []
  }
 ],
 "metadata": {
  "kernelspec": {
   "display_name": "Python 3 (ipykernel)",
   "language": "python",
   "name": "python3"
  },
  "language_info": {
   "codemirror_mode": {
    "name": "ipython",
    "version": 3
   },
   "file_extension": ".py",
   "mimetype": "text/x-python",
   "name": "python",
   "nbconvert_exporter": "python",
   "pygments_lexer": "ipython3",
   "version": "3.11.3"
  }
 },
 "nbformat": 4,
 "nbformat_minor": 5
}
