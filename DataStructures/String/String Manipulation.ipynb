{
 "cells": [
  {
   "cell_type": "markdown",
   "id": "86c8f4cc",
   "metadata": {},
   "source": [
    "### **2. String Manipulation Problems**\n",
    "\n",
    "**Pattern**:\n",
    "\n",
    "- Problems that require performing various operations on strings, such as reversing, rotating, or rearranging characters.\n",
    "\n",
    "**Key Characteristics**:\n",
    "\n",
    "- Involves using data structures like stacks, queues, or lists for transformation.\n",
    "- May involve checking for valid conditions after manipulation.\n",
    "\n",
    "**LeetCode Examples**:\n",
    "\n",
    "- **LeetCode 344**: Reverse String\n",
    "- **LeetCode 557**: Reverse Words in a String III\n",
    "- **LeetCode 541**: Reverse String II\n",
    "- **LeetCode 38**: Count and Say"
   ]
  },
  {
   "cell_type": "code",
   "execution_count": null,
   "id": "df16d888",
   "metadata": {},
   "outputs": [],
   "source": []
  }
 ],
 "metadata": {
  "kernelspec": {
   "display_name": "Python 3 (ipykernel)",
   "language": "python",
   "name": "python3"
  },
  "language_info": {
   "codemirror_mode": {
    "name": "ipython",
    "version": 3
   },
   "file_extension": ".py",
   "mimetype": "text/x-python",
   "name": "python",
   "nbconvert_exporter": "python",
   "pygments_lexer": "ipython3",
   "version": "3.11.3"
  }
 },
 "nbformat": 4,
 "nbformat_minor": 5
}
