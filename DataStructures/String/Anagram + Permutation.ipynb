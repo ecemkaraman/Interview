{
 "cells": [
  {
   "cell_type": "markdown",
   "id": "3fe76507",
   "metadata": {},
   "source": [
    "### **3. Anagram and Permutation Problems**\n",
    "\n",
    "**Pattern**:\n",
    "\n",
    "- Problems that involve determining if two strings are anagrams or finding all permutations of a string.\n",
    "\n",
    "**Key Characteristics**:\n",
    "\n",
    "- Often uses hash maps or sorting techniques to check for anagrams.\n",
    "- Permutation problems typically use backtracking.\n",
    "\n",
    "**LeetCode Examples**:\n",
    "\n",
    "- **LeetCode 49**: Group Anagrams\n",
    "- **LeetCode 242**: Valid Anagram\n",
    "- **LeetCode 46**: Permutations\n",
    "- **LeetCode 47**: Permutations II (with duplicates)"
   ]
  },
  {
   "cell_type": "code",
   "execution_count": null,
   "id": "d43c86ad",
   "metadata": {},
   "outputs": [],
   "source": []
  }
 ],
 "metadata": {
  "kernelspec": {
   "display_name": "Python 3 (ipykernel)",
   "language": "python",
   "name": "python3"
  },
  "language_info": {
   "codemirror_mode": {
    "name": "ipython",
    "version": 3
   },
   "file_extension": ".py",
   "mimetype": "text/x-python",
   "name": "python",
   "nbconvert_exporter": "python",
   "pygments_lexer": "ipython3",
   "version": "3.11.3"
  }
 },
 "nbformat": 4,
 "nbformat_minor": 5
}
