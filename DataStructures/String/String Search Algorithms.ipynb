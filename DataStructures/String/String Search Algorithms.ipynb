{
 "cells": [
  {
   "cell_type": "markdown",
   "id": "4cb52674",
   "metadata": {},
   "source": [
    "### **9. String Search Algorithms**\n",
    "\n",
    "**Pattern**:\n",
    "\n",
    "- Problems focused on efficiently searching for strings or substrings.\n",
    "\n",
    "**Key Characteristics**:\n",
    "\n",
    "- Involves implementing efficient search algorithms like KMP or Rabin-Karp.\n",
    "- Requires optimization to handle large datasets.\n",
    "\n",
    "**LeetCode Examples**:\n",
    "\n",
    "- **LeetCode 28**: Implement strStr()\n",
    "- **LeetCode 186**: Reverse Words in a String II (involves searching and reversing)\n",
    "- **LeetCode 792**: Number of Matching Subsequences"
   ]
  },
  {
   "cell_type": "code",
   "execution_count": null,
   "id": "4dc35636",
   "metadata": {},
   "outputs": [],
   "source": []
  }
 ],
 "metadata": {
  "kernelspec": {
   "display_name": "Python 3 (ipykernel)",
   "language": "python",
   "name": "python3"
  },
  "language_info": {
   "codemirror_mode": {
    "name": "ipython",
    "version": 3
   },
   "file_extension": ".py",
   "mimetype": "text/x-python",
   "name": "python",
   "nbconvert_exporter": "python",
   "pygments_lexer": "ipython3",
   "version": "3.11.3"
  }
 },
 "nbformat": 4,
 "nbformat_minor": 5
}
