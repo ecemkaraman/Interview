{
 "cells": [
  {
   "cell_type": "markdown",
   "id": "a8280780",
   "metadata": {},
   "source": [
    "### **1. Substring and Subsequence Problems**\n",
    "\n",
    "**Pattern**:\n",
    "\n",
    "- Problems that involve finding substrings or subsequences based on specific conditions.\n",
    "\n",
    "**Key Characteristics**:\n",
    "\n",
    "- Often requires brute-force search, sliding window, or two-pointer techniques.\n",
    "- Can involve checking for properties like uniqueness or matching.\n",
    "\n",
    "**LeetCode Examples**:\n",
    "\n",
    "- **LeetCode 3**: Longest Substring Without Repeating Characters\n",
    "- **LeetCode 5**: Longest Palindromic Substring\n",
    "- **LeetCode 30**: Substring with Concatenation of All Words\n",
    "- **LeetCode 1143**: Longest Common Subsequence"
   ]
  },
  {
   "cell_type": "code",
   "execution_count": null,
   "id": "659160b5",
   "metadata": {},
   "outputs": [],
   "source": []
  }
 ],
 "metadata": {
  "kernelspec": {
   "display_name": "Python 3 (ipykernel)",
   "language": "python",
   "name": "python3"
  },
  "language_info": {
   "codemirror_mode": {
    "name": "ipython",
    "version": 3
   },
   "file_extension": ".py",
   "mimetype": "text/x-python",
   "name": "python",
   "nbconvert_exporter": "python",
   "pygments_lexer": "ipython3",
   "version": "3.11.3"
  }
 },
 "nbformat": 4,
 "nbformat_minor": 5
}
