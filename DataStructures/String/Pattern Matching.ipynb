{
 "cells": [
  {
   "cell_type": "markdown",
   "id": "b66d04a8",
   "metadata": {},
   "source": [
    "### **4. Pattern Matching Problems**\n",
    "\n",
    "**Pattern**:\n",
    "\n",
    "- Problems that involve searching for a specific pattern or substring within a string.\n",
    "\n",
    "**Key Characteristics**:\n",
    "\n",
    "- Often utilizes algorithms like KMP (Knuth-Morris-Pratt) or Rabin-Karp for efficiency.\n",
    "- May require handling edge cases like overlaps.\n",
    "\n",
    "**LeetCode Examples**:\n",
    "\n",
    "- **LeetCode 28**: Implement strStr()\n",
    "- **LeetCode 4**: Median of Two Sorted Arrays (involves searching through patterns)\n",
    "- **LeetCode 918**: Maximum Sum Circular Subarray (can involve substring patterns)"
   ]
  },
  {
   "cell_type": "code",
   "execution_count": null,
   "id": "e4a0f3d3",
   "metadata": {},
   "outputs": [],
   "source": []
  }
 ],
 "metadata": {
  "kernelspec": {
   "display_name": "Python 3 (ipykernel)",
   "language": "python",
   "name": "python3"
  },
  "language_info": {
   "codemirror_mode": {
    "name": "ipython",
    "version": 3
   },
   "file_extension": ".py",
   "mimetype": "text/x-python",
   "name": "python",
   "nbconvert_exporter": "python",
   "pygments_lexer": "ipython3",
   "version": "3.11.3"
  }
 },
 "nbformat": 4,
 "nbformat_minor": 5
}
