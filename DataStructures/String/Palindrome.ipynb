{
 "cells": [
  {
   "cell_type": "markdown",
   "id": "b0b99ed3",
   "metadata": {},
   "source": [
    "### **6. Palindrome Problems**\n",
    "\n",
    "**Pattern**:\n",
    "\n",
    "- Problems that involve checking if a string is a palindrome or finding palindromic substrings.\n",
    "\n",
    "**Key Characteristics**:\n",
    "\n",
    "- Can use dynamic programming, expand around center, or two-pointer techniques.\n",
    "- Focused on symmetrical properties of strings.\n",
    "\n",
    "**LeetCode Examples**:\n",
    "\n",
    "- **LeetCode 5**: Longest Palindromic Substring\n",
    "- **LeetCode 125**: Valid Palindrome\n",
    "- **LeetCode 131**: Palindrome Partitioning\n",
    "- **LeetCode 409**: Longest Palindrome (counting characters)"
   ]
  },
  {
   "cell_type": "code",
   "execution_count": null,
   "id": "9fcd242f",
   "metadata": {},
   "outputs": [],
   "source": []
  }
 ],
 "metadata": {
  "kernelspec": {
   "display_name": "Python 3 (ipykernel)",
   "language": "python",
   "name": "python3"
  },
  "language_info": {
   "codemirror_mode": {
    "name": "ipython",
    "version": 3
   },
   "file_extension": ".py",
   "mimetype": "text/x-python",
   "name": "python",
   "nbconvert_exporter": "python",
   "pygments_lexer": "ipython3",
   "version": "3.11.3"
  }
 },
 "nbformat": 4,
 "nbformat_minor": 5
}
