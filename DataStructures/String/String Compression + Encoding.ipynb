{
 "cells": [
  {
   "cell_type": "markdown",
   "id": "0b897c75",
   "metadata": {},
   "source": [
    "### **5. String Compression and Encoding Problems**\n",
    "\n",
    "**Pattern**:\n",
    "\n",
    "- Problems that involve compressing strings or encoding information in a specific format.\n",
    "\n",
    "**Key Characteristics**:\n",
    "\n",
    "- May involve using run-length encoding or maintaining count of characters.\n",
    "- Often requires understanding of memory efficiency.\n",
    "\n",
    "**LeetCode Examples**:\n",
    "\n",
    "- **LeetCode 443**: String Compression\n",
    "- **LeetCode 819**: Most Common Word\n",
    "- **LeetCode Encode and Decode Strings**: (design problems with encoding)"
   ]
  },
  {
   "cell_type": "code",
   "execution_count": null,
   "id": "a7df5944",
   "metadata": {},
   "outputs": [],
   "source": []
  }
 ],
 "metadata": {
  "kernelspec": {
   "display_name": "Python 3 (ipykernel)",
   "language": "python",
   "name": "python3"
  },
  "language_info": {
   "codemirror_mode": {
    "name": "ipython",
    "version": 3
   },
   "file_extension": ".py",
   "mimetype": "text/x-python",
   "name": "python",
   "nbconvert_exporter": "python",
   "pygments_lexer": "ipython3",
   "version": "3.11.3"
  }
 },
 "nbformat": 4,
 "nbformat_minor": 5
}
