{
 "cells": [
  {
   "cell_type": "markdown",
   "id": "ef21852c",
   "metadata": {},
   "source": [
    "### 7. **Merging / Sorting Arrays**\n",
    "\n",
    "- **Description**: Problems that involve merging or sorting arrays or parts of arrays, sometimes under specific constraints.\n",
    "- **Popular Problems**:\n",
    "    - **Merge Intervals** (LeetCode 56)\n",
    "    - **Insert Interval** (LeetCode 57)\n",
    "    - **Merge Sorted Array** (LeetCode 88)\n",
    "    - **Meeting Rooms II** (LeetCode 253)\n",
    "    - **Kth Largest Element in an Array** (LeetCode 215)"
   ]
  },
  {
   "cell_type": "code",
   "execution_count": null,
   "id": "da31f82f",
   "metadata": {},
   "outputs": [],
   "source": []
  }
 ],
 "metadata": {
  "kernelspec": {
   "display_name": "Python 3 (ipykernel)",
   "language": "python",
   "name": "python3"
  },
  "language_info": {
   "codemirror_mode": {
    "name": "ipython",
    "version": 3
   },
   "file_extension": ".py",
   "mimetype": "text/x-python",
   "name": "python",
   "nbconvert_exporter": "python",
   "pygments_lexer": "ipython3",
   "version": "3.11.3"
  }
 },
 "nbformat": 4,
 "nbformat_minor": 5
}
