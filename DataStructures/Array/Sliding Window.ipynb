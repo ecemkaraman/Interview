{
 "cells": [
  {
   "cell_type": "markdown",
   "id": "0f5f6a8b",
   "metadata": {},
   "source": [
    "### 2. **Sliding Window**\n",
    "\n",
    "- **Description**: Problems where you need to find a subarray with certain properties by maintaining a \"window\" over a portion of the array.\n",
    "- **Popular Problems**:\n",
    "    - **Longest Substring Without Repeating Characters** (LeetCode 3)\n",
    "    - **Minimum Size Subarray Sum** (LeetCode 209)\n",
    "    - **Permutation in String** (LeetCode 567)\n",
    "    - **Find All Anagrams in a String** (LeetCode 438)\n",
    "    - **Sliding Window Maximum** (LeetCode 239)"
   ]
  },
  {
   "cell_type": "code",
   "execution_count": null,
   "id": "a8e52c99",
   "metadata": {},
   "outputs": [],
   "source": []
  }
 ],
 "metadata": {
  "kernelspec": {
   "display_name": "Python 3 (ipykernel)",
   "language": "python",
   "name": "python3"
  },
  "language_info": {
   "codemirror_mode": {
    "name": "ipython",
    "version": 3
   },
   "file_extension": ".py",
   "mimetype": "text/x-python",
   "name": "python",
   "nbconvert_exporter": "python",
   "pygments_lexer": "ipython3",
   "version": "3.11.3"
  }
 },
 "nbformat": 4,
 "nbformat_minor": 5
}
