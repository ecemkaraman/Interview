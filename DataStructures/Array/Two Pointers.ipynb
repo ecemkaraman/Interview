{
 "cells": [
  {
   "cell_type": "markdown",
   "id": "58af4ba0",
   "metadata": {},
   "source": [
    "### 1. **Two Pointers**\n",
    "\n",
    "- **Description**: Problems where two pointers (or indices) are used to iterate through the array from both ends or from the same starting point.\n",
    "- **Popular Problems**:\n",
    "    - **Two Sum II - Input Array Is Sorted** (LeetCode 167)\n",
    "    - **3Sum** (LeetCode 15)\n",
    "    - **Container With Most Water** (LeetCode 11)\n",
    "    - **Remove Duplicates from Sorted Array** (LeetCode 26)\n",
    "    - **Move Zeroes** (LeetCode 283)"
   ]
  },
  {
   "cell_type": "code",
   "execution_count": null,
   "id": "d57143cf",
   "metadata": {},
   "outputs": [],
   "source": []
  }
 ],
 "metadata": {
  "kernelspec": {
   "display_name": "Python 3 (ipykernel)",
   "language": "python",
   "name": "python3"
  },
  "language_info": {
   "codemirror_mode": {
    "name": "ipython",
    "version": 3
   },
   "file_extension": ".py",
   "mimetype": "text/x-python",
   "name": "python",
   "nbconvert_exporter": "python",
   "pygments_lexer": "ipython3",
   "version": "3.11.3"
  }
 },
 "nbformat": 4,
 "nbformat_minor": 5
}
