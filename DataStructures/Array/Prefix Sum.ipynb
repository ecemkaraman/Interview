{
 "cells": [
  {
   "cell_type": "markdown",
   "id": "8711f60c",
   "metadata": {},
   "source": [
    "### 3. **Prefix Sum / Cumulative Sum**\n",
    "\n",
    "- **Description**: Problems that require precomputing sums or differences to answer range-based queries efficiently.\n",
    "- **Popular Problems**:\n",
    "    - **Subarray Sum Equals K** (LeetCode 560)\n",
    "    - **Range Sum Query - Immutable** (LeetCode 303)\n",
    "    - **Find Pivot Index** (LeetCode 724)\n",
    "    - **Maximum Size Subarray Sum Equals K** (LeetCode 325)\n",
    "    - **Product of Array Except Self** (LeetCode 238)"
   ]
  },
  {
   "cell_type": "code",
   "execution_count": null,
   "id": "babfccbb",
   "metadata": {},
   "outputs": [],
   "source": []
  }
 ],
 "metadata": {
  "kernelspec": {
   "display_name": "Python 3 (ipykernel)",
   "language": "python",
   "name": "python3"
  },
  "language_info": {
   "codemirror_mode": {
    "name": "ipython",
    "version": 3
   },
   "file_extension": ".py",
   "mimetype": "text/x-python",
   "name": "python",
   "nbconvert_exporter": "python",
   "pygments_lexer": "ipython3",
   "version": "3.11.3"
  }
 },
 "nbformat": 4,
 "nbformat_minor": 5
}
