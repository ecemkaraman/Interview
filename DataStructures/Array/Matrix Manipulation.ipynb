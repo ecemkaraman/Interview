{
 "cells": [
  {
   "cell_type": "markdown",
   "id": "5fc77213",
   "metadata": {},
   "source": [
    "### 8. **Matrix Manipulation (2D Arrays)**\n",
    "\n",
    "- **Description**: Problems that deal with 2D arrays, often treating them as grids or matrices.\n",
    "- **Popular Problems**:\n",
    "    - **Set Matrix Zeroes** (LeetCode 73)\n",
    "    - **Rotate Image** (LeetCode 48)\n",
    "    - **Spiral Matrix** (LeetCode 54)\n",
    "    - **Game of Life** (LeetCode 289)\n",
    "    - **Search a 2D Matrix** (LeetCode 74)"
   ]
  },
  {
   "cell_type": "code",
   "execution_count": null,
   "id": "e859e9f0",
   "metadata": {},
   "outputs": [],
   "source": []
  }
 ],
 "metadata": {
  "kernelspec": {
   "display_name": "Python 3 (ipykernel)",
   "language": "python",
   "name": "python3"
  },
  "language_info": {
   "codemirror_mode": {
    "name": "ipython",
    "version": 3
   },
   "file_extension": ".py",
   "mimetype": "text/x-python",
   "name": "python",
   "nbconvert_exporter": "python",
   "pygments_lexer": "ipython3",
   "version": "3.11.3"
  }
 },
 "nbformat": 4,
 "nbformat_minor": 5
}
