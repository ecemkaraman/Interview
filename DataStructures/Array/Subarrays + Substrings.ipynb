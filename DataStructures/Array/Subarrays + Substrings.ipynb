{
 "cells": [
  {
   "cell_type": "markdown",
   "id": "c62741af",
   "metadata": {},
   "source": [
    "### 11. **Subarrays and Substrings**\n",
    "\n",
    "- **Description**: Problems that deal with subarrays, substrings, or contiguous portions of arrays or strings.\n",
    "- **Popular Problems**:\n",
    "    - **Longest Consecutive Sequence** (LeetCode 128)\n",
    "    - **Subarray Product Less Than K** (LeetCode 713)\n",
    "    - **Maximum Length of Repeated Subarray** (LeetCode 718)\n",
    "    - **Longest Subarray with Sum at Most K** (LeetCode 325)\n",
    "    - **Count Number of Nice Subarrays** (LeetCode 1248)"
   ]
  },
  {
   "cell_type": "code",
   "execution_count": null,
   "id": "9c601bbd",
   "metadata": {},
   "outputs": [],
   "source": []
  }
 ],
 "metadata": {
  "kernelspec": {
   "display_name": "Python 3 (ipykernel)",
   "language": "python",
   "name": "python3"
  },
  "language_info": {
   "codemirror_mode": {
    "name": "ipython",
    "version": 3
   },
   "file_extension": ".py",
   "mimetype": "text/x-python",
   "name": "python",
   "nbconvert_exporter": "python",
   "pygments_lexer": "ipython3",
   "version": "3.11.3"
  }
 },
 "nbformat": 4,
 "nbformat_minor": 5
}
