{
 "cells": [
  {
   "cell_type": "markdown",
   "id": "d22635eb",
   "metadata": {},
   "source": [
    "### 5. **Binary Search**\n",
    "\n",
    "- **Description**: Problems that involve searching for an element or condition in a sorted array, leveraging the O(log n) complexity of binary search.\n",
    "- **Popular Problems**:\n",
    "    - **Binary Search** (LeetCode 704)\n",
    "    - **Find Minimum in Rotated Sorted Array** (LeetCode 153)\n",
    "    - **Search in Rotated Sorted Array** (LeetCode 33)\n",
    "    - **Find First and Last Position of Element in Sorted Array** (LeetCode 34)\n",
    "    - **Find Peak Element** (LeetCode 162)"
   ]
  },
  {
   "cell_type": "code",
   "execution_count": null,
   "id": "d0ca745a",
   "metadata": {},
   "outputs": [],
   "source": []
  }
 ],
 "metadata": {
  "kernelspec": {
   "display_name": "Python 3 (ipykernel)",
   "language": "python",
   "name": "python3"
  },
  "language_info": {
   "codemirror_mode": {
    "name": "ipython",
    "version": 3
   },
   "file_extension": ".py",
   "mimetype": "text/x-python",
   "name": "python",
   "nbconvert_exporter": "python",
   "pygments_lexer": "ipython3",
   "version": "3.11.3"
  }
 },
 "nbformat": 4,
 "nbformat_minor": 5
}
