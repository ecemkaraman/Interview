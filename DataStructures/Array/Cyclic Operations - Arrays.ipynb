{
 "cells": [
  {
   "cell_type": "markdown",
   "id": "a30293ca",
   "metadata": {},
   "source": [
    "### 10. **Cyclic Reordering / Reversing**\n",
    "\n",
    "- **Description**: Problems that require cyclic operations on arrays, such as rotating or reversing.\n",
    "- **Popular Problems**:\n",
    "    - **Rotate Array** (LeetCode 189)\n",
    "    - **Reverse Words in a String** (LeetCode 151)\n",
    "    - **Next Permutation** (LeetCode 31)\n",
    "    - **Rotate Image** (LeetCode 48)\n",
    "    - **Find the Duplicate Number** (LeetCode 287)"
   ]
  },
  {
   "cell_type": "code",
   "execution_count": null,
   "id": "f20e8b55",
   "metadata": {},
   "outputs": [],
   "source": []
  }
 ],
 "metadata": {
  "kernelspec": {
   "display_name": "Python 3 (ipykernel)",
   "language": "python",
   "name": "python3"
  },
  "language_info": {
   "codemirror_mode": {
    "name": "ipython",
    "version": 3
   },
   "file_extension": ".py",
   "mimetype": "text/x-python",
   "name": "python",
   "nbconvert_exporter": "python",
   "pygments_lexer": "ipython3",
   "version": "3.11.3"
  }
 },
 "nbformat": 4,
 "nbformat_minor": 5
}
