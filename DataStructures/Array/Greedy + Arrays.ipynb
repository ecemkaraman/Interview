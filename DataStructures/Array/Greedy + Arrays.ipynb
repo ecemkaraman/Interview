{
 "cells": [
  {
   "cell_type": "markdown",
   "id": "c9f2f7c6",
   "metadata": {},
   "source": [
    "### 6. **Greedy Algorithms with Arrays**\n",
    "\n",
    "- **Description**: Problems that involve making locally optimal choices at each step to find the global optimal solution.\n",
    "- **Popular Problems**:\n",
    "    - **Jump Game** (LeetCode 55)\n",
    "    - **Jump Game II** (LeetCode 45)\n",
    "    - **Gas Station** (LeetCode 134)\n",
    "    - **Candy** (LeetCode 135)\n",
    "    - **Assign Cookies** (LeetCode 455)"
   ]
  },
  {
   "cell_type": "code",
   "execution_count": null,
   "id": "d7b5656f",
   "metadata": {},
   "outputs": [],
   "source": []
  }
 ],
 "metadata": {
  "kernelspec": {
   "display_name": "Python 3 (ipykernel)",
   "language": "python",
   "name": "python3"
  },
  "language_info": {
   "codemirror_mode": {
    "name": "ipython",
    "version": 3
   },
   "file_extension": ".py",
   "mimetype": "text/x-python",
   "name": "python",
   "nbconvert_exporter": "python",
   "pygments_lexer": "ipython3",
   "version": "3.11.3"
  }
 },
 "nbformat": 4,
 "nbformat_minor": 5
}
