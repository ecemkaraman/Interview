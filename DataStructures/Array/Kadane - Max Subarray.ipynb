{
 "cells": [
  {
   "cell_type": "markdown",
   "id": "38a64aae",
   "metadata": {},
   "source": [
    "### 4. **Kadane's Algorithm (Maximum Subarray)**\n",
    "\n",
    "- **Description**: Problems related to finding maximum sums or products of contiguous subarrays.\n",
    "- **Popular Problems**:\n",
    "    - **Maximum Subarray** (LeetCode 53)\n",
    "    - **Maximum Product Subarray** (LeetCode 152)\n",
    "    - **Best Time to Buy and Sell Stock** (LeetCode 121)\n",
    "    - **Subarray Product Less Than K** (LeetCode 713)"
   ]
  },
  {
   "cell_type": "code",
   "execution_count": null,
   "id": "56ac5004",
   "metadata": {},
   "outputs": [],
   "source": []
  }
 ],
 "metadata": {
  "kernelspec": {
   "display_name": "Python 3 (ipykernel)",
   "language": "python",
   "name": "python3"
  },
  "language_info": {
   "codemirror_mode": {
    "name": "ipython",
    "version": 3
   },
   "file_extension": ".py",
   "mimetype": "text/x-python",
   "name": "python",
   "nbconvert_exporter": "python",
   "pygments_lexer": "ipython3",
   "version": "3.11.3"
  }
 },
 "nbformat": 4,
 "nbformat_minor": 5
}
