{
 "cells": [
  {
   "cell_type": "markdown",
   "id": "f42c5d6c",
   "metadata": {},
   "source": [
    "### 9. **Counting Elements / Frequencies**\n",
    "\n",
    "- **Description**: Problems that involve counting occurrences or manipulating the frequency of elements in an array.\n",
    "- **Popular Problems**:\n",
    "    - **Top K Frequent Elements** (LeetCode 347)\n",
    "    - **Majority Element** (LeetCode 169)\n",
    "    - **Sort Characters By Frequency** (LeetCode 451)\n",
    "    - **Find All Duplicates in an Array** (LeetCode 442)\n",
    "    - **Find the Duplicate Number** (LeetCode 287)"
   ]
  },
  {
   "cell_type": "code",
   "execution_count": null,
   "id": "3c0bff21",
   "metadata": {},
   "outputs": [],
   "source": []
  }
 ],
 "metadata": {
  "kernelspec": {
   "display_name": "Python 3 (ipykernel)",
   "language": "python",
   "name": "python3"
  },
  "language_info": {
   "codemirror_mode": {
    "name": "ipython",
    "version": 3
   },
   "file_extension": ".py",
   "mimetype": "text/x-python",
   "name": "python",
   "nbconvert_exporter": "python",
   "pygments_lexer": "ipython3",
   "version": "3.11.3"
  }
 },
 "nbformat": 4,
 "nbformat_minor": 5
}
