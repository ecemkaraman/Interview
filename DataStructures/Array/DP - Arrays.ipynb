{
 "cells": [
  {
   "cell_type": "markdown",
   "id": "a8e3a3cf",
   "metadata": {},
   "source": [
    "### 14. **Dynamic Programming on Arrays**\n",
    "\n",
    "- **Description**: Problems that use dynamic programming to optimize the solution by breaking the array into subproblems.\n",
    "- **Popular Problems**:\n",
    "    - **House Robber** (LeetCode 198)\n",
    "    - **House Robber II** (LeetCode 213)\n",
    "    - **Maximum Product Subarray** (LeetCode 152)\n",
    "    - **Longest Increasing Subsequence** (LeetCode 300)\n",
    "    - **Longest Arithmetic Subsequence** (LeetCode 1027)"
   ]
  },
  {
   "cell_type": "code",
   "execution_count": null,
   "id": "c1c36c52",
   "metadata": {},
   "outputs": [],
   "source": []
  }
 ],
 "metadata": {
  "kernelspec": {
   "display_name": "Python 3 (ipykernel)",
   "language": "python",
   "name": "python3"
  },
  "language_info": {
   "codemirror_mode": {
    "name": "ipython",
    "version": 3
   },
   "file_extension": ".py",
   "mimetype": "text/x-python",
   "name": "python",
   "nbconvert_exporter": "python",
   "pygments_lexer": "ipython3",
   "version": "3.11.3"
  }
 },
 "nbformat": 4,
 "nbformat_minor": 5
}
