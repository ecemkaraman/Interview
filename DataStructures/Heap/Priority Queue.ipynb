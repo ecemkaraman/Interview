{
 "cells": [
  {
   "cell_type": "markdown",
   "id": "073bcaed",
   "metadata": {},
   "source": [
    "### **3. Priority Queue Problems**\n",
    "\n",
    "**Pattern**:\n",
    "\n",
    "- Problems that utilize the properties of a priority queue, which is often implemented using a heap.\n",
    "\n",
    "**Key Characteristics**:\n",
    "\n",
    "- Focuses on retrieving the highest (or lowest) priority elements efficiently.\n",
    "- Commonly found in scheduling and task management scenarios.\n",
    "\n",
    "**LeetCode Examples**:\n",
    "\n",
    "- **LeetCode 23**: Merge k Sorted Lists\n",
    "- **LeetCode 707**: Design Linked List (could be a variation involving priority operations)\n",
    "- **LeetCode 295**: Find Median from Data Stream"
   ]
  },
  {
   "cell_type": "code",
   "execution_count": null,
   "id": "1e0e448d",
   "metadata": {},
   "outputs": [],
   "source": []
  }
 ],
 "metadata": {
  "kernelspec": {
   "display_name": "Python 3 (ipykernel)",
   "language": "python",
   "name": "python3"
  },
  "language_info": {
   "codemirror_mode": {
    "name": "ipython",
    "version": 3
   },
   "file_extension": ".py",
   "mimetype": "text/x-python",
   "name": "python",
   "nbconvert_exporter": "python",
   "pygments_lexer": "ipython3",
   "version": "3.11.3"
  }
 },
 "nbformat": 4,
 "nbformat_minor": 5
}
