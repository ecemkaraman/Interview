{
 "cells": [
  {
   "cell_type": "markdown",
   "id": "9ad1fa32",
   "metadata": {},
   "source": [
    "### **4. Kth Largest/Smallest Problems**\n",
    "\n",
    "**Pattern**:\n",
    "\n",
    "- Problems specifically asking for the k-th largest or smallest element in a collection.\n",
    "\n",
    "**Key Characteristics**:\n",
    "\n",
    "- Typically utilize heaps to efficiently find the k-th element without fully sorting.\n",
    "- Min-heaps are often used for k largest elements, while max-heaps are used for k smallest elements.\n",
    "\n",
    "**LeetCode Examples**:\n",
    "\n",
    "- **LeetCode 215**: Kth Largest Element in an Array\n",
    "- **LeetCode 378**: Kth Smallest Element in a Sorted Matrix\n",
    "- **LeetCode 658**: Find K Closest Elements"
   ]
  },
  {
   "cell_type": "code",
   "execution_count": null,
   "id": "30e930c5",
   "metadata": {},
   "outputs": [],
   "source": []
  }
 ],
 "metadata": {
  "kernelspec": {
   "display_name": "Python 3 (ipykernel)",
   "language": "python",
   "name": "python3"
  },
  "language_info": {
   "codemirror_mode": {
    "name": "ipython",
    "version": 3
   },
   "file_extension": ".py",
   "mimetype": "text/x-python",
   "name": "python",
   "nbconvert_exporter": "python",
   "pygments_lexer": "ipython3",
   "version": "3.11.3"
  }
 },
 "nbformat": 4,
 "nbformat_minor": 5
}
