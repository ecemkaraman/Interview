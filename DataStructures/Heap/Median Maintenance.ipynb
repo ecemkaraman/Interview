{
 "cells": [
  {
   "cell_type": "markdown",
   "id": "d08b00d9",
   "metadata": {},
   "source": [
    "### **6. Median Maintenance Problems**\n",
    "\n",
    "**Pattern**:\n",
    "\n",
    "- Problems that require maintaining the median of a dynamic data set.\n",
    "\n",
    "**Key Characteristics**:\n",
    "\n",
    "- Typically utilize two heaps (a max-heap for the lower half and a min-heap for the upper half).\n",
    "- Enables efficient retrieval of the median during insertions.\n",
    "\n",
    "**LeetCode Examples**:\n",
    "\n",
    "- **LeetCode 295**: Find Median from Data Stream\n",
    "- **LeetCode 373**: Find K Pairs with Smallest Sums (can be an extension involving median finding)"
   ]
  },
  {
   "cell_type": "code",
   "execution_count": null,
   "id": "d642e1e0",
   "metadata": {},
   "outputs": [],
   "source": []
  }
 ],
 "metadata": {
  "kernelspec": {
   "display_name": "Python 3 (ipykernel)",
   "language": "python",
   "name": "python3"
  },
  "language_info": {
   "codemirror_mode": {
    "name": "ipython",
    "version": 3
   },
   "file_extension": ".py",
   "mimetype": "text/x-python",
   "name": "python",
   "nbconvert_exporter": "python",
   "pygments_lexer": "ipython3",
   "version": "3.11.3"
  }
 },
 "nbformat": 4,
 "nbformat_minor": 5
}
