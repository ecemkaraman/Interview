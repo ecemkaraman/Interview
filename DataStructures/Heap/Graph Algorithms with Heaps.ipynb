{
 "cells": [
  {
   "cell_type": "markdown",
   "id": "9188acb7",
   "metadata": {},
   "source": [
    "### **9. Graph Algorithms with Heaps**\n",
    "\n",
    "**Pattern**:\n",
    "\n",
    "- Problems that involve shortest path calculations or minimum spanning trees.\n",
    "\n",
    "**Key Characteristics**:\n",
    "\n",
    "- Dijkstra’s and Prim’s algorithms utilize heaps to efficiently manage edge weights.\n",
    "- Helps in finding optimal solutions in weighted graphs.\n",
    "\n",
    "**LeetCode Examples**:\n",
    "\n",
    "- **LeetCode 743**: Network Delay Time (Dijkstra’s Algorithm)\n",
    "- **LeetCode 1631**: Path With Minimum Effort (Dijkstra’s Algorithm)\n",
    "- **LeetCode 787**: Cheapest Flights Within K Stops (can be adapted using heaps)"
   ]
  },
  {
   "cell_type": "code",
   "execution_count": null,
   "id": "78109f20",
   "metadata": {},
   "outputs": [],
   "source": []
  }
 ],
 "metadata": {
  "kernelspec": {
   "display_name": "Python 3 (ipykernel)",
   "language": "python",
   "name": "python3"
  },
  "language_info": {
   "codemirror_mode": {
    "name": "ipython",
    "version": 3
   },
   "file_extension": ".py",
   "mimetype": "text/x-python",
   "name": "python",
   "nbconvert_exporter": "python",
   "pygments_lexer": "ipython3",
   "version": "3.11.3"
  }
 },
 "nbformat": 4,
 "nbformat_minor": 5
}
