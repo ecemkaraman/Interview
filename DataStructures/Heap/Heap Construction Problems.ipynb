{
 "cells": [
  {
   "cell_type": "markdown",
   "id": "b6e75f95",
   "metadata": {},
   "source": [
    "### **1. Heap Construction Problems**\n",
    "\n",
    "**Pattern**:\n",
    "\n",
    "- Problems that involve constructing a heap from a given set of elements.\n",
    "\n",
    "**Key Characteristics**:\n",
    "\n",
    "- Can use the bottom-up approach (Heapify) or top-down approach (insertion).\n",
    "- Often focuses on maintaining the heap property.\n",
    "\n",
    "**LeetCode Examples**:\n",
    "\n",
    "- **LeetCode 215**: Kth Largest Element in an Array\n",
    "- **LeetCode 973**: K Closest Points to Origin\n",
    "- **LeetCode 378**: Kth Smallest Element in a Sorted Matrix"
   ]
  },
  {
   "cell_type": "code",
   "execution_count": null,
   "id": "14205f7a",
   "metadata": {},
   "outputs": [],
   "source": []
  }
 ],
 "metadata": {
  "kernelspec": {
   "display_name": "Python 3 (ipykernel)",
   "language": "python",
   "name": "python3"
  },
  "language_info": {
   "codemirror_mode": {
    "name": "ipython",
    "version": 3
   },
   "file_extension": ".py",
   "mimetype": "text/x-python",
   "name": "python",
   "nbconvert_exporter": "python",
   "pygments_lexer": "ipython3",
   "version": "3.11.3"
  }
 },
 "nbformat": 4,
 "nbformat_minor": 5
}
