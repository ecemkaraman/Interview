{
 "cells": [
  {
   "cell_type": "markdown",
   "id": "3647509c",
   "metadata": {},
   "source": [
    "### **10. Range Query Problems**\n",
    "\n",
    "**Pattern**:\n",
    "\n",
    "- Problems that involve answering queries about ranges in an array, such as finding maximum or minimum in a range.\n",
    "\n",
    "**Key Characteristics**:\n",
    "\n",
    "- Heaps can be used to maintain information about the current range.\n",
    "- Useful in dynamic arrays where elements change frequently.\n",
    "\n",
    "**LeetCode Examples**:\n",
    "\n",
    "- **LeetCode 303**: Range Sum Query - Immutable\n",
    "- **LeetCode 304**: Range Sum Query 2D - Immutable"
   ]
  },
  {
   "cell_type": "code",
   "execution_count": null,
   "id": "555d04a3",
   "metadata": {},
   "outputs": [],
   "source": []
  }
 ],
 "metadata": {
  "kernelspec": {
   "display_name": "Python 3 (ipykernel)",
   "language": "python",
   "name": "python3"
  },
  "language_info": {
   "codemirror_mode": {
    "name": "ipython",
    "version": 3
   },
   "file_extension": ".py",
   "mimetype": "text/x-python",
   "name": "python",
   "nbconvert_exporter": "python",
   "pygments_lexer": "ipython3",
   "version": "3.11.3"
  }
 },
 "nbformat": 4,
 "nbformat_minor": 5
}
