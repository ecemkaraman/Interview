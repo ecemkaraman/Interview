{
 "cells": [
  {
   "cell_type": "markdown",
   "id": "c310612a",
   "metadata": {},
   "source": [
    "### **5. Sliding Window Problems with Heaps**\n",
    "\n",
    "**Pattern**:\n",
    "\n",
    "- Problems that involve maintaining a sliding window of elements while efficiently accessing the max/min element.\n",
    "\n",
    "**Key Characteristics**:\n",
    "\n",
    "- Often involves dynamic data where elements are added or removed frequently.\n",
    "- Heaps allow efficient retrieval of the highest or lowest element in the current window.\n",
    "\n",
    "**LeetCode Examples**:\n",
    "\n",
    "- **LeetCode 239**: Sliding Window Maximum\n",
    "- **LeetCode 480**: Sliding Window Median"
   ]
  },
  {
   "cell_type": "code",
   "execution_count": null,
   "id": "63d33e2f",
   "metadata": {},
   "outputs": [],
   "source": []
  }
 ],
 "metadata": {
  "kernelspec": {
   "display_name": "Python 3 (ipykernel)",
   "language": "python",
   "name": "python3"
  },
  "language_info": {
   "codemirror_mode": {
    "name": "ipython",
    "version": 3
   },
   "file_extension": ".py",
   "mimetype": "text/x-python",
   "name": "python",
   "nbconvert_exporter": "python",
   "pygments_lexer": "ipython3",
   "version": "3.11.3"
  }
 },
 "nbformat": 4,
 "nbformat_minor": 5
}
