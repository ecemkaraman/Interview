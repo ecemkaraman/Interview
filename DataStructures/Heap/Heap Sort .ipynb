{
 "cells": [
  {
   "cell_type": "markdown",
   "id": "f02498ca",
   "metadata": {},
   "source": [
    "### **2. Heap Sort Problems**\n",
    "\n",
    "**Pattern**:\n",
    "\n",
    "- Problems that require sorting elements using the heap data structure.\n",
    "\n",
    "**Key Characteristics**:\n",
    "\n",
    "- Involves building a heap and then repeatedly removing the largest (or smallest) element.\n",
    "- Efficient for in-place sorting.\n",
    "\n",
    "**LeetCode Examples**:\n",
    "\n",
    "- **LeetCode 215**: Kth Largest Element in an Array (also related to sorting)\n",
    "- **LeetCode 347**: Top K Frequent Elements (could involve heap for maintaining order)"
   ]
  },
  {
   "cell_type": "code",
   "execution_count": null,
   "id": "ac88efcb",
   "metadata": {},
   "outputs": [],
   "source": []
  }
 ],
 "metadata": {
  "kernelspec": {
   "display_name": "Python 3 (ipykernel)",
   "language": "python",
   "name": "python3"
  },
  "language_info": {
   "codemirror_mode": {
    "name": "ipython",
    "version": 3
   },
   "file_extension": ".py",
   "mimetype": "text/x-python",
   "name": "python",
   "nbconvert_exporter": "python",
   "pygments_lexer": "ipython3",
   "version": "3.11.3"
  }
 },
 "nbformat": 4,
 "nbformat_minor": 5
}
