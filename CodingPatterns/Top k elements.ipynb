{
 "cells": [
  {
   "cell_type": "markdown",
   "id": "94981af9",
   "metadata": {},
   "source": [
    "### **Top K Elements Overview**\n",
    "\n",
    "### **Data Structures:**\n",
    "\n",
    "- **Min-Heap / Max-Heap** (most common)\n",
    "- **Priority Queue**\n",
    "- **Bucket Sort** (for frequency-based problems)\n",
    "- **HashMap**\n",
    "\n",
    "### **Pattern Logic:**\n",
    "\n",
    "The **Top K Elements** pattern is used to find the `k` largest or smallest elements in an unsorted dataset. The most efficient way to solve these problems is by using a **heap**, which allows us to efficiently track the k largest or smallest elements.\n",
    "\n",
    "### **How to Recognize:**\n",
    "\n",
    "- The problem explicitly asks for the \"top k\" largest/smallest elements.\n",
    "- Keywords: \"k largest,\" \"k smallest,\" \"frequent,\" \"least frequent.\"\n",
    "- Problems involving the top k most frequent elements, kth largest/smallest numbers, or streaming large datasets to return top elements."
   ]
  },
  {
   "cell_type": "markdown",
   "id": "36b6bd72",
   "metadata": {},
   "source": [
    "***\n",
    "### **Steps in the Top K Elements Pattern:**\n",
    "\n",
    "1. **Heap Initialization**: Use a heap (min-heap for top k largest or max-heap for top k smallest). You can also use a priority queue based on the programming language.\n",
    "2. **Heapify**: For a list of elements, insert the first k elements into the heap. Maintain the heap size by removing elements based on their priority (e.g., remove smallest from a min-heap if you’re looking for k largest elements).\n",
    "3. **Iterate**: Traverse through the rest of the elements and keep comparing them with the root of the heap.\n",
    "4. **Maintain Heap**: For each element, if it meets the condition to be in the heap (greater/smaller than root), add it to the heap and remove the least desired element.\n",
    "5. **Extract Elements**: Once processed, the heap will contain the top k elements, which can be extracted or returned as the result."
   ]
  },
  {
   "cell_type": "markdown",
   "id": "51f78d2e",
   "metadata": {},
   "source": [
    "***\n",
    "### **Time Complexity:**\n",
    "\n",
    "- Building the heap takes `O(k)` time.\n",
    "- Processing the rest of the elements takes `O((n-k) * log k)` time, where `n` is the total number of elements and `k` is the size of the heap.\n",
    "- **Total Time Complexity:** `O(n log k)`\n",
    "\n",
    "### **Space Complexity:**\n",
    "\n",
    "- `O(k)` for storing the heap.\n",
    "\n",
    "***\n",
    "### Template for the Top K Elements Pattern:"
   ]
  },
  {
   "cell_type": "code",
   "execution_count": null,
   "id": "827d87e4",
   "metadata": {},
   "outputs": [],
   "source": [
    "import heapq\n",
    "\n",
    "def top_k_elements(nums, k):\n",
    "    # Step 1: Create a min-heap or max-heap depending on the problem\n",
    "    min_heap = nums[:k]  # For 'k' largest, use min-heap\n",
    "    heapq.heapify(min_heap)\n",
    "\n",
    "    # Step 2: Traverse the rest of the elements\n",
    "    for num in nums[k:]:\n",
    "        if num > min_heap[0]:  # Modify condition based on 'k' largest or smallest\n",
    "            heapq.heappushpop(min_heap, num)\n",
    "\n",
    "    # Step 3: Return the result (for kth largest, return min_heap[0])\n",
    "    return min_heap[0]"
   ]
  },
  {
   "cell_type": "markdown",
   "id": "8e38c517",
   "metadata": {},
   "source": [
    "***\n",
    "### **1. Kth Largest Element in an Array (LeetCode 215)**\n",
    "\n",
    "### **Problem:**\n",
    "\n",
    "Find the kth largest element in an unsorted array.\n",
    "\n",
    "### **Steps:**\n",
    "\n",
    "1. Use a **min-heap** of size `k` to keep track of the k largest elements.\n",
    "2. Traverse the array, and for each element, compare it with the root of the heap. If it’s larger than the root, replace the root and heapify.\n",
    "3. After processing all elements, the root of the heap will be the kth largest element.\n",
    "\n",
    "### **Python Code:**"
   ]
  },
  {
   "cell_type": "code",
   "execution_count": 1,
   "id": "fd291fd6",
   "metadata": {},
   "outputs": [],
   "source": [
    "import heapq\n",
    "\n",
    "def findKthLargest(nums, k):\n",
    "    # Step 1: Build a min-heap with the first 'k' elements\n",
    "    min_heap = nums[:k]\n",
    "    heapq.heapify(min_heap)\n",
    "\n",
    "    # Step 2: Traverse the remaining elements\n",
    "    for num in nums[k:]:\n",
    "        if num > min_heap[0]:\n",
    "            heapq.heappushpop(min_heap, num)\n",
    "\n",
    "    # Step 3: The root of the heap is the kth largest element\n",
    "    return min_heap[0]"
   ]
  },
  {
   "cell_type": "markdown",
   "id": "f18736d6",
   "metadata": {},
   "source": [
    "### **Interview Comments:**\n",
    "\n",
    "- **Why Min-Heap?** \"Using a min-heap ensures that we can keep track of the largest `k` elements efficiently. If the heap size exceeds `k`, the smallest element is removed, ensuring the top k largest elements remain.\"\n",
    "- **Time Efficiency:** \"This approach provides an optimal time complexity of `O(n log k)`, where we process each element once and adjust the heap.\"\n",
    "***"
   ]
  },
  {
   "cell_type": "markdown",
   "id": "67e12eb1",
   "metadata": {},
   "source": [
    "### **2. Top K Frequent Elements (LeetCode 347)**\n",
    "\n",
    "### **Problem:**\n",
    "\n",
    "Given a non-empty array of integers, return the `k` most frequent elements.\n",
    "\n",
    "### **Steps:**\n",
    "\n",
    "1. Use a **HashMap** to store the frequency of each element.\n",
    "2. Build a **min-heap** of size `k` to store the top k most frequent elements.\n",
    "3. Traverse the frequency map, and for each element, compare its frequency with the root of the heap. If its frequency is larger than the root, replace it.\n",
    "\n",
    "### **Python Code:**"
   ]
  },
  {
   "cell_type": "code",
   "execution_count": null,
   "id": "3b63058b",
   "metadata": {},
   "outputs": [],
   "source": [
    "import heapq\n",
    "from collections import Counter\n",
    "\n",
    "def topKFrequent(nums, k):\n",
    "    # Step 1: Build frequency map\n",
    "    freq_map = Counter(nums)\n",
    "\n",
    "    # Step 2: Use a min-heap of size 'k' to store the top k frequent elements\n",
    "    min_heap = []\n",
    "\n",
    "    for num, freq in freq_map.items():\n",
    "        heapq.heappush(min_heap, (freq, num))\n",
    "        if len(min_heap) > k:\n",
    "            heapq.heappop(min_heap)\n",
    "\n",
    "    # Step 3: Extract elements from the heap\n",
    "    return [num for freq, num in min_heap]"
   ]
  },
  {
   "cell_type": "markdown",
   "id": "888d6c28",
   "metadata": {},
   "source": [
    "### **Interview Comments:**\n",
    "\n",
    "- **Frequency Map Usage:** \"We leverage a frequency map to count occurrences of each element, which is crucial for solving frequency-based problems efficiently.\"\n",
    "- **Heap Size:** \"The heap size is maintained at `k`, ensuring that we only track the k most frequent elements.\"\n",
    "***"
   ]
  },
  {
   "cell_type": "markdown",
   "id": "f05446d2",
   "metadata": {},
   "source": [
    "### **3. K Closest Points to Origin (LeetCode 973)**\n",
    "\n",
    "### **Problem:**\n",
    "\n",
    "Given an array of points in the 2D plane, find the `k` closest points to the origin `(0, 0)`.\n",
    "\n",
    "### **Steps:**\n",
    "\n",
    "1. Calculate the **Euclidean distance** of each point from the origin.\n",
    "2. Use a **max-heap** to keep track of the k closest points. For each point, if its distance is less than the current maximum in the heap, replace the maximum.\n",
    "\n",
    "### **Python Code:**"
   ]
  },
  {
   "cell_type": "code",
   "execution_count": null,
   "id": "f9389f71",
   "metadata": {},
   "outputs": [],
   "source": [
    "import heapq\n",
    "import math\n",
    "\n",
    "def kClosest(points, k):\n",
    "    # Step 1: Define a max-heap\n",
    "    max_heap = []\n",
    "\n",
    "    for x, y in points:\n",
    "        distance = -(x * x + y * y)  # Use negative distance to mimic max-heap\n",
    "        heapq.heappush(max_heap, (distance, [x, y]))\n",
    "        if len(max_heap) > k:\n",
    "            heapq.heappop(max_heap)\n",
    "\n",
    "    # Step 2: Return the k closest points\n",
    "    return [point for dist, point in max_heap]"
   ]
  },
  {
   "cell_type": "markdown",
   "id": "b7081dc4",
   "metadata": {},
   "source": [
    "### **Interview Comments:**\n",
    "\n",
    "- **Max-Heap Efficiency:** \"Using a max-heap ensures that the k closest points are retained efficiently. We negate the distances to simulate a max-heap using Python’s min-heap.\"\n",
    "- **Time Complexity Considerations:** \"With a time complexity of `O(n log k)`, this approach ensures that we can handle large datasets efficiently.\""
   ]
  },
  {
   "cell_type": "markdown",
   "id": "92f4ca33",
   "metadata": {},
   "source": [
    "***\n",
    "### **Key Steps in This Pattern:**\n",
    "\n",
    "1. **Build a Heap**: Whether it’s a min-heap or max-heap, initialize it with the first `k` elements or process all elements directly.\n",
    "2. **Heap Management**: Use heap operations to maintain the heap size and track the top k elements efficiently.\n",
    "3. **Extract Result**: For problems like `kth largest`, the root of the heap will be the result.\n",
    "\n",
    "---\n",
    "\n",
    "### **Variations and Techniques:**\n",
    "\n",
    "1. **Min-Heap vs Max-Heap**: Use a min-heap for finding the largest `k` elements and a max-heap for finding the smallest `k` elements.\n",
    "2. **Frequency-Based Problems**: When dealing with frequency, use a **frequency map** and a heap to track the most or least frequent elements.\n",
    "3. **Sorting Alternative**: In some cases, sorting can also solve the problem, but it’s less efficient (`O(n log n)`) compared to heap-based solutions (`O(n log k)`).\n",
    "\n",
    "---\n",
    "\n",
    "### **Smart Interview Comments:**\n",
    "\n",
    "- **Heap Efficiency:** \"Heaps provide an efficient solution to the top k problem with a time complexity of `O(n log k)`, which is optimal for large datasets.\"\n",
    "- **Why Not Sort?** \"Sorting the entire array would take `O(n log n)`, which is inefficient for problems where we only need the top k elements. Using a heap allows us to avoid processing unnecessary elements.\"\n",
    "- **Space Complexity Trade-off:** \"By using a heap of size `k`, we minimize space usage compared to storing and sorting all elements, especially in streaming or large datasets.\""
   ]
  },
  {
   "cell_type": "code",
   "execution_count": null,
   "id": "91d1c9c2",
   "metadata": {},
   "outputs": [],
   "source": []
  }
 ],
 "metadata": {
  "kernelspec": {
   "display_name": "Python 3 (ipykernel)",
   "language": "python",
   "name": "python3"
  },
  "language_info": {
   "codemirror_mode": {
    "name": "ipython",
    "version": 3
   },
   "file_extension": ".py",
   "mimetype": "text/x-python",
   "name": "python",
   "nbconvert_exporter": "python",
   "pygments_lexer": "ipython3",
   "version": "3.11.3"
  }
 },
 "nbformat": 4,
 "nbformat_minor": 5
}
