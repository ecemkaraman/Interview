{
 "cells": [
  {
   "cell_type": "markdown",
   "id": "667a5adc",
   "metadata": {},
   "source": [
    "## **Sliding Window Pattern**\n",
    "\n",
    "- **Applicable Data Structure**: Arrays, Strings.\n",
    "- **Pattern Type**: Iterative, Optimized for problems requiring analysis of contiguous subarrays/substrings.\n",
    "- **Key Concept**: Maintain a sliding window over a portion of the data structure, either of fixed size or dynamically adjusted. The window is unstable if it violates the problem constraints, and it tries to stabilize by increasing or decreasing its size.\n",
    "- **Aim:** Convert brute force nested loops (**O(n²)** or **O(n³))** to a single loop **(O(n))**\n",
    "\n",
    "### **Sliding Window Types**:\n",
    "\n",
    "1. **Fixed Size Window**: The window size remains constant (e.g., subarray of size `k`).\n",
    "2. **Dynamic Size Window**: The window size changes based on the problem constraints (e.g., sum, distinct characters, etc.).\n",
    "3. Sliding Window with 2 Pointers\n",
    "4. Sliding Window + HashMap\n",
    "5. Sliding Window + Set\n",
    "6. Sliding Window + deque \n",
    "7. Sliding Window + Counter(array)"
   ]
  },
  {
   "cell_type": "markdown",
   "id": "f31063d8",
   "metadata": {},
   "source": [
    "### **Time & Space Complexity**:\n",
    "- **Time Complexity**: Sliding window problems typically run in **O(N)** time because each element is processed at most twice (once when expanding the window, once when contracting).\n",
    "- **Space Complexity**: Fixed-size windows use **O(1)** extra space, while dynamic windows may require **O(K)** space for storing auxiliary data (like dictionaries or deques)."
   ]
  },
  {
   "cell_type": "markdown",
   "id": "3a7761e6",
   "metadata": {},
   "source": [
    "### **Tips**:\n",
    "1. **Recognize Window Size**: In fixed-size problems, maintain a static window size; in dynamic problems, adjust window size based on conditions.\n",
    "2. **Sliding Condition (Dynamic)**: Expand the window by moving `right`. Shrink the window (by moving `left`) when the constraint is violated (e.g., sum exceeds a threshold, distinct characters exceed `k`). Visualize the window movement to understand the algorithm better.\n",
    "3. **Edge Cases**: Handle empty inputs, very small windows, or arrays with insufficient elements for a window.\n",
    "4. **Avoid Redundant Calculations**: Sliding window avoids recalculating values for every new window. Instead, adjust the sum/product/etc. by **adding** the new element and **removing** the old one.\n",
    "5. **Use Auxiliary Data Structures** for Complex Windows:\n",
    " - For problems like \"longest substring with k distinct characters\", using a **hashmap** or **set** to track frequencies of elements is useful.\n",
    " - For problems requiring max/min values, **deque** (double-ended queue) helps maintain order.\n",
    "6. **Interview Smart Comment**:\"Sliding window optimizes the brute-force solution by making each element part of the window exactly once. By leveraging this, we reduce the complexity from O(n^2) to O(n), which is a crucial optimization for large inputs.\"\n"
   ]
  },
  {
   "cell_type": "markdown",
   "id": "ff9236d4",
   "metadata": {},
   "source": [
    "### **Fixed Size Window Problems**:\n",
    "\n",
    "### Plain: \n",
    "\n",
    "#### 1. **Problem: Maximum Sum Subarray of Size K** - not a LC problem\n",
    "Sliding Window with 2 Pointers\n",
    "\n",
    "- **Description**: Given an array of integers nums and an integer k, find the maximum sum of any contiguous subarray of size `k`.\n",
    "- **Example:**\n",
    "Input: nums = [2, 1, 5, 1, 3, 2], k = 3\n",
    "Output: 9 (The subarray [5, 1, 3] has the maximum sum of 9)\n",
    "- **Time Complexity**: O(n), n=len(nums) - we iterate the array once\n",
    "- **Space Complexity**: O(1) \n",
    "- **Comparison with Kadane:** Although a max subarray sum problem, it's not solved by Kadane -> Kadane doesn't apply to fixed size windows. So, we use normal sliding window here \n",
    "\n",
    "**Pseudocode:**\n",
    "1. **Initialization**: Compute the sum of the first `k` elements (`current_sum` and `max_sum`).\n",
    "2. **Sliding the Window**:\n",
    "    - Iterate from `k` to the end of the array.\n",
    "    - Update `current_sum` by adding the new element (`nums[i]`) and subtracting the element that is sliding out (`nums[i - k]`).\n",
    "    - Update `max_sum` if `current_sum` exceeds it.\n",
    "3. **Return Result**: Return `max_sum` after iterating through the array.\n",
    "- Pay attention to indexing! The initial subarray goes from the 1st element until k-1th element due to 0-indexing \n",
    "\n",
    "**Python Code:**"
   ]
  },
  {
   "cell_type": "code",
   "execution_count": null,
   "id": "15d6c02f",
   "metadata": {},
   "outputs": [],
   "source": [
    "def max_sum_subarray(nums, k):\n",
    "    n = len(nums)\n",
    "    if n < k:\n",
    "        return -1 \n",
    "    window_sum=sum(nums[:k])\n",
    "    max_sum = window_sum\n",
    "    for end in range(k, n):\n",
    "        window_sum += nums[end] - nums[end - k]\n",
    "        max_sum = max(max_sum, window_sum)\n",
    "        \n",
    "    return max_sum"
   ]
  },
  {
   "cell_type": "markdown",
   "id": "e56914f7",
   "metadata": {},
   "source": [
    "#### 2. **Problem: First Negative Number in Every Subarray of Size K**\n",
    "\n",
    "- **Description**: Given an array and an integer `k`, find the first negative number in every contiguous subarray of size `k`.\n",
    "- **Time Complexity**: O(N)\n",
    "- **Space Complexity**: O(K) (deque stores indices within window size `k`)\n",
    "\n",
    "**Pseudocode**:\n",
    "- Initialize a result list and an empty deque to store indices of negative numbers.\n",
    "- Iterate over the array:\n",
    "  - If the current element is negative, add its index to the deque.\n",
    "  - Once the window reaches size `k`, append the first element from the deque to the result (if deque is empty, append 0).\n",
    "  - Slide the window by removing elements outside the window size from the deque.\n",
    "\n",
    "\n",
    "**Python Solution**:"
   ]
  },
  {
   "cell_type": "code",
   "execution_count": null,
   "id": "8de99d4e",
   "metadata": {},
   "outputs": [],
   "source": [
    "from collections import deque\n",
    "\n",
    "def first_negative_in_window(nums, k):\n",
    "    result = []\n",
    "    negative_indices = deque()\n",
    "\n",
    "    for i in range(len(nums)):\n",
    "        if nums[i] < 0:\n",
    "            negative_indices.append(i)\n",
    "\n",
    "        if i >= k - 1:\n",
    "            if negative_indices and negative_indices[0] < i - k + 1:\n",
    "                negative_indices.popleft()\n",
    "\n",
    "            result.append(nums[negative_indices[0]] if negative_indices else 0)\n",
    "\n",
    "    return result"
   ]
  },
  {
   "cell_type": "markdown",
   "id": "c953daba",
   "metadata": {},
   "source": [
    "#### 3. **Problem: Maximum of All Subarrays of Size K**\n",
    "\n",
    "- **Description**: Find the maximum of every contiguous subarray of size `k`.\n",
    "- **Time Complexity**: O(N)\n",
    "- **Space Complexity**: O(K) (deque size limited to `k`)\n",
    "- **Pseudocode**:\n",
    "    - Use a deque to store indices of useful elements in every window.\n",
    "    - For each new element, remove elements that are out of the current window or smaller than the current element.\n",
    "    - The front of the deque will contain the maximum element.\n",
    "- **Python Solution**:"
   ]
  },
  {
   "cell_type": "code",
   "execution_count": null,
   "id": "0f702332",
   "metadata": {},
   "outputs": [],
   "source": [
    "from collections import deque\n",
    "\n",
    "def max_in_subarray(nums, k):\n",
    "    result = []\n",
    "    dq = deque()\n",
    "\n",
    "    for i in range(len(nums)):\n",
    "        if dq and dq[0] < i - k + 1:\n",
    "            dq.popleft()\n",
    "\n",
    "        while dq and nums[dq[-1]] < nums[i]:\n",
    "            dq.pop()\n",
    "\n",
    "        dq.append(i)\n",
    "\n",
    "        if i >= k - 1:\n",
    "            result.append(nums[dq[0]])\n",
    "\n",
    "    return result"
   ]
  },
  {
   "cell_type": "markdown",
   "id": "8b331105",
   "metadata": {},
   "source": [
    "### **Dynamic Size Window Problems**:\n",
    "\n",
    "#### 4. **Problem: Longest Substring with K Distinct Characters**\n",
    "SW+HashMap, variable size\n",
    "- Problem variations: Longest Substring with At Most K Distinct Characters (340)\n",
    "\n",
    "- **Description**: Given a string and an integer `k`, find the length of the longest substring that contains exactly `k` distinct characters.\n",
    "- **Time Complexity**: O(N)\n",
    "- **Space Complexity**: O(K) (for character count dictionary)\n",
    "- **Pseudocode**:\n",
    "    - Use a dictionary to count the frequency of characters.\n",
    "    - Expand the window by adding characters, and shrink the window when the number of distinct characters exceeds `k`.\n",
    "    - Track the maximum window size where distinct characters count equals `k`.\n",
    "    \n",
    "**Python Solution**:"
   ]
  },
  {
   "cell_type": "code",
   "execution_count": null,
   "id": "613c0a47",
   "metadata": {},
   "outputs": [],
   "source": [
    "def longest_k_distinct(s, k):\n",
    "        char_count = {}\n",
    "        start = 0\n",
    "        max_len = 0\n",
    "    \n",
    "        for end in range(len(s)):\n",
    "            char_count[s[end]] = char_count.get(s[end], 0) + 1\n",
    "    \n",
    "            while len(char_count) > k:\n",
    "                char_count[s[start]] -= 1\n",
    "                if char_count[s[start]] == 0:\n",
    "                    del char_count[s[start]]\n",
    "                start += 1\n",
    "    \n",
    "            max_len = max(max_len, end - start + 1)\n",
    "    \n",
    "        return max_len"
   ]
  },
  {
   "cell_type": "markdown",
   "id": "0d304869",
   "metadata": {},
   "source": [
    "#### 5. **Problem: Smallest Subarray with a Sum Greater Than or Equal to S**\n",
    "LC 209: Minimum Size Subarray Sum -> SW+2Pointers, Variable Window \n",
    "\n",
    "- **Description**: Find the length of the smallest contiguous subarray whose sum is greater than or equal to a given number `target`.\n",
    "- **Time Complexity**: O(N), worst case=each element visited twice, once by `right` + once by `left`\n",
    "- **Space Complexity**: O(1)\n",
    "- **Pseudocode**:\n",
    "1. Initialization: \n",
    "    - `left` and `right` pointers\n",
    "    - `window_sum` = sum of current subarray\n",
    "    - `min_len`= min length of the subarray found so far\n",
    "3. Expand the window by adding elements (`right`) to `window_sum` \n",
    "4. Shrink the window from the left when the `window_sum`>=`target` and track the min window size while condition=True. At each shrink, update `min_len` if current length of the subarray is smaller.\n",
    "5. Continue until `right` has gone through every element in the array.\n",
    "6. If `min_length` remains infinity, it means no valid subarray was found, so we return 0. Otherwise, we return `min_length`.\n",
    "  \n",
    "**Python Solution**:"
   ]
  },
  {
   "cell_type": "code",
   "execution_count": null,
   "id": "4380cc30",
   "metadata": {},
   "outputs": [],
   "source": [
    "def smallest_subarray_with_sum(nums, target):\n",
    "        left = 0\n",
    "        min_len = float('inf')\n",
    "        window_sum = 0\n",
    "    \n",
    "        for right in range(len(nums)):\n",
    "            window_sum += nums[right]\n",
    "    \n",
    "            while window_sum >= target:\n",
    "                min_len = min(min_len, right - left + 1)\n",
    "                window_sum -= nums[left]\n",
    "                left += 1\n",
    "    \n",
    "        return min_len if min_len != float('inf') else 0"
   ]
  },
  {
   "cell_type": "markdown",
   "id": "8c3148bb",
   "metadata": {},
   "source": [
    "### 6. **Problem: Longest Substring Without Repeating Characters**\n",
    "LC 3- SW+2Pointers, Variable Window\n",
    "\n",
    "- **Description**: Given a string s, find the length of the longest substring without repeating characters.\n",
    "**Example:**\n",
    "Input: s = \"abcabcbb\"\n",
    "Output: 3 (The longest substring without repeating characters is \"abc\")\n",
    "\n",
    "**Pseudocode**:\n",
    "1. Initialize `maxLength` to 0 to keep track of the maximum length of the substring.\n",
    "2. Initialize `start` to 0 to mark the start index of the current substring.\n",
    "3. Create an empty `seen` dictionary to store the most recent index of each character.\n",
    "4. Iterate through the string using the variable `end`:\n",
    "   - If the current character is in `seen` and its index is greater than or equal to `start`:\n",
    "       - Update `start` to be the next index of the current character.\n",
    "   - Update the `maxLength` to be the maximum of the current `maxLength` and `end - start + 1`.\n",
    "   - Store the current index of the character in the `seen` dictionary.\n",
    "5. Return `maxLength`.\n",
    "\n",
    "- **Time Complexity**: O(n), n=len(string)\n",
    "- **Space Complexity**: O(min(n, m)), where m=size of the character set (e.g., ASCII or Unicode). Worst case=the dict can store all characters in the character set.\n",
    "\n",
    "**Python Solution**:"
   ]
  },
  {
   "cell_type": "code",
   "execution_count": null,
   "id": "178e7b80",
   "metadata": {},
   "outputs": [],
   "source": [
    "def longest_substring(s):\n",
    "    max_length = 0\n",
    "    start = 0\n",
    "    seen = {}\n",
    "\n",
    "    for end in range(len(s)):\n",
    "        if s[end] in seen and seen[s[end]] >= start:\n",
    "            start = seen[s[end]] + 1\n",
    "\n",
    "        max_length = max(max_length, end - start + 1)\n",
    "        seen[s[end]] = end\n",
    "\n",
    "    return max_length"
   ]
  }
 ],
 "metadata": {
  "kernelspec": {
   "display_name": "Python 3 (ipykernel)",
   "language": "python",
   "name": "python3"
  },
  "language_info": {
   "codemirror_mode": {
    "name": "ipython",
    "version": 3
   },
   "file_extension": ".py",
   "mimetype": "text/x-python",
   "name": "python",
   "nbconvert_exporter": "python",
   "pygments_lexer": "ipython3",
   "version": "3.11.3"
  }
 },
 "nbformat": 4,
 "nbformat_minor": 5
}
