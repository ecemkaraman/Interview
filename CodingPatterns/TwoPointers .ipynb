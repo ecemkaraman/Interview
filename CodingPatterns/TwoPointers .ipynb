{
 "cells": [
  {
   "cell_type": "markdown",
   "id": "a716c2f5",
   "metadata": {},
   "source": [
    "### **Two Pointers Pattern Overview**\n",
    "\n",
    "- **Applicable DS**: Any iterable → (sorted) array, LL, string\n",
    "- **Pattern Type**: Iterative, often used for problems that require processing elements in pairs or reducing search space efficiently.\n",
    "- **Key Concept**: Use two pointers to traverse the array or string from different directions (left and right), or one pointer traverses faster than the other.\n",
    "- **Aim:** Find pairs that meet a certain condition (e.g. sum up to a specific value). 1 pointer would require looping back (O(n²) TC). 2 pointers can reduce space and time complexity.\n",
    "- **Time complexity:** O(2n) ~ O(n) → we have 2 pointers, but they each iterate through the array once\n",
    "\n",
    "### **Two Pointers Types**:\n",
    "\n",
    "1. **Opposite Direction**: Pointers move toward each other from the ends of the array/string.\n",
    "2. **Same Direction**: Both pointers move in the same direction, with one leading or lagging behind.\n",
    "\n",
    "### **Tips**\n",
    "\n",
    "- **Optimized for Searching**: Two pointers reduce search space, making problems involving sorted arrays more efficient.\n",
    "- **Space-Efficient**: Most problems solved using two pointers have O(1) extra space.\n",
    "- Typically used when optimizing an O($n^2$) solution to O(n)\n",
    "- **When to Use**: Useful when searching for pairs or when solving problems where the array can be partitioned into two regions.\n",
    "\n",
    "<aside>\n",
    "💡 BASIC STEPS\n",
    "\n",
    "1. **Pointer initialization:** `left, right = 0, len(arr)-1`\n",
    "2. **Movement of pointers:** Either `left+=1` or `right -=1` or both based on conditions\n",
    "3. **Stop condition:** `while left < right:`\n",
    "`if → elif → else → return None`\n",
    "</aside>"
   ]
  },
  {
   "cell_type": "markdown",
   "id": "122e995b",
   "metadata": {},
   "source": [
    "### **Opposite Direction Problems**:\n",
    "\n",
    "### 1. **Problem: Two Sum (Sorted Array)**\n",
    "\n",
    "- **Description**: Given a sorted array of integers, find two numbers such that they add up to a specific target.\n",
    "- **Pseudocode**:\n",
    "    - Initialize two pointers: one at the start (`left`) and one at the end (`right`).\n",
    "    - Iterate while `left < right`:\n",
    "        - Calculate the sum of `nums[left] + nums[right]`.\n",
    "        - If sum equals target, return the indices.\n",
    "        - If sum is less than target, move `left` pointer right to increase the sum.\n",
    "        - If sum is greater than target, move `right` pointer left to decrease the sum.\n",
    "- **Time Complexity**: O(N)\n",
    "- **Space Complexity**: O(1)\n",
    "\n",
    "**Python Solution**:"
   ]
  },
  {
   "cell_type": "code",
   "execution_count": 1,
   "id": "591fe810",
   "metadata": {},
   "outputs": [],
   "source": [
    "def two_sum_sorted(nums, target):\n",
    "    left, right = 0, len(nums) - 1\n",
    "\n",
    "    while left < right:\n",
    "        current_sum = nums[left] + nums[right]\n",
    "        if current_sum == target:\n",
    "            return [left, right]\n",
    "        elif current_sum < target:\n",
    "            left += 1\n",
    "        else:\n",
    "            right -= 1\n",
    "\n",
    "    return []"
   ]
  },
  {
   "cell_type": "markdown",
   "id": "6d8c6776",
   "metadata": {},
   "source": [
    "### 2. **Problem: Valid Palindrome**\n",
    "\n",
    "- **Description**: Check if a given string is a palindrome, ignoring non-alphanumeric characters and case.\n",
    "- **Pseudocode**:\n",
    "    - Initialize two pointers: `left` at the start, `right` at the end.\n",
    "    - Iterate while `left < right`:\n",
    "        - Skip non-alphanumeric characters.\n",
    "        - Compare the characters at `left` and `right` pointers.\n",
    "        - If characters differ, return `False`.\n",
    "        - If they match, move both pointers inward.\n",
    "- **Time Complexity**: O(N)\n",
    "- **Space Complexity**: O(1)\n",
    "\n",
    "**Python Solution**:"
   ]
  },
  {
   "cell_type": "code",
   "execution_count": 2,
   "id": "beb2f52e",
   "metadata": {},
   "outputs": [],
   "source": [
    "def is_palindrome(s):\n",
    "    left, right = 0, len(s) - 1\n",
    "\n",
    "    while left < right:\n",
    "        while left < right and not s[left].isalnum():\n",
    "            left += 1\n",
    "        while left < right and not s[right].isalnum():\n",
    "            right -= 1\n",
    "\n",
    "        if s[left].lower() != s[right].lower():\n",
    "            return False\n",
    "\n",
    "        left += 1\n",
    "        right -= 1\n",
    "\n",
    "    return True"
   ]
  },
  {
   "cell_type": "markdown",
   "id": "12af06d6",
   "metadata": {},
   "source": [
    "### 3. **Problem: Reverse String**\n",
    "\n",
    "- **Description**: Reverse a given string in place using two pointers.\n",
    "- **Pseudocode**:\n",
    "    - Initialize two pointers: `left` at the start, `right` at the end.\n",
    "    - While `left < right`, swap characters at `left` and `right`.\n",
    "    - Move both pointers inward until they meet.\n",
    "- **Time Complexity**: O(N)\n",
    "- **Space Complexity**: O(1)\n",
    "\n",
    "**Python Solution**:"
   ]
  },
  {
   "cell_type": "code",
   "execution_count": null,
   "id": "6129938c",
   "metadata": {},
   "outputs": [],
   "source": [
    "def reverse_string(s):\n",
    "    left, right = 0, len(s) - 1\n",
    "\n",
    "    while left < right:\n",
    "        s[left], s[right] = s[right], s[left]\n",
    "        left += 1\n",
    "        right -= 1"
   ]
  },
  {
   "cell_type": "markdown",
   "id": "bc77e993",
   "metadata": {},
   "source": [
    "### 4. **Problem: Container With Most Water**\n",
    "\n",
    "- **Description**: Given an array representing heights, find two lines that together with the x-axis form a container, such that the container contains the most water.\n",
    "- **Pseudocode**:\n",
    "    - Initialize two pointers: `left` at the start, `right` at the end.\n",
    "    - Calculate the area between the lines at `left` and `right`.\n",
    "    - Move the pointer with the shorter line inward to find a potentially larger area.\n",
    "- **Time Complexity**: O(N)\n",
    "- **Space Complexity**: O(1)\n",
    "\n",
    "**Python Solution**:"
   ]
  },
  {
   "cell_type": "code",
   "execution_count": null,
   "id": "ad4209da",
   "metadata": {},
   "outputs": [],
   "source": [
    "def max_area(height):\n",
    "    left, right = 0, len(height) - 1\n",
    "    max_water = 0\n",
    "\n",
    "    while left < right:\n",
    "        width = right - left\n",
    "        max_water = max(max_water, min(height[left], height[right]) * width)\n",
    "\n",
    "        if height[left] < height[right]:\n",
    "            left += 1\n",
    "        else:\n",
    "            right -= 1\n",
    "\n",
    "    return max_water"
   ]
  },
  {
   "cell_type": "markdown",
   "id": "6ce2fcd2",
   "metadata": {},
   "source": [
    "### 6. **Problem: Dutch National Flag Problem (Sort Colors)**\n",
    "\n",
    "- **Description**: Given an array of integers `0`, `1`, and `2`, sort the array in-place without using extra space.\n",
    "- **Pseudocode**:\n",
    "    - Use three pointers: `low`, `mid`, and `high`.\n",
    "    - As `mid` traverses, swap elements with `low` and `high` based on their values (0, 1, or 2).\n",
    "- **Time Complexity**: O(N)\n",
    "- **Space Complexity**: O(1)\n",
    "\n",
    "**Python Solution**:"
   ]
  },
  {
   "cell_type": "code",
   "execution_count": null,
   "id": "fb2738c0",
   "metadata": {},
   "outputs": [],
   "source": [
    "def sort_colors(nums):\n",
    "    low, mid, high = 0, 0, len(nums) - 1\n",
    "\n",
    "    while mid <= high:\n",
    "        if nums[mid] == 0:\n",
    "            nums[low], nums[mid] = nums[mid], nums[low]\n",
    "            low += 1\n",
    "            mid += 1\n",
    "        elif nums[mid] == 1:\n",
    "            mid += 1\n",
    "        else:\n",
    "            nums[mid], nums[high] = nums[high], nums[mid]\n",
    "            high -= 1"
   ]
  },
  {
   "cell_type": "markdown",
   "id": "e4079a09",
   "metadata": {},
   "source": [
    "### 7. **Problem: Merge Two Sorted Arrays**\n",
    "\n",
    "- **Description**: Given two sorted arrays, merge them into a single sorted array in-place (assuming the first array has enough space at the end).\n",
    "- **Pseudocode**:\n",
    "    - Use two pointers: `i` for the first array (starting from the end of elements) and `j` for the second array.\n",
    "    - Traverse backward, placing the larger element at the end of the merged array.\n",
    "- **Time Complexity**: O(m + n)\n",
    "- **Space Complexity**: O(1)\n",
    "\n",
    "**Python Solution**:"
   ]
  },
  {
   "cell_type": "code",
   "execution_count": null,
   "id": "6f5c7feb",
   "metadata": {},
   "outputs": [],
   "source": [
    "def merge(nums1, m, nums2, n):\n",
    "    i, j, k = m - 1, n - 1, m + n - 1\n",
    "\n",
    "    while j >= 0:\n",
    "        if i >= 0 and nums1[i] > nums2[j]:\n",
    "            nums1[k] = nums1[i]\n",
    "            i -= 1\n",
    "        else:\n",
    "            nums1[k] = nums2[j]\n",
    "            j -= 1\n",
    "        k -= 1"
   ]
  },
  {
   "cell_type": "markdown",
   "id": "29874528",
   "metadata": {},
   "source": [
    "***\n",
    "### **Miscellaneous Problems**:\n",
    "\n",
    "### 8. **Problem: Squares of a Sorted Array**\n",
    "\n",
    "- **Description**: Given a sorted array of integers, return the squares of the numbers sorted in non-decreasing order.\n",
    "- **Pseudocode**:\n",
    "    - Use two pointers starting from both ends of the array.\n",
    "    - Compare the square of the numbers at each pointer, place the larger one at the end of the result array, and move the corresponding pointer.\n",
    "\n",
    "- **Time Complexity**: O(N)\n",
    "- **Space Complexity**: O(N) (result array)\n",
    "\n",
    "**Python Solution**:"
   ]
  },
  {
   "cell_type": "code",
   "execution_count": null,
   "id": "88e0196e",
   "metadata": {},
   "outputs": [],
   "source": [
    "def sorted_squares(nums):\n",
    "        result = [0] * len(nums)\n",
    "        left, right = 0, len(nums) - 1\n",
    "        index = len(nums) - 1\n",
    "    \n",
    "        while left <= right:\n",
    "            if abs(nums[left]) > abs(nums[right]):\n",
    "                result[index] = nums[left] ** 2\n",
    "                left += 1\n",
    "            else:\n",
    "                result[index] = nums[right] ** 2\n",
    "                right -= 1\n",
    "            index -= 1\n",
    "    \n",
    "        return result"
   ]
  }
 ],
 "metadata": {
  "kernelspec": {
   "display_name": "Python 3 (ipykernel)",
   "language": "python",
   "name": "python3"
  },
  "language_info": {
   "codemirror_mode": {
    "name": "ipython",
    "version": 3
   },
   "file_extension": ".py",
   "mimetype": "text/x-python",
   "name": "python",
   "nbconvert_exporter": "python",
   "pygments_lexer": "ipython3",
   "version": "3.11.3"
  }
 },
 "nbformat": 4,
 "nbformat_minor": 5
}
