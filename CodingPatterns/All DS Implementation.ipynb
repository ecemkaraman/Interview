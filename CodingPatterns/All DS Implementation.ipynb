{
 "cells": [
  {
   "cell_type": "markdown",
   "id": "e6d6a195",
   "metadata": {},
   "source": [
    "# Python DS Implementation\n",
    "## EASY:\n",
    "Built-in, basic operations and understanding (Lists, Stacks, Queues, Sets, Dictionaries)\n",
    "### 1. **Array/List**\n",
    "- **Description**: An array (or list in Python) is a collection of items stored at contiguous memory locations. Lists are mutable, meaning their elements can be changed.\n",
    "- **Python Built-in**: `list` (dynamic)\n",
    "- **Complexity**: Append/Access is (O(1)), Insertion/Deletion can be (O(n))\n",
    "- **Usage**: Storing sequential data, easy iteration, supports slicing."
   ]
  },
  {
   "cell_type": "code",
   "execution_count": null,
   "id": "152a8aa3",
   "metadata": {},
   "outputs": [],
   "source": [
    "# Using Python's built-in list\n",
    "array = [1, 2, 3, 4, 5] \n",
    "print(array[0])  # Accessing elements-> Output: 1\n",
    "array[1] = 10 # Modifying elements\n",
    "array.append(6) # Adding elements\n",
    "array.remove(3) # Removing elements"
   ]
  },
  {
   "cell_type": "markdown",
   "id": "abd94afa",
   "metadata": {},
   "source": [
    "### 2. **Stack**\n",
    "- **Description**: A stack is a collection of elements that follows the Last In First Out (LIFO) principle.\n",
    "- **Python Built-in**: Use `list` or **`collections.deque`**\n",
    "- **Complexity**: Push/Pop is (O(1))\n",
    "- **Usage**: DFS, backtracking, function call stack simulation.\n",
    "- List vs deque: List has O(1) pop & append from end, but O(n) at the beginning. deque has O(1) append and pop from both ends "
   ]
  },
  {
   "cell_type": "code",
   "execution_count": null,
   "id": "2ba6cca0",
   "metadata": {},
   "outputs": [],
   "source": [
    "# Implementation Using List:\n",
    "stack = []\n",
    "\n",
    "# Push\n",
    "stack.append(1)\n",
    "stack.append(2)\n",
    "stack.append(3)\n",
    "\n",
    "# Pop\n",
    "top_element = stack.pop()  # Output: 3"
   ]
  },
  {
   "cell_type": "code",
   "execution_count": null,
   "id": "2926f060",
   "metadata": {},
   "outputs": [],
   "source": [
    "# Implementation Using collections.deque\n",
    "# Preferred - O(1) append and pop from both ends\n",
    "from collections import deque\n",
    "\n",
    "stack = deque()\n",
    "\n",
    "# Push\n",
    "stack.append(1)\n",
    "stack.append(2)\n",
    "stack.append(3)\n",
    "\n",
    "# Pop\n",
    "top_element = stack.pop()  # Output: 3"
   ]
  },
  {
   "cell_type": "markdown",
   "id": "f8d54b92",
   "metadata": {},
   "source": [
    "---\n",
    "### 3. **Queue**\n",
    "**Description**: A queue is a collection of elements that follows the First In First Out (FIFO) principle.\n",
    "- **Python Built-in**: `collections.deque` (Double-Ended Queue)\n",
    "- **Complexity**: O(1) append & pop from both ends.\n",
    "- **Usage**: BFS, caching, scheduling tasks, sliding window problems"
   ]
  },
  {
   "cell_type": "code",
   "execution_count": null,
   "id": "90d229ce",
   "metadata": {},
   "outputs": [],
   "source": [
    "from collections import deque\n",
    "\n",
    "queue = deque()\n",
    "\n",
    "# Enqueue\n",
    "queue.append(1)\n",
    "queue.append(2)\n",
    "queue.append(3)\n",
    "\n",
    "# Dequeue\n",
    "first_element = queue.popleft()  # Output: 1"
   ]
  },
  {
   "cell_type": "markdown",
   "id": "5a32963e",
   "metadata": {},
   "source": [
    "### 4. **Set**:\n",
    "    - **Python Built-in**: `set`\n",
    "    - **Complexity**: (O(1)) average case for insertion, deletion, and lookup.\n",
    "    - **Usage**: Deduplication, membership checks."
   ]
  },
  {
   "cell_type": "markdown",
   "id": "716e928a",
   "metadata": {},
   "source": [
    "### 5. **Hash Table / Dictionary**\n",
    "**Description**: A hash table stores key-value pairs and allows for fast retrieval based on keys.\n",
    "- **Python Built-in**: `dict`\n",
    "- **Complexity**: Average (O(1)) for insertion, deletion, and lookup.\n",
    "- **Usage**: Storing key-value pairs, counting frequencies, caching."
   ]
  },
  {
   "cell_type": "code",
   "execution_count": null,
   "id": "8f67cfe2",
   "metadata": {},
   "outputs": [],
   "source": [
    "# Using Python's built-in dictionary\n",
    "hash_table = {}\n",
    "\n",
    "# Inserting elements\n",
    "hash_table['a'] = 1\n",
    "hash_table['b'] = 2\n",
    "\n",
    "# Accessing elements\n",
    "value = hash_table['a']  # Output: 1\n",
    "\n",
    "# Removing elements\n",
    "del hash_table['b']"
   ]
  },
  {
   "cell_type": "markdown",
   "id": "48e4e827",
   "metadata": {},
   "source": [
    "## MEDIUM:\n",
    "Requires deeper knowledge of pointers, traversal techniques, or balancing (Linked List, BST, Heaps, Tries, Graphs). \n",
    "- For FAANG interviews, a strong focus on Medium-Level data structures is essential, while mastering a few Hard-Level structures can make a significant difference for solving more advanced algorithmic problems.\n",
    "\n",
    "### 6. **Linked List**\n",
    "- **Description**: A linked list is a linear data structure where each element is a separate object, consisting of data and a reference to the next node.\n",
    "- **Preferred Method**: Use a class-based approach for clarity and encapsulation.\n",
    "- **Complexity**:O(1 for insertion/deletion from head/tail, O(n) for access.\n",
    "- **Usage**: When frequent insertions or deletions are needed, traversal."
   ]
  },
  {
   "cell_type": "code",
   "execution_count": null,
   "id": "ea05174e",
   "metadata": {},
   "outputs": [],
   "source": [
    "class ListNode:\n",
    "    def __init__(self, value):\n",
    "        self.value = value\n",
    "        self.next = None\n",
    "\n",
    "class LinkedList:\n",
    "    def __init__(self):\n",
    "        self.head = None\n",
    "\n",
    "    def append(self, value):\n",
    "        if not self.head:\n",
    "            self.head = ListNode(value)\n",
    "            return\n",
    "        current = self.head\n",
    "        while current.next:\n",
    "            current = current.next\n",
    "        current.next = ListNode(value)\n",
    "\n",
    "    def display(self):\n",
    "        current = self.head\n",
    "        while current:\n",
    "            print(current.value, end=\" -> \")\n",
    "            current = current.next\n",
    "        print(\"None\")"
   ]
  },
  {
   "cell_type": "markdown",
   "id": "e3246735",
   "metadata": {},
   "source": [
    "### 7. ** Tree**\n",
    "### 7a. **Binary Tree**\n",
    "**Description**: A binary tree is a tree data structure where each node has at most two children.\n",
    "- **Preferred Method**: Use a class-based approach to maintain a clean structure for tree nodes."
   ]
  },
  {
   "cell_type": "code",
   "execution_count": null,
   "id": "8cb6746e",
   "metadata": {},
   "outputs": [],
   "source": [
    "class TreeNode:\n",
    "    def __init__(self, value):\n",
    "        self.value = value\n",
    "        self.left = None\n",
    "        self.right = None\n",
    "\n",
    "class BinaryTree:\n",
    "    def __init__(self):\n",
    "        self.root = None\n",
    "\n",
    "    def insert(self, value):\n",
    "        if not self.root:\n",
    "            self.root = TreeNode(value)\n",
    "        else:\n",
    "            self._insert_recursively(self.root, value)\n",
    "\n",
    "    def _insert_recursively(self, node, value):\n",
    "        if value < node.value:\n",
    "            if node.left is None:\n",
    "                node.left = TreeNode(value)\n",
    "            else:\n",
    "                self._insert_recursively(node.left, value)\n",
    "        else:\n",
    "            if node.right is None:\n",
    "                node.right = TreeNode(value)\n",
    "            else:\n",
    "                self._insert_recursively(node.right, value)"
   ]
  },
  {
   "cell_type": "code",
   "execution_count": null,
   "id": "fb6fb7f9",
   "metadata": {},
   "outputs": [],
   "source": [
    "# Example usage: Creating a binary tree manually\n",
    "root = TreeNode(1)\n",
    "root.left = TreeNode(2)\n",
    "root.right = TreeNode(3)\n",
    "root.left.left = TreeNode(4)\n",
    "root.left.right = TreeNode(5)\n",
    "root.right.left = TreeNode(6)\n",
    "root.right.right = TreeNode(7)"
   ]
  },
  {
   "cell_type": "markdown",
   "id": "ba90674b",
   "metadata": {},
   "source": [
    "### 7b. **Binary Search Tree (BST)**\n",
    "**Description**: A Binary Search Tree is a binary tree where each node has a key greater than all keys in its left subtree and less than all keys in its right subtree. This allows for efficient searching, insertion, and deletion operations.\n",
    "- **Complexity**: (O(h)) where (h) is height for insertions, deletions, and searches.\n",
    "- **Usage**: Efficient search, dynamic data, range queries."
   ]
  },
  {
   "cell_type": "code",
   "execution_count": null,
   "id": "4f4063bc",
   "metadata": {},
   "outputs": [],
   "source": [
    "class BinarySearchTree:\n",
    "    def __init__(self):\n",
    "        self.root = None\n",
    "\n",
    "    def insert(self, value):\n",
    "        if not self.root:\n",
    "            self.root = TreeNode(value)\n",
    "        else:\n",
    "            self._insert_recursively(self.root, value)\n",
    "\n",
    "    def _insert_recursively(self, node, value):\n",
    "        if value < node.value:\n",
    "            if node.left is None:\n",
    "                node.left = TreeNode(value)\n",
    "            else:\n",
    "                self._insert_recursively(node.left, value)\n",
    "        else:\n",
    "            if node.right is None:\n",
    "                node.right = TreeNode(value)\n",
    "            else:\n",
    "                self._insert_recursively(node.right, value)\n",
    "\n",
    "    def search(self, value):\n",
    "        return self._search_recursively(self.root, value)\n",
    "\n",
    "    def _search_recursively(self, node, value):\n",
    "        if node is None or node.value == value:\n",
    "            return node\n",
    "        if value < node.value:\n",
    "            return self._search_recursively(node.left, value)\n",
    "        return self._search_recursively(node.right, value)\n",
    "\n",
    "    def inorder_traversal(self):\n",
    "        return self._inorder_recursively(self.root)\n",
    "\n",
    "    def _inorder_recursively(self, node):\n",
    "        return (self._inorder_recursively(node.left) + [node.value] + self._inorder_recursively(node.right)) if node else []"
   ]
  },
  {
   "cell_type": "markdown",
   "id": "97d0db48",
   "metadata": {},
   "source": [
    "### 7c. N-ary Tree:\n",
    "A tree where each node can have at most N children. -> more generalized than a binary tree."
   ]
  },
  {
   "cell_type": "code",
   "execution_count": null,
   "id": "4f191e4e",
   "metadata": {},
   "outputs": [],
   "source": [
    "class NAryTreeNode:\n",
    "    def __init__(self, value):\n",
    "        self.value = value\n",
    "        self.children = []\n",
    "\n",
    "# Example usage:\n",
    "# Creating an N-ary tree manually\n",
    "root = NAryTreeNode(1)\n",
    "child1 = NAryTreeNode(2)\n",
    "child2 = NAryTreeNode(3)\n",
    "child3 = NAryTreeNode(4)\n",
    "\n",
    "root.children.append(child1)\n",
    "root.children.append(child2)\n",
    "child1.children.append(child3)\n"
   ]
  },
  {
   "cell_type": "markdown",
   "id": "c570e39a",
   "metadata": {},
   "source": [
    "### 8. **Graph (Adjacency List)**\n",
    "\n",
    "**Description**: A graph is a collection of nodes connected by edges. An adjacency list representation stores a list of adjacent nodes for each node.\n",
    "- **Preferred Method**: Use a dictionary for flexible and efficient storage of nodes and their edges."
   ]
  },
  {
   "cell_type": "code",
   "execution_count": null,
   "id": "5a4e909c",
   "metadata": {},
   "outputs": [],
   "source": [
    "class GraphAdjList:\n",
    "    def __init__(self):\n",
    "        self.graph = {}\n",
    "\n",
    "    def add_node(self, node):\n",
    "        if node not in self.graph:\n",
    "            self.graph[node] = []\n",
    "\n",
    "    def add_edge(self, node1, node2):\n",
    "        if node1 in self.graph and node2 in self.graph:\n",
    "            self.graph[node1].append(node2)\n",
    "            self.graph[node2].append(node1)  # Undirected graph\n",
    "\n",
    "    def display(self):\n",
    "        for node in self.graph:\n",
    "            print(f\"{node} -> {self.graph[node]}\")\n",
    "\n",
    "# Example usage:\n",
    "g = GraphAdjList()\n",
    "g.add_node(1)\n",
    "g.add_node(2)\n",
    "g.add_node(3)\n",
    "g.add_edge(1, 2)\n",
    "g.add_edge(1, 3)\n",
    "g.display()"
   ]
  },
  {
   "cell_type": "markdown",
   "id": "62930c78",
   "metadata": {},
   "source": [
    "---\n",
    "\n",
    "### 9. **Graph (Adjacency Matrix)**\n",
    "\n",
    "**Description**: A 2D array is used where matrix[i][j] indicates if there's an edge between node i and node j.\n",
    "- **Preferred Method**: Use adjacency matrices for dense graphs where the number of edges is close to the number of nodes squared."
   ]
  },
  {
   "cell_type": "code",
   "execution_count": null,
   "id": "c97cae2b",
   "metadata": {},
   "outputs": [],
   "source": [
    "class GraphAdjMatrix:\n",
    "    def __init__(self, num_nodes):\n",
    "        self.num_nodes = num_nodes\n",
    "        self.matrix = [[0 for _ in range(num_nodes)] for _ in range(num_nodes)]\n",
    "\n",
    "    def add_edge(self, node1, node2):\n",
    "        self.matrix[node1][node2] = 1\n",
    "        self.matrix[node2][node1] = 1  # Undirected graph\n",
    "\n",
    "    def display(self):\n",
    "        for row in self.matrix:\n",
    "            print(row)\n",
    "\n",
    "# Example usage:\n",
    "g = GraphAdjMatrix(3)\n",
    "g.add_edge(0, 1)\n",
    "g.add_edge(0, 2)\n",
    "g.display()"
   ]
  },
  {
   "cell_type": "markdown",
   "id": "071e45e3",
   "metadata": {},
   "source": [
    "### 10. **Heap (Priority Queue)**\n",
    "\n",
    "**Description**: A heap is a specialized tree-based structure that satisfies the heap property. In a max heap, for any given node, its value is greater than or equal to the values of its children, while in a min heap, the value is less than or equal to those of its children.\n",
    "- **Python Built-in**: `heapq`\n",
    "- **Complexity**: (O(log n)) for insertion and extraction.\n",
    "- **Usage**: Dijkstra's algorithm, scheduling, finding top (k) elements."
   ]
  },
  {
   "cell_type": "code",
   "execution_count": null,
   "id": "5cb03207",
   "metadata": {},
   "outputs": [],
   "source": [
    "# (Using heapq for Min Heap):\n",
    "import heapq\n",
    "\n",
    "# Creating a min heap\n",
    "min_heap = []\n",
    "\n",
    "# Inserting elements\n",
    "heapq.heappush(min_heap, 5)\n",
    "heapq.heappush(min_heap, 2)\n",
    "heapq.heappush(min_heap, 8)\n",
    "\n",
    "# Removing the smallest element\n",
    "smallest = heapq.heappop(min_heap)  # Output: 2"
   ]
  },
  {
   "cell_type": "markdown",
   "id": "60038259",
   "metadata": {},
   "source": [
    "11. **Trie (Prefix Tree)**:\n",
    "**Description**: A Trie is a tree-like data structure used to store a dynamic set of strings where the keys are usually strings. \n",
    "- **Complexity**: (O(k)) for search, where (k) is the length of the string.\n",
    "- **Usage**: Efficiently store strings, autocomplete systems, prefix search."
   ]
  },
  {
   "cell_type": "code",
   "execution_count": null,
   "id": "8e921035",
   "metadata": {},
   "outputs": [],
   "source": [
    "class TrieNode:\n",
    "    def __init__(self):\n",
    "        self.children = {}\n",
    "        self.is_end_of_word = False\n",
    "\n",
    "class Trie:\n",
    "    def __init__(self):\n",
    "        self.root = TrieNode()\n",
    "\n",
    "    def insert(self, word):\n",
    "        node = self.root\n",
    "        for char in word:\n",
    "            if char not in node.children:\n",
    "                node.children[char] = TrieNode()\n",
    "            node = node.children[char]\n",
    "        node.is_end_of_word = True\n",
    "\n",
    "    def search(self, word):\n",
    "        node = self.root\n",
    "        for char in word:\n",
    "            if char not in node.children:\n",
    "                return False\n",
    "            node = node.children[char]\n",
    "        return node.is_end_of_word\n",
    "\n",
    "    def starts_with(self, prefix):\n",
    "        node = self.root\n",
    "        for char in prefix:\n",
    "            if char not in node.children:\n",
    "                return False\n",
    "            node = node.children[char]\n",
    "        return True"
   ]
  },
  {
   "cell_type": "markdown",
   "id": "29f6ba9a",
   "metadata": {},
   "source": [
    "### Summary of Preferences\n",
    "\n",
    "1. **Array/List**: Use Python's built-in list.\n",
    "2. **Stack**: Use `collections.deque` for efficiency.\n",
    "3. **Queue**: Use `collections.deque` for efficiency.\n",
    "4. **Linked List**: Use a class-based approach.\n",
    "5. **Binary Tree**: Use a class-based approach.\n",
    "6. **Hash Table/Dictionary**: Use Python's built-in dictionary.\n",
    "7. **Heap**: Use the `heapq` library for heaps.\n",
    "8. **Graph (Adjacency List)**: Use a dictionary.\n",
    "9. **Graph (Adjacency Matrix)**: Use a 2D list for dense graphs."
   ]
  },
  {
   "cell_type": "markdown",
   "id": "777cfd93",
   "metadata": {},
   "source": [
    "# **HARD:**\n",
    "\n",
    "These require advanced algorithmic knowledge or implementation techniques. The underlying mechanics can be tricky to handle correctly.\n",
    "\n",
    "1. **AVL Tree (Self-Balancing Binary Search Tree)**:\n",
    "- The difference in heights between the left and right subtrees cannot be >1 for all nodes.\n",
    "- **Complexity**: (O(log n)) for insert, delete, search.\n",
    "- **Usage**: Balanced tree to ensure fast search, insertion, and deletion."
   ]
  },
  {
   "cell_type": "code",
   "execution_count": null,
   "id": "4982b522",
   "metadata": {},
   "outputs": [],
   "source": [
    "class AVLTreeNode:\n",
    "    def __init__(self, value):\n",
    "        self.value = value\n",
    "        self.left = None\n",
    "        self.right = None\n",
    "        self.height = 1\n",
    "\n",
    "class AVLTree:\n",
    "    def insert(self, root, value):\n",
    "        if not root:\n",
    "            return AVLTreeNode(value)\n",
    "        elif value < root.value:\n",
    "            root.left = self.insert(root.left, value)\n",
    "        else:\n",
    "            root.right = self.insert(root.right, value)\n",
    "\n",
    "        root.height = 1 + max(self.get_height(root.left), self.get_height(root.right))\n",
    "\n",
    "        balance = self.get_balance(root)\n",
    "\n",
    "        # Left Left Case\n",
    "        if balance > 1 and value < root.left.value:\n",
    "            return self.right_rotate(root)\n",
    "\n",
    "        # Right Right Case\n",
    "        if balance < -1 and value > root.right.value:\n",
    "            return self.left_rotate(root)\n",
    "\n",
    "        # Left Right Case\n",
    "        if balance > 1 and value > root.left.value:\n",
    "            root.left = self.left_rotate(root.left)\n",
    "            return self.right_rotate(root)\n",
    "\n",
    "        # Right Left Case\n",
    "        if balance < -1 and value < root.right.value:\n",
    "            root.right = self.right_rotate(root.right)\n",
    "            return self.left_rotate(root)\n",
    "\n",
    "        return root\n",
    "\n",
    "    def left_rotate(self, z):\n",
    "        y = z.right\n",
    "        T2 = y.left\n",
    "        y.left = z\n",
    "        z.right = T2\n",
    "        z.height = 1 + max(self.get_height(z.left), self.get_height(z.right))\n",
    "        y.height = 1 + max(self.get_height(y.left), self.get_height(y.right))\n",
    "        return y\n",
    "\n",
    "    def right_rotate(self, z):\n",
    "        y = z.left\n",
    "        T3 = y.right\n",
    "        y.right = z\n",
    "        z.left = T3\n",
    "        z.height = 1 + max(self.get_height(z.left), self.get_height(z.right))\n",
    "        y.height = 1 + max(self.get_height(y.left), self.get_height(y.right))\n",
    "        return y\n",
    "\n",
    "    def get_height(self, node):\n",
    "        if not node:\n",
    "            return 0\n",
    "        return node.height\n",
    "\n",
    "    def get_balance(self, node):\n",
    "        if not node:\n",
    "            return 0\n",
    "        return self.get_height(node.left) - self.get_height(node.right)"
   ]
  },
  {
   "cell_type": "markdown",
   "id": "2dc78902",
   "metadata": {},
   "source": [
    "2. **Red-Black Tree (Self-Balancing Binary Search Tree)**:\n",
    "- Each node has an extra bit for denoting the color of the node, either red or black. This structure ensures that the tree remains approximately balanced during insertions and deletions.\n",
    "- **Complexity**:O(log n) for insert, delete, search.\n",
    "- **Usage**: Maintaining sorted data, maintain tree's balance during insertion/deletion. "
   ]
  },
  {
   "cell_type": "code",
   "execution_count": null,
   "id": "b1898054",
   "metadata": {},
   "outputs": [],
   "source": [
    "class RedBlackNode:\n",
    "    def __init__(self, value):\n",
    "        self.value = value\n",
    "        self.color = \"red\"  # New nodes are always red\n",
    "        self.left = None\n",
    "        self.right = None\n",
    "        self.parent = None\n",
    "\n",
    "class RedBlackTree:\n",
    "    def __init__(self):\n",
    "        self.root = None\n",
    "\n",
    "    # Implement insertion, deletion, and balancing operations here\n",
    "\n",
    "    def rotate_left(self, node):\n",
    "        # Implementation of left rotation\n",
    "\n",
    "    def rotate_right(self, node):\n",
    "        # Implementation of right rotation\n",
    "\n",
    "    def fix_violation(self, node):\n",
    "        # Implementation of fixing violations after insertion/deletion"
   ]
  },
  {
   "cell_type": "markdown",
   "id": "763fe9d6",
   "metadata": {},
   "source": [
    "3. **Segment Tree**: (prioritize)\n",
    "- A binary tree used for storing intervals or segments. It allows querying which segments or intervals overlap with a point, and efficiently updates segments.\n",
    "- **Complexity**: (O(log n)) for updates and range queries.\n",
    "- **Usage**: Range queries like sum, minimum, maximum."
   ]
  },
  {
   "cell_type": "code",
   "execution_count": null,
   "id": "91d91026",
   "metadata": {},
   "outputs": [],
   "source": [
    "class SegmentTree:\n",
    "    def __init__(self, data):\n",
    "        self.n = len(data)\n",
    "        self.tree = [0] * (4 * self.n)\n",
    "        self.build(data, 0, 0, self.n - 1)\n",
    "\n",
    "    def build(self, data, node, start, end):\n",
    "        if start == end:\n",
    "            self.tree[node] = data[start]\n",
    "        else:\n",
    "            mid = (start + end) // 2\n",
    "            self.build(data, 2 * node + 1, start, mid)\n",
    "            self.build(data, 2 * node + 2, mid + 1, end)\n",
    "            self.tree[node] = self.tree[2 * node + 1] + self.tree[2 * node + 2]  # For sum query\n",
    "\n",
    "    def query(self, L, R, node, start, end):\n",
    "        # Implementation for range query\n",
    "\n",
    "    def update(self, index, value, node, start, end):\n",
    "        # Implementation for updating values"
   ]
  },
  {
   "cell_type": "markdown",
   "id": "9897480e",
   "metadata": {},
   "source": [
    "5. **Disjoint Set Union (Union-Find)**: (prioritize)\n",
    "- Keeps track of a set of elements partitioned into a number of disjoint (non-overlapping) subsets.\n",
    "- Preferred Method: Class-based for clarity. Path compression and union by rank optimize operations.\n",
    "- **Complexity**: (O(alpha(n))), where (alpha) is the inverse Ackermann function (very slow-growing).\n",
    "- **Usage**: Connected components, cycle detection in graphs."
   ]
  },
  {
   "cell_type": "code",
   "execution_count": null,
   "id": "b3cc8846",
   "metadata": {},
   "outputs": [],
   "source": [
    "class UnionFind:\n",
    "    def __init__(self, size):\n",
    "        self.parent = [i for i in range(size)]\n",
    "        self.rank = [1] * size\n",
    "\n",
    "    def find(self, p):\n",
    "        if self.parent[p] != p:\n",
    "            self.parent[p] = self.find(self.parent[p])  # Path compression\n",
    "        return self.parent[p]\n",
    "\n",
    "    def union(self, p, q):\n",
    "        rootP = self.find(p)\n",
    "        rootQ = self.find(q)\n",
    "\n",
    "        if rootP != rootQ:\n",
    "            # Union by rank\n",
    "            if self.rank[rootP] > self.rank[rootQ]:\n",
    "                self.parent[rootQ] = rootP\n",
    "            elif self.rank[rootP] < self.rank[rootQ]:\n",
    "                self.parent[rootP] = rootQ\n",
    "            else:\n",
    "                self.parent[rootQ] = rootP\n",
    "                self.rank[rootP] += 1\n"
   ]
  },
  {
   "cell_type": "markdown",
   "id": "ea0107a6",
   "metadata": {},
   "source": [
    "6. **Suffix Tree/Suffix Array**:\n",
    "    - **Custom Implementation**.\n",
    "    - **Complexity**: (O(n log n)) for building, (O(m)) for search where (m) is pattern length.\n",
    "    - **Usage**: String matching, longest common substring."
   ]
  },
  {
   "cell_type": "markdown",
   "id": "cda1b6ec",
   "metadata": {},
   "source": [
    "4. **Fenwick Tree (Binary Indexed Tree)**:\n",
    "    - **Custom Implementation**.\n",
    "    - **Complexity**: (O(log n)) for point updates and prefix queries.\n",
    "    - **Usage**: Efficient range queries on cumulative data."
   ]
  },
  {
   "cell_type": "code",
   "execution_count": null,
   "id": "4988bf2b",
   "metadata": {},
   "outputs": [],
   "source": []
  }
 ],
 "metadata": {
  "kernelspec": {
   "display_name": "Python 3 (ipykernel)",
   "language": "python",
   "name": "python3"
  },
  "language_info": {
   "codemirror_mode": {
    "name": "ipython",
    "version": 3
   },
   "file_extension": ".py",
   "mimetype": "text/x-python",
   "name": "python",
   "nbconvert_exporter": "python",
   "pygments_lexer": "ipython3",
   "version": "3.11.3"
  }
 },
 "nbformat": 4,
 "nbformat_minor": 5
}
