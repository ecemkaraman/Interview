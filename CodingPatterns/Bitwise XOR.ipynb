{
 "cells": [
  {
   "cell_type": "markdown",
   "id": "a406b9f4",
   "metadata": {},
   "source": [
    "### Bitwise XOR Pattern Overview\n",
    "\n",
    "The **Bitwise XOR pattern** is a common and powerful approach used in problems that involve manipulating binary numbers or finding unique elements in a collection. XOR (exclusive OR) is a binary operator that compares two bits and returns `1` if the bits are different and `0` if they are the same. The XOR pattern is particularly useful for problems involving pairs, toggles, and checking bit-level differences.\n",
    "\n",
    "### **How to Recognize:**\n",
    "\n",
    "- Problems involving finding the only unique number in a collection of paired or repeated elements.\n",
    "- Questions asking to find missing numbers or swap variables without using extra space.\n",
    "- Scenarios where you are asked to manipulate or toggle bits (on/off).\n",
    "- Look for phrases like “find the single element,” “detect differences,” or “without using extra space.”\n",
    "\n",
    "### Key XOR Properties:\n",
    "\n",
    "1. **Self-Cancellation:** \\(a \\oplus a = 0\\) (Any number XOR'd with itself results in 0).\n",
    "2. **Identity:** \\(a \\oplus 0 = a\\) (Any number XOR'd with 0 results in the number itself).\n",
    "3. **Commutativity and Associativity:** XOR operations can be reordered or grouped in any way.\n",
    "4. **Bit-Flipping:** XOR can be used to flip individual bits."
   ]
  },
  {
   "cell_type": "markdown",
   "id": "ce7afbfc",
   "metadata": {},
   "source": [
    "***\n",
    "### General XOR-Based Techniques:\n",
    "\n",
    "- **Finding Unique Elements:** XOR is perfect for finding the single unique element in an array of duplicates because it cancels out identical numbers.\n",
    "- **Bit Manipulation Problems:** When working with bits (flipping, toggling, counting differences), XOR often provides an efficient solution.\n",
    "- **No Extra Space:** XOR allows in-place manipulation of values, which eliminates the need for extra memory.\n",
    "\n",
    "---\n",
    "\n",
    "### Summary of Key Patterns:\n",
    "\n",
    "1. **Unique Element Finding:** Use XOR when finding elements that appear an odd number of times in arrays where other elements appear in pairs (e.g., single number problems).\n",
    "2. **Missing Elements:** XOR allows efficient cancellation of present numbers, leaving behind the missing or unique element.\n",
    "3. **Binary Manipulation:** XOR is essential when solving problems where you need to manipulate individual bits, such as counting differences (Hamming Distance) or maximizing results by bit manipulation (Maximum XOR).\n",
    "4. **No Extra Memory:** Most XOR-based solutions do not require additional memory, making them optimal for space efficiency.\n",
    "\n",
    "### General Tips for XOR Pattern:\n",
    "\n",
    "- **Understand XOR Properties:** The self-cancellation property of XOR (a ^ a = 0) is the key to solving most problems that involve finding unique or missing elements.\n",
    "- **Bit Manipulation:** Be familiar with how XOR manipulates bits to solve problems like toggling or finding bitwise differences.\n",
    "- **Efficient Solutions:** XOR can often replace sorting or extra space solutions, offering O(n) time complexity and O(1) space complexity for many problems."
   ]
  },
  {
   "cell_type": "markdown",
   "id": "fed2dce7",
   "metadata": {},
   "source": [
    "***\n",
    "### **Core LeetCode Problems:**\n",
    "\n",
    "- **136. Single Number**\n",
    "- **137. Single Number II**\n",
    "- **260. Single Number III**\n",
    "- **268. Missing Number**\n",
    "- **421. Maximum XOR of Two Numbers in an Array**\n",
    "- **371. Sum of Two Integers (without using + or -)**\n",
    "- **461. Hamming Distance**\n",
    "- **190. Reverse Bits**\n",
    "- **338. Counting Bits**\n",
    "\n",
    "### 1. **Single Number (LeetCode 136)**\n",
    "\n",
    "### **Problem:**\n",
    "\n",
    "Given a non-empty array of integers where every element appears twice except for one, find that single one.\n",
    "\n",
    "### **Steps:**\n",
    "\n",
    "1. Initialize a result variable to 0.\n",
    "2. XOR all the numbers together. Since XOR'ing a number with itself results in 0, all the numbers that appear twice will cancel each other out, leaving only the unique number.\n",
    "\n",
    "- **Time:** O(n), where n is the length of the array.\n",
    "- **Space :** O(1), no extra space used.\n",
    "\n",
    "### **Smart Interview Comment:**\n",
    "\n",
    "- **XOR Self-Cancellation:** \"All the numbers that appear twice will cancel each other out because `x ^ x = 0`. So, only the single element remains.\"\n",
    "- **Constant Space:** \"This solution doesn't require extra memory, which makes it very efficient.\""
   ]
  },
  {
   "cell_type": "code",
   "execution_count": null,
   "id": "e32622a6",
   "metadata": {},
   "outputs": [],
   "source": [
    "def singleNumber(nums):\n",
    "    result = 0\n",
    "    for num in nums:\n",
    "        result ^= num\n",
    "    return result"
   ]
  },
  {
   "cell_type": "markdown",
   "id": "c4a04b09",
   "metadata": {},
   "source": [
    "### 2. **Missing Number (LeetCode 268)**\n",
    "\n",
    "### **Problem:**\n",
    "\n",
    "Given an array containing `n` distinct numbers taken from 0 to `n`, find the one number that is missing from the array.\n",
    "\n",
    "### **Steps:**\n",
    "\n",
    "1. XOR all the numbers from 0 to n.\n",
    "2. XOR all the numbers in the given array.\n",
    "3. XOR the two results. The missing number will remain because XOR cancels out all the numbers that appear in both the array and the sequence.\n",
    "\n",
    "- **Time:** O(n), since we iterate through the array once.\n",
    "- **Space :** O(1), no extra space used.\n",
    "\n",
    "### **Smart Interview Comment:**\n",
    "\n",
    "- **XOR on Indexes and Numbers:** \"By XOR'ing the indexes with the values, we efficiently cancel out all the elements, leaving only the missing number.\"\n",
    "- **No Sorting Needed:** \"This method avoids sorting the array or using extra memory, making it ideal for space-constrained environments.\""
   ]
  },
  {
   "cell_type": "code",
   "execution_count": null,
   "id": "e8f2955e",
   "metadata": {},
   "outputs": [],
   "source": [
    "def missingNumber(nums):\n",
    "    n = len(nums)\n",
    "    result = n  # Start with the largest number\n",
    "    for i in range(n):\n",
    "        result ^= i ^ nums[i]\n",
    "    return result"
   ]
  },
  {
   "cell_type": "markdown",
   "id": "d91f3482",
   "metadata": {},
   "source": [
    "### 3. **Maximum XOR of Two Numbers in an Array (LeetCode 421)**\n",
    "\n",
    "### **Problem:**\n",
    "\n",
    "Given a list of integers, find the maximum XOR of any two numbers.\n",
    "\n",
    "### **Steps:**\n",
    "\n",
    "1. Iterate through the binary bits of the numbers, building the maximum possible XOR result.\n",
    "2. Use a set to track the prefixes of the numbers seen so far and check if XOR’ing with a potential candidate gives a valid result.\n",
    "\n",
    "- **Time:** O(n), iterating through the bits of each number and finding the maximum XOR.\n",
    "- **Space:** O(n), for the set of prefixes.\n",
    "\n",
    "### **Smart Interview Comment:**\n",
    "\n",
    "- **Bit-by-Bit Construction:** \"We build the result bit by bit by testing the most significant bits first, ensuring that we always maximize the XOR.\"\n",
    "- **Efficient:** \"The use of a set to track prefixes helps avoid unnecessary recalculations, making the approach highly efficient.\""
   ]
  },
  {
   "cell_type": "code",
   "execution_count": null,
   "id": "f0412d8f",
   "metadata": {},
   "outputs": [],
   "source": [
    "def findMaximumXOR(nums):\n",
    "    maxXOR = 0\n",
    "    mask = 0\n",
    "    for i in range(31, -1, -1):  # Iterate over all 32 bits\n",
    "        mask |= (1 << i)\n",
    "        found_prefixes = set([num & mask for num in nums])\n",
    "        candidate = maxXOR | (1 << i)\n",
    "        for prefix in found_prefixes:\n",
    "            if prefix ^ candidate in found_prefixes:\n",
    "                maxXOR = candidate\n",
    "                break\n",
    "    return maxXOR\n"
   ]
  },
  {
   "cell_type": "markdown",
   "id": "d2f00318",
   "metadata": {},
   "source": [
    "### 4. **Hamming Distance (LeetCode 461)**\n",
    "\n",
    "### **Problem:**\n",
    "\n",
    "The Hamming distance between two integers is the number of positions at which the corresponding bits are different.\n",
    "\n",
    "### **Steps:**\n",
    "\n",
    "1. XOR the two numbers. The result will have `1`s in the positions where the two numbers have different bits.\n",
    "2. Count the number of `1`s in the result using a bit-counting method.\n",
    "\n",
    "- **Time:** O(1), since the number of bits is fixed (32 for standard integers).\n",
    "- **Space:** O(1), constant space.\n",
    "\n",
    "### **Smart Interview Comment:**\n",
    "\n",
    "- **Counting Different Bits:** \"By XOR'ing the two numbers, we directly get the positions where they differ in binary.\"\n",
    "- **Bit Counting:** \"The `bin` function simplifies the process by converting the XOR result into a binary string, making it easy to count the `1`s.\""
   ]
  },
  {
   "cell_type": "code",
   "execution_count": null,
   "id": "22eac9cf",
   "metadata": {},
   "outputs": [],
   "source": [
    "def hammingDistance(x, y):\n",
    "    return bin(x ^ y).count('1')"
   ]
  }
 ],
 "metadata": {
  "kernelspec": {
   "display_name": "Python 3 (ipykernel)",
   "language": "python",
   "name": "python3"
  },
  "language_info": {
   "codemirror_mode": {
    "name": "ipython",
    "version": 3
   },
   "file_extension": ".py",
   "mimetype": "text/x-python",
   "name": "python",
   "nbconvert_exporter": "python",
   "pygments_lexer": "ipython3",
   "version": "3.11.3"
  }
 },
 "nbformat": 4,
 "nbformat_minor": 5
}
