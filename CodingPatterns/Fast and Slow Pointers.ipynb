{
 "cells": [
  {
   "cell_type": "markdown",
   "id": "6bc72a1f",
   "metadata": {},
   "source": [
    "### **Fast and Slow Pointers (Same Direction)**:\n",
    "aka Tortoise and Hare, Floyd's Cycle Detection\n",
    "- Use fast &slow pointers instead of 2 pointers when dealing with singly LL (you can’t move backwards)\n",
    "\n",
    "- Detect cycles in a LL/array, find len(loop)\n",
    "- Find the middle element.\n",
    "- Determine if a LL is a palindrome \n",
    "- Remove duplicates from sorted array\n",
    "- Remove the n-th node from the end of a LL"
   ]
  },
  {
   "cell_type": "markdown",
   "id": "4054769a",
   "metadata": {},
   "source": [
    "### Tips and Insights:\n",
    "\n",
    "- **Why Fast and Slow Works for Cycles**: If a cycle exists, the fast pointer will eventually lap the slow pointer. Think of this like two runners on a circular track: the faster one will eventually catch up to the slower one.\n",
    "- **Optimal Use of Space**: Fast and slow pointers allow you to avoid using additional data structures like hash sets to track visited nodes, making them space-efficient.\n",
    "- **Middle Node Efficiency**: This method is more efficient than counting nodes first and then traversing again. It finds the middle in one pass with constant space.\n",
    "- **Tradeoffs**: In problems involving detection, the fast and slow pointers are more intuitive and require no additional space. However, they may not always be the best solution for problems requiring more complex data manipulations."
   ]
  },
  {
   "cell_type": "markdown",
   "id": "6b85638c",
   "metadata": {},
   "source": [
    "### General Strategy: Fast and Slow Pointers\n",
    "\n",
    "1. **Step 1: Clarify the problem**:\n",
    "    - Understand the data structure (usually a linked list or array) and whether the problem involves detecting patterns, cycles, or rearrangements.\n",
    "2. **Step 2: Define the roles of the pointers**:\n",
    "    - **Slow pointer**: Moves one step at a time.\n",
    "    - **Fast pointer**: Moves two steps at a time.\n",
    "    - In some variations, the fast pointer moves at a different speed, but generally, it's twice as fast.\n",
    "3. **Step 3: Set initial conditions**:\n",
    "    - Typically, both the fast and slow pointers start at the head or the first element.\n",
    "    - Depending on the problem, they may traverse linked lists, arrays, or other structures.\n",
    "4. **Step 4: Move the pointers**:\n",
    "    - Move the slow pointer by one step and the fast pointer by two. Continue until either:\n",
    "        - The fast pointer reaches the end (no cycle), or\n",
    "        - The fast pointer catches up to the slow pointer (cycle detected).\n",
    "5. **Step 5: Use the result**:\n",
    "    - If the problem involves finding a cycle or intersection, return the meeting point or process it further (e.g., find the cycle's length or start).\n",
    "    - If detecting the middle of a list, the slow pointer will be at the desired middle node."
   ]
  },
  {
   "cell_type": "markdown",
   "id": "0fd5a4e5",
   "metadata": {},
   "source": [
    "### UC1: **Cycle Detection**:\n",
    "#### - **Linked List Cycle (LeetCode 141)**:Given the head of a linked list, determine if the linked list has a cycle.\n",
    "- **Approach**: The slow pointer advances by one step while the fast pointer advances by two steps. If they ever meet, a cycle exists. If the fast pointer reaches the end (null), no cycle exists.\n",
    "- **Time Complexity**: O(N), N=number of nodes. Both pointers move at most N steps.\n",
    "- **Space Complexity**: O(1)\n",
    "\n",
    "**Python Code:**"
   ]
  },
  {
   "cell_type": "code",
   "execution_count": 1,
   "id": "ecf8214d",
   "metadata": {},
   "outputs": [],
   "source": [
    "class ListNode:\n",
    "    def __init__(self, val=0, next=None):\n",
    "        self.val = val\n",
    "        self.next = next"
   ]
  },
  {
   "cell_type": "code",
   "execution_count": null,
   "id": "5c23178d",
   "metadata": {},
   "outputs": [],
   "source": [
    "def hasCycle(head):\n",
    "    slow, fast = head, head\n",
    "\n",
    "    while fast and fast.next:\n",
    "        slow = slow.next\n",
    "        fast = fast.next.next\n",
    "        if slow == fast:\n",
    "            return True  # cycle detected\n",
    "\n",
    "    return False  # no cycle"
   ]
  },
  {
   "cell_type": "markdown",
   "id": "48a20b87",
   "metadata": {},
   "source": [
    "#### - **Linked List Cycle II (LeetCode 142):** Same question but return the node of cycle start\n",
    "- **Finding Entry Point:** Once a cycle is detected, we reset one pointer to the head of the list. Moving both pointers at the same speed, they will meet at the entry point of the cycle."
   ]
  },
  {
   "cell_type": "code",
   "execution_count": 2,
   "id": "8d66c1d6",
   "metadata": {},
   "outputs": [],
   "source": [
    "def detectCycle(head):\n",
    "    if not head or not head.next:\n",
    "        return None\n",
    "\n",
    "    slow, fast = head, head\n",
    "\n",
    "    while fast and fast.next:\n",
    "        slow = slow.next\n",
    "        fast = fast.next.next\n",
    "\n",
    "        if slow == fast: # Cycle detected - same until here\n",
    "            break\n",
    "    else: # No cycle found\n",
    "        return None\n",
    "\n",
    "    slow = head # Step 2: Find the entry point of the cycle\n",
    "    while slow != fast:\n",
    "        slow = slow.next\n",
    "        fast = fast.next\n",
    "\n",
    "    return slow # The node where the cycle begins"
   ]
  },
  {
   "cell_type": "markdown",
   "id": "45c24e43",
   "metadata": {},
   "source": [
    "***\n",
    "### 2. **Finding Middle of Linked List**:\n",
    "- **Problem (876)**: Given the head of a linked list, return the middle node. If there are two middle nodes, return the second middle node. (Length of LL unknown)\n",
    "- **Approach**: When the fast pointer reaches the end, return the slow pointer (middle node).\n",
    "- **Time Complexity**: O(N) — Single traversal through the list.\n",
    "- **Space Complexity**: O(1) — No extra space required.\n",
    "\n",
    "**Python Code:**"
   ]
  },
  {
   "cell_type": "code",
   "execution_count": 3,
   "id": "bf39ad81",
   "metadata": {},
   "outputs": [],
   "source": [
    "def middleNode(head):\n",
    "    slow, fast = head, head\n",
    "\n",
    "    while fast and fast.next:\n",
    "        slow = slow.next\n",
    "        fast = fast.next.next\n",
    "\n",
    "    return slow  # slow will be at the middle"
   ]
  },
  {
   "cell_type": "markdown",
   "id": "25b06900",
   "metadata": {},
   "source": [
    "3. **Check if a Linked List is a Palindrome (234)**:\n",
    "- **Scenario**: Check if a linked list is a palindrome.\n",
    "- **Approach**: Use the fast and slow pointers to find the middle. Then reverse the second half of the list starting from the middle. Compare the 1st half with the reversed 2nd half. \n",
    "- **Time Complexity**: O(N), where N is the number of nodes in the list. We traverse the list multiple times (find the middle, reverse the second half, compare).\n",
    "- **Space Complexity**: O(1)"
   ]
  },
  {
   "cell_type": "code",
   "execution_count": null,
   "id": "6aa76a78",
   "metadata": {},
   "outputs": [],
   "source": [
    "class ListNode:\n",
    "    def __init__(self, val=0, next=None):\n",
    "        self.val = val\n",
    "        self.next = next\n",
    "\n",
    "def isPalindrome(head):\n",
    "    if not head or not head.next:\n",
    "        return True\n",
    "\n",
    "    # Step 1: Find the middle of the list\n",
    "    slow, fast = head, head\n",
    "    while fast and fast.next:\n",
    "        slow = slow.next\n",
    "        fast = fast.next.next\n",
    "\n",
    "    # Step 2: Reverse the second half of the list\n",
    "    prev = None\n",
    "    while slow:\n",
    "        next_node = slow.next\n",
    "        slow.next = prev\n",
    "        prev = slow\n",
    "        slow = next_node\n",
    "\n",
    "    # Step 3: Compare the first and second half\n",
    "    first_half, second_half = head, prev\n",
    "    while second_half:\n",
    "        if first_half.val != second_half.val:\n",
    "            return False\n",
    "        first_half = first_half.next\n",
    "        second_half = second_half.next\n",
    "\n",
    "    return True"
   ]
  },
  {
   "cell_type": "markdown",
   "id": "f0a52795",
   "metadata": {},
   "source": [
    "#### 4.Rearranging Linked List:\n",
    "- **Scenario**: Problems like alternating rearrangements or folding linked lists.\n",
    "- **Approach**: Fast pointer reaches the end while the slow pointer reaches the middle. Then manipulate both halves.\n",
    "***\n",
    "- **Problem: Reorder List(143)**: Given the head of a singly linked list, rearrange the list such that: The first element is followed by the last, then the second element is followed by the second-to-last, and so on.\n",
    "- Modify the list in place.\n",
    "- **Time Complexity**: O(N), N=number of nodes in the list. We traverse the list several times (finding the middle, reversing the second half, merging).\n",
    "- **Space Complexity**: O(1)\n",
    "\n",
    "- **Pseudocode**:\n",
    "1. **Find the middle** of the list using fast and slow pointers.\n",
    "2. **Reverse the second half** of the list starting from the middle → allows us to merge the first half (starting from the head) and the second half (starting from the tail).\n",
    "3. **Merge the two halves** by alternating nodes from the first and second halves."
   ]
  },
  {
   "cell_type": "code",
   "execution_count": null,
   "id": "9e6d508f",
   "metadata": {},
   "outputs": [],
   "source": [
    "def reorderList(head):\n",
    "    if not head or not head.next:\n",
    "        return\n",
    "\n",
    "    # Step 1: Find the middle of the list\n",
    "    slow, fast = head, head\n",
    "    while fast and fast.next:\n",
    "        slow = slow.next\n",
    "        fast = fast.next.next\n",
    "\n",
    "    # Step 2: Reverse the second half of the list\n",
    "    prev, curr = None, slow\n",
    "    while curr:\n",
    "        next_node = curr.next\n",
    "        curr.next = prev\n",
    "        prev = curr\n",
    "        curr = next_node\n",
    "\n",
    "    # Step 3: Merge the two halves\n",
    "    first_half, second_half = head, prev\n",
    "    while second_half.next:\n",
    "        # Save next nodes\n",
    "        temp1, temp2 = first_half.next, second_half.next\n",
    "\n",
    "        # Reorder nodes\n",
    "        first_half.next = second_half\n",
    "        second_half.next = temp1\n",
    "\n",
    "        # Move to the next nodes\n",
    "        first_half = temp1\n",
    "        second_half = temp2"
   ]
  },
  {
   "cell_type": "markdown",
   "id": "2bbe23eb",
   "metadata": {},
   "source": [
    "### 5. **Problem: Remove Duplicates from Sorted Array**\n",
    "\n",
    "- **Description**: Given a sorted array, remove the duplicates in place such that each element appears only once.\n",
    "- **Pseudocode**:\n",
    "    - `slow`:Flags the end of the new, non-duplicate array. It only moves when a unique element is found. \n",
    "    - `fast`: Scans the original array to find the next unique element\n",
    "    - As `fast` moves, whenever a new element is encountered (different from `nums[slow]`), increment `slow` and copy `nums[fast]` to `nums[slow]`.\n",
    "    - Return `slow + 1` as the length of the modified array.\n",
    "- **Time Complexity**: O(N) ->array traversed once by fast\n",
    "- **Space Complexity**: O(1) ->in-place\n",
    "\n",
    "**Python Solution**:"
   ]
  },
  {
   "cell_type": "code",
   "execution_count": null,
   "id": "f569d22a",
   "metadata": {},
   "outputs": [],
   "source": [
    "def removeDuplicates(nums: 'List[int]') -> int:\n",
    "    if not nums:\n",
    "        return 0\n",
    "    slow = 0\n",
    "    for fast in range(1, len(nums)): # fast pointer starts from 2nd element\n",
    "        if nums[slow] != nums[fast]: # when a new element is found\n",
    "            slow += 1 # move the slow pointer forward\n",
    "            nums[slow] = nums[fast] # update the position of unique elements\n",
    "    return slow + 1 # length of the array with unique elements"
   ]
  },
  {
   "cell_type": "markdown",
   "id": "c09b42d0",
   "metadata": {},
   "source": [
    "### 6. **Problem: Remove Nth Node From End Of List**\n",
    "- **Description**: Given the head of a singly linked list, reverse the list, and return the reversed list.\n",
    "- Instead of traversing once to determine length and the position of node to be deleted, then traverse again to delete; the fast and slow pointers technique allows you to locate this node in a single pass.\n",
    "- **Pseudocode**:\n",
    "    - Set both fast & slow = head\n",
    "    - `fast` is moved `n` steps ahead first, then both `fast`  and  `slow` are moved simultaneously until `fast`reaches the end. This way, `slow` is positioned just before the node that needs to be removed. \n",
    "    - Remove Node by skipping it using `slow.next = slow.next.next`\n",
    "    - A dummy node is used to handle edge cases like when the list has only one element or when the node to be removed is the first node.\n",
    "- Time Complexity: **O(L)**, **L**=len(linked list) (single traversal).\n",
    "- Space Complexity: **O(1)**"
   ]
  },
  {
   "cell_type": "code",
   "execution_count": 4,
   "id": "9ea2f5ab",
   "metadata": {},
   "outputs": [],
   "source": [
    "def removeNthFromEnd(head: ListNode, n: int) -> ListNode:    \n",
    "    dummy = ListNode(0) # dummy node to handle edge cases \n",
    "    dummy.next = head\n",
    "    slow, fast = dummy, dummy\n",
    "    \n",
    "    for _ in range(n): # Move fast pointer n steps ahead\n",
    "        fast = fast.next\n",
    "    \n",
    "    # Move both pointers until fast reaches the end\n",
    "    while fast.next:\n",
    "        slow, fast = slow.next, fast.next\n",
    "    \n",
    "    slow.next = slow.next.next # Skip the N-th node from the end\n",
    "     \n",
    "    return dummy.next # Return the head of the modified list"
   ]
  },
  {
   "cell_type": "code",
   "execution_count": null,
   "id": "26a0efc8",
   "metadata": {},
   "outputs": [],
   "source": []
  }
 ],
 "metadata": {
  "kernelspec": {
   "display_name": "Python 3 (ipykernel)",
   "language": "python",
   "name": "python3"
  },
  "language_info": {
   "codemirror_mode": {
    "name": "ipython",
    "version": 3
   },
   "file_extension": ".py",
   "mimetype": "text/x-python",
   "name": "python",
   "nbconvert_exporter": "python",
   "pygments_lexer": "ipython3",
   "version": "3.11.3"
  }
 },
 "nbformat": 4,
 "nbformat_minor": 5
}
