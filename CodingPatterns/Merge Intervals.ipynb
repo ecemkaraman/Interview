{
 "cells": [
  {
   "cell_type": "markdown",
   "id": "f12db5f6",
   "metadata": {},
   "source": [
    "## 4. Merge Intervals:\n",
    "### **Data Structures:**\n",
    "\n",
    "- Typically used with arrays (lists) of intervals, where each interval is a sub-array or tuple.\n",
    "- Sorting is often a key step.\n",
    "\n",
    "### **Pattern Logic:**\n",
    "\n",
    "- Intervals often overlap or need to be merged. The pattern focuses on either merging intervals or identifying intersections.\n",
    "- Problems in this pattern usually involve operations based on the start and end values of the intervals.\n",
    "\n",
    "### **How to Recognize:**\n",
    "\n",
    "- Look for problems dealing with intervals, ranges, or appointments.\n",
    "- Keywords: merge, intervals, overlap, intersection.\n",
    "\n",
    "- **Smart interview comment:** \"The Merge Intervals pattern often starts with sorting the intervals and then efficiently identifying overlaps using a single pass through the list. This is common in problems where ranges or time intervals need to be merged or managed.\"\n",
    "- **Key Insight:** Sorting intervals by start time is crucial, as it allows merging adjacent intervals in one pass. Sorting dominates the time complexity.\n",
    "- **Trade-offs:** This pattern typically involves sorting, which costs `O(N log N)`. The merge operation is linear, which balances it out, but sorting can't be avoided if intervals need to be in order.\n",
    "\n",
    "## **Problem 1: Merge Intervals**\n",
    "- **Problem:** Given a collection of intervals, merge all overlapping intervals.\n",
    "\n",
    "### Pseudocode:\n",
    "\n",
    "1. Sort the intervals based on their start time.\n",
    "2. Initialize an empty list, **`merged`**, to store the merged intervals.\n",
    "3. Iterate through the sorted intervals:\n",
    "    - If the current interval overlaps with the last interval in **`merged`**, merge them by updating the end time of the last interval.\n",
    "    - Otherwise, add the current interval to **`merged`**.\n",
    "4. Return the **`merged`** list.\n",
    "\n",
    "### Questions to Ask:\n",
    "\n",
    "- Can the intervals have negative start and end times?\n",
    "- Can the intervals have overlapping ranges?\n",
    "\n",
    "- **Time Complexity:** `O(N log N)` (Sorting: `O(N log N)`, Merging: `O(N)`)\n",
    "- **Space Complexity:** `O(N)` for the result list->worst case=all intervals are non-overlapping and need to be merged\n"
   ]
  },
  {
   "cell_type": "markdown",
   "id": "eccf5b64",
   "metadata": {},
   "source": [
    "#### Python Solution:"
   ]
  },
  {
   "cell_type": "code",
   "execution_count": null,
   "id": "dacacb2a",
   "metadata": {},
   "outputs": [],
   "source": [
    "def merge_intervals(intervals):\n",
    "    if not intervals:\n",
    "        return []\n",
    "\n",
    "    # Sort intervals by their start time\n",
    "    intervals.sort(key=lambda x: x[0])\n",
    "    merged = [intervals[0]]\n",
    "\n",
    "    for i in range(1, len(intervals)):\n",
    "        # If intervals overlap, merge them\n",
    "        if merged[-1][1] >= intervals[i][0]:\n",
    "            merged[-1][1] = max(merged[-1][1], intervals[i][1])\n",
    "        else:\n",
    "            merged.append(intervals[i])\n",
    "\n",
    "    return merged"
   ]
  },
  {
   "cell_type": "markdown",
   "id": "06928e2b",
   "metadata": {},
   "source": [
    "## **Problem 2: Insert Interval**\n",
    "- **Problem:** Given a set of non-overlapping intervals and a new interval, insert the new interval into the list (merge if necessary).\n",
    "\n",
    "### Pseudocode:\n",
    "\n",
    "1. Initialize an empty list, **`merged`**, to store the merged intervals.\n",
    "2. Iterate through the intervals:\n",
    "    - If the current interval ends before the new interval starts, add it to **`merged`**.\n",
    "    - If the current interval starts after the new interval ends, add the new interval to **`merged`** and update it to the current interval.\n",
    "    - Otherwise, merge the intervals by updating the start and end times of the new interval to cover both.\n",
    "3. Return the **`merged`** list.\n",
    "\n",
    "### Questions to Ask:\n",
    "\n",
    "- Can the intervals have negative start and end times?\n",
    "- Can the intervals have overlapping ranges?\n",
    "\n",
    "<span style=\"color:orange; font-weight=800;\">Time Complexity - </span><span style=\"color:#e20421;\">O(N), where N is the number of intervals in the **`intervals`** array.</span>\n",
    "<span style=\"color:orange; font-weight=800;\">Space Complexity - </span><span style=\"color:#e20421;\"> O(N) in the worst case when all intervals need to be merged.</span>"
   ]
  },
  {
   "cell_type": "markdown",
   "id": "efeccba5",
   "metadata": {},
   "source": [
    "### Python Solution:"
   ]
  },
  {
   "cell_type": "code",
   "execution_count": null,
   "id": "5d50ad66",
   "metadata": {},
   "outputs": [],
   "source": [
    "def insert_interval(intervals, new_interval):\n",
    "    merged = []\n",
    "    for interval in intervals:\n",
    "        if interval[1] < new_interval[0]:\n",
    "            merged.append(interval)\n",
    "        elif new_interval[1] < interval[0]:\n",
    "            merged.append(new_interval)\n",
    "            new_interval = interval\n",
    "        else:\n",
    "            new_interval[0] = min(new_interval[0], interval[0])\n",
    "            new_interval[1] = max(new_interval[1], interval[1])\n",
    "\n",
    "    merged.append(new_interval)\n",
    "    return merged"
   ]
  },
  {
   "cell_type": "markdown",
   "id": "15325c7c",
   "metadata": {},
   "source": [
    "### **3. Meeting Rooms (LeetCode 252)**\n",
    "\n",
    "- **Problem:** Given an array of intervals where each interval represents a meeting time, determine if a person can attend all meetings (no overlapping meetings).\n",
    "\n",
    "### **Steps:**\n",
    "\n",
    "1. Sort intervals by start time.\n",
    "2. Traverse intervals and check for any overlap (if the end of one meeting is greater than the start of the next).\n",
    "\n",
    " **Time Complexity:**\n",
    "\n",
    "- Sorting: `O(N log N)`\n",
    "- Checking overlap: `O(N)`\n",
    "- Total: `O(N log N)`\n",
    "\n",
    " **Space Complexity:** `O(1)`"
   ]
  },
  {
   "cell_type": "code",
   "execution_count": null,
   "id": "294cafca",
   "metadata": {},
   "outputs": [],
   "source": [
    "def can_attend_meetings(intervals):\n",
    "    intervals.sort(key=lambda x: x[0])\n",
    "    for i in range(1, len(intervals)):\n",
    "        if intervals[i][0] < intervals[i-1][1]:\n",
    "            return False\n",
    "    return True"
   ]
  },
  {
   "cell_type": "markdown",
   "id": "4cabcb6e",
   "metadata": {},
   "source": [
    "### **4. Meeting Rooms II (LeetCode 253)**\n",
    "\n",
    "- **Problem:** Find the minimum number of meeting rooms required to hold all meetings.\n",
    "\n",
    "### **Steps:**\n",
    "\n",
    "1. Sort intervals by start and end times separately.\n",
    "2. Use two pointers to track ongoing meetings and room allocation.\n",
    "\n",
    " **Time Complexity:**\n",
    "\n",
    "- Sorting: `O(N log N)`\n",
    "- Traversal: `O(N)`\n",
    "- Total: `O(N log N)`\n",
    "\n",
    " **Space Complexity:** `O(N)` for storing the intervals."
   ]
  },
  {
   "cell_type": "code",
   "execution_count": null,
   "id": "ed42da86",
   "metadata": {},
   "outputs": [],
   "source": [
    "def min_meeting_rooms(intervals):\n",
    "    if not intervals:\n",
    "        return 0\n",
    "\n",
    "    start_times = sorted([i[0] for i in intervals])\n",
    "    end_times = sorted([i[1] for i in intervals])\n",
    "\n",
    "    start_pointer = 0\n",
    "    end_pointer = 0\n",
    "    rooms = 0\n",
    "    max_rooms = 0\n",
    "\n",
    "    while start_pointer < len(intervals):\n",
    "        if start_times[start_pointer] < end_times[end_pointer]:\n",
    "            rooms += 1\n",
    "            start_pointer += 1\n",
    "        else:\n",
    "            rooms -= 1\n",
    "            end_pointer += 1\n",
    "        max_rooms = max(max_rooms, rooms)\n",
    "\n",
    "    return max_rooms"
   ]
  },
  {
   "cell_type": "markdown",
   "id": "86603bbb",
   "metadata": {},
   "source": [
    "### **5. Interval List Intersections (LeetCode 986)**\n",
    "\n",
    "- **Problem:** Given two lists of intervals, find the intersections of these intervals.\n",
    "\n",
    "### **Steps:**\n",
    "\n",
    "1. Traverse both interval lists using two pointers.\n",
    "2. Check if the intervals overlap and if so, append the intersection to the result.\n",
    "3. Move the pointer of the interval that ends first.\n",
    "\n",
    "### **Time Complexity:**\n",
    "\n",
    "- `O(N + M)` where `N` and `M` are the lengths of the two lists.\n",
    "\n",
    "### **Space Complexity:**\n",
    "\n",
    "- `O(N + M)` for storing the result."
   ]
  },
  {
   "cell_type": "code",
   "execution_count": null,
   "id": "53dbe486",
   "metadata": {},
   "outputs": [],
   "source": [
    "def interval_intersection(A, B):\n",
    "    i, j = 0, 0\n",
    "    result = []\n",
    "\n",
    "    while i < len(A) and j < len(B):\n",
    "        # Find the overlap between A[i] and B[j]\n",
    "        start = max(A[i][0], B[j][0])\n",
    "        end = min(A[i][1], B[j][1])\n",
    "\n",
    "        if start <= end:\n",
    "            result.append([start, end])\n",
    "\n",
    "        # Move the pointer for the interval that ends first\n",
    "        if A[i][1] < B[j][1]:\n",
    "            i += 1\n",
    "        else:\n",
    "            j += 1\n",
    "\n",
    "    return result"
   ]
  }
 ],
 "metadata": {
  "kernelspec": {
   "display_name": "Python 3 (ipykernel)",
   "language": "python",
   "name": "python3"
  },
  "language_info": {
   "codemirror_mode": {
    "name": "ipython",
    "version": 3
   },
   "file_extension": ".py",
   "mimetype": "text/x-python",
   "name": "python",
   "nbconvert_exporter": "python",
   "pygments_lexer": "ipython3",
   "version": "3.11.3"
  }
 },
 "nbformat": 4,
 "nbformat_minor": 5
}
