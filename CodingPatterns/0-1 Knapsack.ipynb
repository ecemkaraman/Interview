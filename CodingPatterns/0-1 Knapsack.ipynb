{
 "cells": [
  {
   "cell_type": "markdown",
   "id": "f0d3d4d6",
   "metadata": {},
   "source": [
    "### 0/1 Knapsack Pattern Overview\n",
    "\n",
    "The **0/1 Knapsack** pattern is one of the most fundamental dynamic programming patterns and involves making decisions where each item can either be selected (1) or not selected (0). It’s commonly used when we need to make a selection among items with different weights and values, subject to certain constraints.\n",
    "\n",
    "---\n",
    "\n",
    "### **Pattern Logic:**\n",
    "\n",
    "The **0/1 Knapsack** problem is about finding the maximum value you can carry in a knapsack of fixed capacity, where you can either include or exclude each item. This leads to subproblems, making it a classic example of dynamic programming.\n",
    "\n",
    "### **How to Recognize:**\n",
    "\n",
    "- You are given items with values and weights, and you need to choose a subset of these items such that their combined weight does not exceed a specified limit (capacity).\n",
    "- The problem asks for the \"maximum profit,\" \"maximum value,\" or something similar, while respecting a given constraint.\n",
    "- The problem involves making choices for each item (include/exclude) while maintaining a constraint like weight or capacity."
   ]
  },
  {
   "cell_type": "markdown",
   "id": "b96e9394",
   "metadata": {},
   "source": [
    "***\n",
    "### **Steps in the 0/1 Knapsack Pattern:**\n",
    "\n",
    "1. **Define Subproblem:**\n",
    "    - Typically, define a 2D DP table (`dp[i][c]`) where `i` is the number of items considered and `c` is the current capacity.\n",
    "    - Each entry represents the maximum value achievable by considering the first `i` items with a capacity of `c`.\n",
    "2. **Recursive Transition:**\n",
    "    - If the current item’s weight exceeds the current capacity, you cannot include it: `dp[i][c] = dp[i-1][c]`.\n",
    "    - Otherwise, choose the maximum between including or excluding the current item:\n",
    "        - Include the current item: `value[i] + dp[i-1][c - weight[i]]`\n",
    "        - Exclude the current item: `dp[i-1][c]`\n",
    "3. **Initialize DP Table:**\n",
    "    - Set all values to 0 where no items are considered or the capacity is 0, as the maximum value in both cases will always be 0.\n",
    "4. **Iterate Over All Items and Capacities:**\n",
    "    - Loop through all items and all capacities to fill the DP table.\n",
    "5. **Return Result:**\n",
    "    - The final answer will be in `dp[n][capacity]`, where `n` is the total number of items and `capacity` is the given capacity of the knapsack.\n",
    "\n",
    "### **Time Complexity:**\n",
    "\n",
    "- The time complexity is `O(n * C)`, where `n` is the number of items and `C` is the capacity of the knapsack.\n",
    "\n",
    "### **Space Complexity:**\n",
    "\n",
    "- The space complexity is `O(n * C)` for the DP table, but it can be optimized to `O(C)` using a 1D array.\n",
    "***\n",
    "### Template for the 0/1 Knapsack Pattern:"
   ]
  },
  {
   "cell_type": "code",
   "execution_count": null,
   "id": "24ffe068",
   "metadata": {},
   "outputs": [],
   "source": [
    "def knapsack(values, weights, capacity):\n",
    "    n = len(values)\n",
    "    dp = [[0 for _ in range(capacity + 1)] for _ in range(n + 1)]\n",
    "\n",
    "    for i in range(1, n + 1):\n",
    "        for c in range(1, capacity + 1):\n",
    "            if weights[i - 1] <= c:\n",
    "                dp[i][c] = max(values[i - 1] + dp[i - 1][c - weights[i - 1]], dp[i - 1][c])\n",
    "            else:\n",
    "                dp[i][c] = dp[i - 1][c]\n",
    "\n",
    "    return dp[n][capacity]\n"
   ]
  },
  {
   "cell_type": "markdown",
   "id": "695b40ca",
   "metadata": {},
   "source": [
    "### **Core Variations and Techniques:**\n",
    "\n",
    "1. **Unbounded Knapsack**: Items can be selected multiple times (e.g., coin change problems). Here, the only change is allowing multiple selections of an item.\n",
    "2. **Subset Sum Problems**: These are direct applications of the 0/1 knapsack where you're checking if a subset with a given sum exists.\n",
    "3. **Space Optimization**: By iterating in reverse for capacity, you can reduce space complexity to `O(C)` instead of `O(n * C)`.\n",
    "\n",
    "---\n",
    "\n",
    "### **Interview Breakdown and Smart Comments:**\n",
    "\n",
    "1. **Dynamic Programming Insight**: \"The core insight is breaking the problem down into smaller subproblems. For each item, we either include it in the knapsack or exclude it, based on the total value and the capacity remaining.\"\n",
    "2. **Trade-off Considerations**: \"The problem can also be solved using recursion with memoization, but the bottom-up DP approach is generally more efficient in terms of both time and space.\"\n",
    "3. **Time Complexity**: \"The time complexity is `O(n * C)`, where `n` is the number of items and `C` is the knapsack capacity. This is optimal given the need to explore all possible subsets of items.\"\n",
    "4. **Space Complexity**: \"While the DP table uses `O(n * C)` space, this can be reduced to `O(C)` using a 1D array that gets updated in reverse order.\""
   ]
  },
  {
   "cell_type": "markdown",
   "id": "6fdaedf2",
   "metadata": {},
   "source": [
    "***\n",
    "### **1. 0/1 Knapsack Problem**\n",
    "\n",
    "### **Problem:**\n",
    "\n",
    "Given a set of items with specific weights and values, and a knapsack of a fixed capacity, find the maximum total value you can put in the knapsack without exceeding its capacity.\n",
    "\n",
    "### **Steps:**\n",
    "\n",
    "1. Create a 2D DP table where `dp[i][c]` represents the maximum value we can obtain using the first `i` items with capacity `c`.\n",
    "2. If the current item’s weight exceeds the capacity, exclude it. Otherwise, decide to include or exclude the item based on which option gives a higher value.\n",
    "3. After processing all items, return the value in `dp[n][capacity]`.\n",
    "\n",
    "### **Interview Comments:**\n",
    "\n",
    "- **DP Table Construction:** \"We use a dynamic programming table to keep track of the maximum value for each item and capacity combination. Each entry in the table represents whether we include the current item or not.\"\n",
    "- **Optimization:** \"We could optimize the space complexity to `O(C)` by using a 1D array and updating it in reverse order.\"\n",
    "- **Base Case:** \"The base case occurs when no items are considered or the capacity is zero, resulting in zero value.\""
   ]
  },
  {
   "cell_type": "code",
   "execution_count": null,
   "id": "7ce600d7",
   "metadata": {},
   "outputs": [],
   "source": [
    "def knapsack(weights, values, capacity):\n",
    "    n = len(values)\n",
    "    dp = [[0 for _ in range(capacity + 1)] for _ in range(n + 1)]\n",
    "\n",
    "    for i in range(1, n + 1):\n",
    "        for c in range(1, capacity + 1):\n",
    "            if weights[i - 1] <= c:\n",
    "                dp[i][c] = max(values[i - 1] + dp[i - 1][c - weights[i - 1]], dp[i - 1][c])\n",
    "            else:\n",
    "                dp[i][c] = dp[i - 1][c]\n",
    "\n",
    "    return dp[n][capacity]\n"
   ]
  },
  {
   "cell_type": "markdown",
   "id": "47d46c32",
   "metadata": {},
   "source": [
    "### **2. Partition Equal Subset Sum (LeetCode 416)**\n",
    "\n",
    "### **Problem:**\n",
    "\n",
    "Given a non-empty array, determine if it can be partitioned into two subsets such that the sum of elements in both subsets is equal.\n",
    "\n",
    "### **Steps:**\n",
    "\n",
    "1. The problem boils down to finding a subset whose sum is equal to `total_sum // 2`.\n",
    "2. Use a boolean DP table where `dp[i][c]` represents whether it's possible to form a subset with sum `c` using the first `i` elements.\n",
    "3. Similar to the knapsack problem, at each step, you either include or exclude the current element and check if the subset sum can be achieved.\n",
    "\n",
    "### **Interview Comments:**\n",
    "\n",
    "- **Subset Sum Reduction:** \"This problem is a variation of the 0/1 Knapsack problem. We need to find a subset whose sum is equal to half the total sum of the array, making the solution scalable by reducing it to a DP subset sum problem.\"\n",
    "- **Space Optimization:** \"Here, we use a 1D array to track whether a subset with a specific sum can be formed, leading to `O(n)` space complexity.\""
   ]
  },
  {
   "cell_type": "code",
   "execution_count": null,
   "id": "1867f164",
   "metadata": {},
   "outputs": [],
   "source": [
    "def canPartition(nums):\n",
    "    total_sum = sum(nums)\n",
    "    if total_sum % 2 != 0:\n",
    "        return False\n",
    "\n",
    "    subset_sum = total_sum // 2\n",
    "    dp = [False] * (subset_sum + 1)\n",
    "    dp[0] = True\n",
    "\n",
    "    for num in nums:\n",
    "        for c in range(subset_sum, num - 1, -1):\n",
    "            dp[c] = dp[c] or dp[c - num]\n",
    "\n",
    "    return dp[subset_sum]\n"
   ]
  }
 ],
 "metadata": {
  "kernelspec": {
   "display_name": "Python 3 (ipykernel)",
   "language": "python",
   "name": "python3"
  },
  "language_info": {
   "codemirror_mode": {
    "name": "ipython",
    "version": 3
   },
   "file_extension": ".py",
   "mimetype": "text/x-python",
   "name": "python",
   "nbconvert_exporter": "python",
   "pygments_lexer": "ipython3",
   "version": "3.11.3"
  }
 },
 "nbformat": 4,
 "nbformat_minor": 5
}
