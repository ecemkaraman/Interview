{
 "cells": [
  {
   "cell_type": "markdown",
   "id": "84e4e28c",
   "metadata": {},
   "source": [
    "## 5. Cyclic Sort:\n",
    "\n",
    "### **Data Structures:**\n",
    "\n",
    "- Arrays, typically with elements in the range from `1` to `n`, where `n` is the length of the array.\n",
    "- The goal is often to place each number in its correct index.\n",
    "\n",
    "### **Pattern Logic:**\n",
    "\n",
    "- The pattern focuses on efficiently sorting the array when numbers are in a specific range, i.e., between `1` and `n`.\n",
    "- Each number should be at its correct index, and we achieve this by cyclically swapping numbers into their correct positions.\n",
    "\n",
    "### **How to Recognize:**\n",
    "\n",
    "- Look for problems where the input is a range from `1` to `n` (or similar) and numbers are misplaced.\n",
    "- Keywords: sort, missing, duplicate, swap, range `1 to n`.\n",
    "\n",
    "- **Smart interview comment:** \"Cyclic sort is useful when dealing with arrays containing numbers in a specific range (like `1 to n`). It allows sorting in-place by swapping elements into their correct positions, making it efficient in both time and space complexity.\"\n",
    "- **Key Insight:** When the input is constrained to a range of integers from `1` to `n`, cyclic sort offers an `O(N)` time solution. It exploits the properties of the range and avoids unnecessary comparisons.\n",
    "- **Variations:** Many of these problems can be solved using other techniques, like using sets or extra arrays, but cyclic sort is often the most optimal approach in terms of space complexity.\n",
    "***\n",
    "\n",
    "## **Problem 1: Find the Missing Number (268)**\n",
    "- **Problem:** Given an array containing `n` distinct numbers in the range `[0, n]`, find the one missing number.\n",
    "\n",
    "### **Steps:**\n",
    "\n",
    "1. Use cyclic sort logic, but adjust for the range `[0, n]` where some number might be missing.\n",
    "2. After sorting, the index where the number does not match the value indicates the missing number.\n",
    "3. Return the missing number.\n",
    "\n",
    "- **Time Complexity:**`O(N)`\n",
    "\n",
    "- **Space Complexity:**`O(1)`\n",
    "\n",
    "### Questions to Ask:\n",
    "\n",
    "- Can the input array have negative integers?\n",
    "- Can the input array have duplicate elements?\n",
    "- Will there always be exactly one missing number?"
   ]
  },
  {
   "cell_type": "code",
   "execution_count": null,
   "id": "7419fe9e",
   "metadata": {},
   "outputs": [],
   "source": [
    "def missing_number(nums):\n",
    "    i = 0\n",
    "    while i < len(nums):\n",
    "        if nums[i] < len(nums) and nums[i] != nums[nums[i]]:\n",
    "            nums[nums[i]], nums[i] = nums[i], nums[nums[i]]\n",
    "        else:\n",
    "            i += 1\n",
    "\n",
    "    for i in range(len(nums)):\n",
    "        if nums[i] != i:\n",
    "            return i\n",
    "\n",
    "    return len(nums)"
   ]
  },
  {
   "cell_type": "markdown",
   "id": "fd797367",
   "metadata": {},
   "source": [
    "## **Find All Numbers Disappeared in an Array (LeetCode 448)**\n",
    "\n",
    "- **Problem:** Given an array of integers where `1 ≤ a[i] ≤ n` (n = size of array), find all the numbers in the range `[1, n]` that do not appear in the array.\n",
    "\n",
    "### **Steps:**\n",
    "\n",
    "1. Sort the array using cyclic sort.\n",
    "2. Any index where the value doesn't match the expected number is a missing number.\n",
    "3. Return the list of missing numbers.\n",
    "\n",
    "- **Time Complexity:**`O(N)`\n",
    "- **Space Complexity:** `O(1)` (ignoring the result list).\n",
    "\n",
    "\n",
    "### Questions to Ask:\n",
    "\n",
    "- Can the input array have negative integers?\n",
    "- Can the input array have duplicate elements?\n",
    "- Will there be more than one missing number?"
   ]
  },
  {
   "cell_type": "code",
   "execution_count": null,
   "id": "a8a0b02a",
   "metadata": {},
   "outputs": [],
   "source": [
    "def find_disappeared_numbers(nums):\n",
    "    i = 0\n",
    "    while i < len(nums):\n",
    "        correct_index = nums[i] - 1\n",
    "        if nums[i] != nums[correct_index]:\n",
    "            nums[i], nums[correct_index] = nums[correct_index], nums[i]\n",
    "        else:\n",
    "            i += 1\n",
    "\n",
    "    result = []\n",
    "    for i in range(len(nums)):\n",
    "        if nums[i] != i + 1:\n",
    "            result.append(i + 1)\n",
    "\n",
    "    return result"
   ]
  },
  {
   "cell_type": "markdown",
   "id": "29396108",
   "metadata": {},
   "source": [
    "## **Cyclic Sort (Basic)**\n",
    "\n",
    "- **Problem:** Given an array of length `n`, containing numbers from `1` to `n`, sort the array **in-place**.\n",
    "\n",
    "### **Steps:**\n",
    "\n",
    "1. Traverse the array and swap each number to its correct index.\n",
    "2. If a number is already in its correct index, move to the next.\n",
    "3. Continue until the array is fully sorted.\n",
    "\n",
    "- **Time Complexity:**`O(N)` since each number is swapped at most once.\n",
    "- **Space Complexity:**`O(1)` because sorting is done in place."
   ]
  },
  {
   "cell_type": "code",
   "execution_count": null,
   "id": "9f35e32a",
   "metadata": {},
   "outputs": [],
   "source": [
    "def cyclic_sort(nums):\n",
    "    i = 0\n",
    "    while i < len(nums):\n",
    "        correct_index = nums[i] - 1\n",
    "        if nums[i] != nums[correct_index]:\n",
    "            nums[i], nums[correct_index] = nums[correct_index], nums[i]\n",
    "        else:\n",
    "            i += 1\n",
    "    return nums"
   ]
  },
  {
   "cell_type": "markdown",
   "id": "16730775",
   "metadata": {},
   "source": [
    "## **Find All Duplicates in an Array (LeetCode 442)**\n",
    "\n",
    "- **Problem:** Given an integer array of length `n` where the elements are between `1` and `n`, find all elements that appear twice.\n",
    "\n",
    "### **Steps:**\n",
    "\n",
    "1. Sort the array using cyclic sort logic.\n",
    "2. Traverse the sorted array and check for indices where the element doesn't match its correct position. These elements are duplicates.\n",
    "\n",
    "- **Time Complexity:**`O(N)`\n",
    "- **Space Complexity:**`O(1)` (ignoring the result list)."
   ]
  },
  {
   "cell_type": "code",
   "execution_count": null,
   "id": "b267c562",
   "metadata": {},
   "outputs": [],
   "source": [
    "def find_duplicates(nums):\n",
    "    i = 0\n",
    "    while i < len(nums):\n",
    "        if nums[i] != nums[nums[i] - 1]:\n",
    "            nums[i], nums[nums[i] - 1] = nums[nums[i] - 1], nums[i]\n",
    "        else:\n",
    "            i += 1\n",
    "\n",
    "    duplicates = []\n",
    "    for i in range(len(nums)):\n",
    "        if nums[i] != i + 1:\n",
    "            duplicates.append(nums[i])\n",
    "\n",
    "    return duplicates\n"
   ]
  },
  {
   "cell_type": "markdown",
   "id": "84baf84d",
   "metadata": {},
   "source": [
    "## **Find the Duplicate Number (LeetCode 287)**\n",
    "\n",
    "- **Problem:** Given an array of integers containing `n + 1` integers where each integer is between `1` and `n`, find the duplicate number. You must **not modify** the array and must solve the problem using **constant extra space**.\n",
    "\n",
    "### **Note:**\n",
    "\n",
    "This problem can also be solved using **fast and slow pointers** (Floyd's cycle detection), which is a key variation of cyclic sort logic.\n",
    "\n",
    "### **Steps (Using Cyclic Sort):**\n",
    "\n",
    "1. Ignore the condition that the array cannot be modified.\n",
    "2. Use cyclic sort to place numbers at their correct positions.\n",
    "3. The first number that’s already in its correct position is the duplicate.\n",
    "\n",
    "- **Time Complexity:**`O(N)`\n",
    "- **Space Complexity:**`O(1)`"
   ]
  },
  {
   "cell_type": "code",
   "execution_count": null,
   "id": "934e6507",
   "metadata": {},
   "outputs": [],
   "source": [
    "def find_duplicate(nums):\n",
    "    i = 0\n",
    "    while i < len(nums):\n",
    "        if nums[i] != i + 1:\n",
    "            correct_index = nums[i] - 1\n",
    "            if nums[i] != nums[correct_index]:\n",
    "                nums[i], nums[correct_index] = nums[correct_index], nums[i]\n",
    "            else:\n",
    "                return nums[i]\n",
    "        else:\n",
    "            i += 1\n",
    "    return -1"
   ]
  }
 ],
 "metadata": {
  "kernelspec": {
   "display_name": "Python 3 (ipykernel)",
   "language": "python",
   "name": "python3"
  },
  "language_info": {
   "codemirror_mode": {
    "name": "ipython",
    "version": 3
   },
   "file_extension": ".py",
   "mimetype": "text/x-python",
   "name": "python",
   "nbconvert_exporter": "python",
   "pygments_lexer": "ipython3",
   "version": "3.11.3"
  }
 },
 "nbformat": 4,
 "nbformat_minor": 5
}
