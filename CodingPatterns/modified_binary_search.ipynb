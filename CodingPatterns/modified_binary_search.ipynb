{
 "cells": [
  {
   "cell_type": "markdown",
   "id": "7a813bfc",
   "metadata": {},
   "source": [
    "\n",
    "# Modified Binary Search Pattern Overview\n",
    "\n",
    "Binary Search is a foundational algorithm that can be adapted for various searching, sorting, and problem-solving scenarios. \n",
    "The \"Modified Binary Search\" pattern focuses on variations of the binary search technique to handle unique data structures \n",
    "and requirements, including rotated arrays, monotonic functions, peak finding, and more.\n",
    "\n",
    "This notebook outlines key variations, applicable LeetCode problems, how to recognize them, and Python code implementations.\n",
    "\n",
    "## Applicable Data Structures and Logic\n",
    "\n",
    "- **Arrays**: Both sorted and rotated sorted arrays.\n",
    "- **Monotonic Functions**: Functions that are either entirely non-increasing or non-decreasing.\n",
    "- **Matrix**: Binary search can be applied row-wise or column-wise.\n",
    "\n",
    "## Keywords to Recognize:\n",
    "\n",
    "- \"Find minimum\", \"find peak\", \"rotated\", \"sorted array\"\n",
    "- \"Search within range\", \"K closest\", \"smallest element larger\"\n",
    "- Data constraints indicating logarithmic time O(log n)\n",
    "\n",
    "## Common Problems:\n",
    "\n",
    "1. **Classic Binary Search**: Searching for a target element in a sorted array.\n",
    "2. **Search in Rotated Sorted Array**: Finding an element in an array that has been rotated at some pivot.\n",
    "3. **Find Minimum in Rotated Sorted Array**: Identifying the smallest element in a rotated sorted array.\n",
    "4. **Find Peak Element**: Finding a peak element in an unsorted array where a peak is defined as an element greater than its neighbors.\n",
    "5. **Kth Smallest Element in Sorted Matrix**: Searching within a sorted matrix row-wise and column-wise.\n"
   ]
  },
  {
   "cell_type": "markdown",
   "id": "dc45b56c",
   "metadata": {},
   "source": [
    "\n",
    "## 1. Classic Binary Search\n",
    "\n",
    "### Problem Definition:\n",
    "Search for a target element in a sorted array.\n",
    "\n",
    "### Steps:\n",
    "1. Start with two pointers `low` at 0 and `high` at the last index.\n",
    "2. Calculate the middle index `mid`.\n",
    "3. Compare the target with the middle element.\n",
    "   - If target equals `nums[mid]`, return `mid`.\n",
    "   - If target is less than `nums[mid]`, adjust `high` to `mid - 1`.\n",
    "   - If target is greater than `nums[mid]`, adjust `low` to `mid + 1`.\n",
    "4. Continue until `low` > `high`.\n",
    "\n",
    "### Time Complexity:\n",
    "- **Time**: O(log n)\n",
    "- **Space**: O(1)\n",
    "\n",
    "### Python Code:\n"
   ]
  },
  {
   "cell_type": "code",
   "execution_count": null,
   "id": "0b4fb1c5",
   "metadata": {},
   "outputs": [],
   "source": [
    "\n",
    "def binary_search(nums, target):\n",
    "    low, high = 0, len(nums) - 1\n",
    "    while low <= high:\n",
    "        mid = low + (high - low) // 2\n",
    "        if nums[mid] == target:\n",
    "            return mid\n",
    "        elif nums[mid] < target:\n",
    "            low = mid + 1\n",
    "        else:\n",
    "            high = mid - 1\n",
    "    return -1\n"
   ]
  },
  {
   "cell_type": "markdown",
   "id": "2d0e2ba9",
   "metadata": {},
   "source": [
    "\n",
    "## 2. Search in Rotated Sorted Array\n",
    "\n",
    "### Problem Definition:\n",
    "Given a rotated sorted array and a target value, return the index of the target if it exists. Otherwise, return -1.\n",
    "\n",
    "### Steps:\n",
    "1. Use a modified binary search to find the pivot where the rotation occurred.\n",
    "2. If `nums[mid]` is greater than `nums[low]`, the left half is sorted. Otherwise, the right half is sorted.\n",
    "3. Depending on the target's value relative to `nums[mid]`, adjust the search window.\n",
    "4. Repeat the process until the target is found or the window becomes invalid.\n",
    "\n",
    "### Time Complexity:\n",
    "- **Time**: O(log n)\n",
    "- **Space**: O(1)\n",
    "\n",
    "### Python Code:\n"
   ]
  },
  {
   "cell_type": "code",
   "execution_count": null,
   "id": "65d3127b",
   "metadata": {},
   "outputs": [],
   "source": [
    "\n",
    "def search_rotated_array(nums, target):\n",
    "    low, high = 0, len(nums) - 1\n",
    "    while low <= high:\n",
    "        mid = low + (high - low) // 2\n",
    "        if nums[mid] == target:\n",
    "            return mid\n",
    "        # Determine if the left half is sorted\n",
    "        if nums[low] <= nums[mid]:\n",
    "            if nums[low] <= target < nums[mid]:\n",
    "                high = mid - 1\n",
    "            else:\n",
    "                low = mid + 1\n",
    "        # Right half is sorted\n",
    "        else:\n",
    "            if nums[mid] < target <= nums[high]:\n",
    "                low = mid + 1\n",
    "            else:\n",
    "                high = mid - 1\n",
    "    return -1\n"
   ]
  },
  {
   "cell_type": "markdown",
   "id": "61386baf",
   "metadata": {},
   "source": [
    "\n",
    "## 3. Find Minimum in Rotated Sorted Array\n",
    "\n",
    "### Problem Definition:\n",
    "Given a rotated sorted array, find the minimum element.\n",
    "\n",
    "### Steps:\n",
    "1. Initialize `low` and `high` pointers.\n",
    "2. Compare the middle element with the `high` pointer.\n",
    "   - If `nums[mid]` is greater than `nums[high]`, search the right half.\n",
    "   - If `nums[mid]` is less than or equal to `nums[high]`, search the left half.\n",
    "3. When `low` equals `high`, the minimum element is found.\n",
    "\n",
    "### Time Complexity:\n",
    "- **Time**: O(log n)\n",
    "- **Space**: O(1)\n",
    "\n",
    "### Python Code:\n"
   ]
  },
  {
   "cell_type": "code",
   "execution_count": null,
   "id": "034adbe2",
   "metadata": {},
   "outputs": [],
   "source": [
    "\n",
    "def find_min(nums):\n",
    "    low, high = 0, len(nums) - 1\n",
    "    while low < high:\n",
    "        mid = low + (high - low) // 2\n",
    "        if nums[mid] > nums[high]:\n",
    "            low = mid + 1\n",
    "        else:\n",
    "            high = mid\n",
    "    return nums[low]\n"
   ]
  },
  {
   "cell_type": "markdown",
   "id": "9085e35c",
   "metadata": {},
   "source": [
    "\n",
    "## 4. Find Peak Element\n",
    "\n",
    "### Problem Definition:\n",
    "A peak element is an element that is greater than its neighbors. Given an array, find any peak element.\n",
    "\n",
    "### Steps:\n",
    "1. Use a binary search approach where `mid` is compared to its neighbors.\n",
    "2. If `nums[mid]` is greater than `nums[mid+1]`, search the left side.\n",
    "3. If `nums[mid]` is less than `nums[mid+1]`, search the right side.\n",
    "4. Continue until a peak is found.\n",
    "\n",
    "### Time Complexity:\n",
    "- **Time**: O(log n)\n",
    "- **Space**: O(1)\n",
    "\n",
    "### Python Code:\n"
   ]
  },
  {
   "cell_type": "code",
   "execution_count": null,
   "id": "1f510df3",
   "metadata": {},
   "outputs": [],
   "source": [
    "\n",
    "def find_peak(nums):\n",
    "    low, high = 0, len(nums) - 1\n",
    "    while low < high:\n",
    "        mid = low + (high - low) // 2\n",
    "        if nums[mid] > nums[mid + 1]:\n",
    "            high = mid\n",
    "        else:\n",
    "            low = mid + 1\n",
    "    return low\n"
   ]
  }
 ],
 "metadata": {
  "kernelspec": {
   "display_name": "Python 3 (ipykernel)",
   "language": "python",
   "name": "python3"
  },
  "language_info": {
   "codemirror_mode": {
    "name": "ipython",
    "version": 3
   },
   "file_extension": ".py",
   "mimetype": "text/x-python",
   "name": "python",
   "nbconvert_exporter": "python",
   "pygments_lexer": "ipython3",
   "version": "3.11.3"
  }
 },
 "nbformat": 4,
 "nbformat_minor": 5
}
