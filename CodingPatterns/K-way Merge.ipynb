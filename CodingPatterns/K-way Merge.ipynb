{
 "cells": [
  {
   "cell_type": "markdown",
   "id": "7a411646",
   "metadata": {},
   "source": [
    "### K-Way Merge Pattern Overview\n",
    "\n",
    "The **K-Way Merge** pattern deals with merging `k` sorted arrays or lists. The main idea is to efficiently merge multiple sorted data structures (e.g., arrays, linked lists, or streams) into one sorted list. This pattern often leverages **min-heaps (priority queues)** for efficient extraction of the minimum (or maximum) element among the `k` structures.\n",
    "\n",
    "### **How to Recognize:**\n",
    "\n",
    "- You are given multiple sorted lists, arrays, or streams and asked to merge them into a single sorted list.\n",
    "- The problem involves sorting or finding the smallest (or largest) elements across multiple sorted collections.\n",
    "- The use of a min-heap (or max-heap) can simplify finding the next element to add to the merged structure.\n",
    "- The goal is typically to merge or identify elements in `k` sorted structures efficiently."
   ]
  },
  {
   "cell_type": "markdown",
   "id": "c45f3f49",
   "metadata": {},
   "source": [
    "### **Steps in the K-Way Merge Pattern:**\n",
    "\n",
    "1. **Initialize a Min-Heap:**\n",
    "    - For merging, the min-heap helps in efficiently extracting the smallest element among all lists. Each entry in the heap represents an element and the list it comes from.\n",
    "2. **Insert the First Element from Each List:**\n",
    "    - Start by inserting the first element from each of the `k` lists into the min-heap. Each element should be inserted along with information about which list it belongs to and its index in the list.\n",
    "3. **Extract the Minimum Element:**\n",
    "    - Remove the smallest element from the heap and add it to the result list (this ensures that the result list is sorted).\n",
    "4. **Insert the Next Element from the Same List:**\n",
    "    - After extracting an element, insert the next element from the same list into the min-heap (if it exists). Repeat the process until all elements from all lists are merged.\n",
    "5. **Return the Result:**\n",
    "    - Once the heap is empty, return the merged result list."
   ]
  },
  {
   "cell_type": "markdown",
   "id": "43519b85",
   "metadata": {},
   "source": [
    "### **Time Complexity:**\n",
    "\n",
    "- Inserting each element into the heap takes `O(log k)`, and there are `n * k` elements across all `k` lists. The overall time complexity is `O(n * k * log k)`.\n",
    "\n",
    "### **Space Complexity:**\n",
    "\n",
    "- The space complexity is `O(k)` for the heap that stores `k` elements at any given time.\n",
    "***\n",
    "**Template for K-Way Merge Pattern:**"
   ]
  },
  {
   "cell_type": "code",
   "execution_count": null,
   "id": "8594cea1",
   "metadata": {},
   "outputs": [],
   "source": [
    "from heapq import heappop, heappush\n",
    "\n",
    "def k_way_merge(lists):\n",
    "    min_heap = []\n",
    "\n",
    "    # Initialize heap with the first element of each list\n",
    "    for i in range(len(lists)):\n",
    "        if lists[i]:\n",
    "            heappush(min_heap, (lists[i][0], i, 0))\n",
    "\n",
    "    result = []\n",
    "\n",
    "    while min_heap:\n",
    "        val, list_idx, elem_idx = heappop(min_heap)\n",
    "        result.append(val)\n",
    "\n",
    "        # If there is a next element in the same list, push it to the heap\n",
    "        if elem_idx + 1 < len(lists[list_idx]):\n",
    "            heappush(min_heap, (lists[list_idx][elem_idx + 1], list_idx, elem_idx + 1))\n",
    "\n",
    "    return result"
   ]
  },
  {
   "cell_type": "markdown",
   "id": "1107374c",
   "metadata": {},
   "source": [
    "***\n",
    "### **Core Variations and Techniques:**\n",
    "\n",
    "1. **Merging `k` Sorted Arrays**: Use a min-heap to merge the arrays, similar to the Linked List example.\n",
    "2. **Finding Top-K Smallest/Largest Elements Across Lists**: By modifying the heap to store either smallest or largest elements, you can solve problems that require top-k elements.\n",
    "3. **Generalized Sliding Window**: The smallest range problem can be generalized to other types of range queries by dynamically managing both the smallest and largest elements.\n",
    "\n",
    "### **Key Observations:**\n",
    "\n",
    "- **Min-Heap Efficiency**: The min-heap allows efficient extraction of the smallest element, which is crucial in merging sorted data.\n",
    "- **Keeping Track of Metadata**: It's often necessary to store not just the value but also the index of the list and the element within that list, so you can retrieve the next element easily."
   ]
  },
  {
   "cell_type": "markdown",
   "id": "c3294cd8",
   "metadata": {},
   "source": [
    "***\n",
    "## LC Problems\n",
    "### **1. Merge k Sorted Lists (LeetCode 23)**\n",
    "\n",
    "### **Problem:**\n",
    "\n",
    "Given `k` sorted linked lists, merge them into one sorted linked list and return it.\n",
    "\n",
    "### **Steps:**\n",
    "\n",
    "1. Use a min-heap to merge the sorted lists.\n",
    "2. Add the first node of each list to the heap.\n",
    "3. Extract the minimum node from the heap and add it to the result linked list.\n",
    "4. If the extracted node has a next node, insert the next node into the heap.\n",
    "5. Repeat until the heap is empty, then return the merged list.\n",
    "\n",
    "### **Interview Comments:**\n",
    "\n",
    "- **Heap Usage:** \"We use a min-heap to efficiently merge multiple sorted lists by always extracting the smallest element.\"\n",
    "- **Efficiency:** \"The time complexity of this solution is `O(n * k * log k)` where `n` is the total number of nodes and `k` is the number of lists.\"\n",
    "- **Edge Case:** \"We handle edge cases where some of the lists are empty by checking for `None` values when initializing the heap.\""
   ]
  },
  {
   "cell_type": "code",
   "execution_count": null,
   "id": "0d9d1e39",
   "metadata": {},
   "outputs": [],
   "source": [
    "from heapq import heappush, heappop\n",
    "\n",
    "class ListNode:\n",
    "    def __init__(self, val=0, next=None):\n",
    "        self.val = val\n",
    "        self.next = next\n",
    "\n",
    "def mergeKLists(lists):\n",
    "    min_heap = []\n",
    "    for i in range(len(lists)):\n",
    "        if lists[i]:\n",
    "            heappush(min_heap, (lists[i].val, i, lists[i]))\n",
    "\n",
    "    dummy = ListNode()\n",
    "    curr = dummy\n",
    "\n",
    "    while min_heap:\n",
    "        val, i, node = heappop(min_heap)\n",
    "        curr.next = node\n",
    "        curr = curr.next\n",
    "        if node.next:\n",
    "            heappush(min_heap, (node.next.val, i, node.next))\n",
    "\n",
    "    return dummy.next\n"
   ]
  },
  {
   "cell_type": "markdown",
   "id": "0c620302",
   "metadata": {},
   "source": [
    "***\n",
    "### **2. Kth Smallest Element in a Sorted Matrix (LeetCode 378)**\n",
    "\n",
    "### **Problem:**\n",
    "\n",
    "Given an `n x n` matrix where each row and column is sorted, find the `k`-th smallest element in the matrix.\n",
    "\n",
    "### **Steps:**\n",
    "\n",
    "1. Initialize a min-heap and insert the first element from each row (since each row is sorted).\n",
    "2. Extract the smallest element from the heap.\n",
    "3. If the extracted element has a next element in the same row, insert it into the heap.\n",
    "4. Repeat this process `k` times to find the `k`th smallest element.\n",
    "\n",
    "### **Interview Comments:**\n",
    "\n",
    "- **Matrix Traversal:** \"We efficiently traverse the matrix by focusing on the smallest elements first, using a min-heap to extract the smallest row-wise element.\"\n",
    "- **Heap Size Optimization:** \"Since we're only interested in the `k` smallest elements, we can limit the heap size to `k`, making the solution more efficient.\"\n",
    "- **Time Complexity:** \"The time complexity is `O(k log n)` because we process `k` elements and each heap operation takes `O(log n)`.\""
   ]
  },
  {
   "cell_type": "code",
   "execution_count": null,
   "id": "5b5aee65",
   "metadata": {},
   "outputs": [],
   "source": [
    "from heapq import heappush, heappop\n",
    "\n",
    "def kthSmallest(matrix, k):\n",
    "    n = len(matrix)\n",
    "    min_heap = []\n",
    "\n",
    "    for r in range(min(k, n)):  # Only take the first 'k' rows, no need to take more\n",
    "        heappush(min_heap, (matrix[r][0], r, 0))\n",
    "\n",
    "    count, number = 0, 0\n",
    "    while min_heap:\n",
    "        number, r, c = heappop(min_heap)\n",
    "        count += 1\n",
    "        if count == k:\n",
    "            break\n",
    "        if c + 1 < n:\n",
    "            heappush(min_heap, (matrix[r][c + 1], r, c + 1))\n",
    "\n",
    "    return number\n"
   ]
  },
  {
   "cell_type": "markdown",
   "id": "7361aa28",
   "metadata": {},
   "source": [
    "***\n",
    "### **3. Smallest Range Covering Elements from K Lists (LeetCode 632)**\n",
    "\n",
    "### **Problem:**\n",
    "\n",
    "Given `k` sorted lists, find the smallest range that includes at least one number from each list.\n",
    "\n",
    "### **Steps:**\n",
    "\n",
    "1. Use a min-heap to track the minimum element across the lists.\n",
    "2. Keep track of the maximum element among the elements currently in the heap.\n",
    "3. As you extract the minimum element, if the current range (from the minimum to the maximum) is smaller than the previously recorded range, update the result.\n",
    "4. Insert the next element from the list of the extracted element into the heap, updating the maximum as necessary.\n",
    "\n",
    "### **Interview Comments:**\n",
    "\n",
    "- **Tracking Maximum Element:** \"In addition to the min-heap, we track the maximum element to ensure we cover all lists and efficiently find the smallest range.\"\n",
    "- **Range Calculation:** \"Each time we extract the minimum element, we update the range if it becomes smaller. This allows us to shrink the range as much as possible.\"\n",
    "- **Time Complexity:** \"The time complexity is `O(n * log k)` where `n` is the total number of elements across the lists and `k` is the number of lists.\""
   ]
  },
  {
   "cell_type": "code",
   "execution_count": null,
   "id": "42e961d6",
   "metadata": {},
   "outputs": [],
   "source": [
    "from heapq import heappush, heappop\n",
    "\n",
    "def smallestRange(nums):\n",
    "    min_heap = []\n",
    "    current_max = float('-inf')\n",
    "\n",
    "    for i in range(len(nums)):\n",
    "        heappush(min_heap, (nums[i][0], i, 0))\n",
    "        current_max = max(current_max, nums[i][0])\n",
    "\n",
    "    range_start, range_end = float('-inf'), float('inf')\n",
    "\n",
    "    while len(min_heap) == len(nums):\n",
    "        num, list_idx, elem_idx = heappop(min_heap)\n",
    "\n",
    "        if current_max - num < range_end - range_start:\n",
    "            range_start, range_end = num, current_max\n",
    "\n",
    "        if elem_idx + 1 < len(nums[list_idx]):\n",
    "            next_elem = nums[list_idx][elem_idx + 1]\n",
    "            heappush(min_heap, (next_elem, list_idx, elem_idx + 1))\n",
    "            current_max = max(current_max, next_elem)\n",
    "        else:\n",
    "            break\n",
    "\n",
    "    return [range_start, range_end]\n"
   ]
  },
  {
   "cell_type": "markdown",
   "id": "de06f213",
   "metadata": {},
   "source": [
    "- **373. Find K Pairs with Smallest Sums**\n",
    "- **502. IPO** (Advanced variant) - to do!!!"
   ]
  },
  {
   "cell_type": "code",
   "execution_count": null,
   "id": "877c2654",
   "metadata": {},
   "outputs": [],
   "source": []
  }
 ],
 "metadata": {
  "kernelspec": {
   "display_name": "Python 3 (ipykernel)",
   "language": "python",
   "name": "python3"
  },
  "language_info": {
   "codemirror_mode": {
    "name": "ipython",
    "version": 3
   },
   "file_extension": ".py",
   "mimetype": "text/x-python",
   "name": "python",
   "nbconvert_exporter": "python",
   "pygments_lexer": "ipython3",
   "version": "3.11.3"
  }
 },
 "nbformat": 4,
 "nbformat_minor": 5
}
