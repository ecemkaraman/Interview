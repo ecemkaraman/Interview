{
 "cells": [
  {
   "cell_type": "markdown",
   "id": "9e42f530",
   "metadata": {},
   "source": [
    "Union Find (Disjoint Set Union)"
   ]
  },
  {
   "cell_type": "markdown",
   "id": "ff9c5b45",
   "metadata": {},
   "source": [
    "uc: Problems related to connectivity\n",
    "Watch for these indicative signs:\n",
    "\n",
    "- Distinctive Terminology: Terms such as \"connected\", \"component\", \"island\", and \"group\" often signal that a problem's focus is on connectivity.\n",
    "- Uniting or Merging: Problems discussing connecting or merging nodes, like linking towns through roads, usually center on connectivity.\n",
    "- Traversal Queries: Queries about traversing a structure from one point to all others, without retracing steps, also point towards connectivity."
   ]
  },
  {
   "cell_type": "code",
   "execution_count": null,
   "id": "4afeb9b1",
   "metadata": {},
   "outputs": [],
   "source": []
  }
 ],
 "metadata": {
  "kernelspec": {
   "display_name": "Python 3 (ipykernel)",
   "language": "python",
   "name": "python3"
  },
  "language_info": {
   "codemirror_mode": {
    "name": "ipython",
    "version": 3
   },
   "file_extension": ".py",
   "mimetype": "text/x-python",
   "name": "python",
   "nbconvert_exporter": "python",
   "pygments_lexer": "ipython3",
   "version": "3.11.3"
  }
 },
 "nbformat": 4,
 "nbformat_minor": 5
}
