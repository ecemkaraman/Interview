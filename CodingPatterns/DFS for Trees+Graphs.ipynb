{
 "cells": [
  {
   "cell_type": "markdown",
   "id": "b1fb1993",
   "metadata": {},
   "source": [
    "# DFS for Graphs and Trees\n",
    "\n",
    "- DFS dives deep into a structure, ideal for backtracking and exhaustive search.\n",
    "- BFS explores level by level, perfect for shortest path and minimal distance scenarios.\n",
    "***\n",
    "- **Keywords**:\"backtracking\", \"deepest\", \"recursion\", \"cycles\", \"connected components\".\n",
    "- **Problem Types:** Permutations, combinations, pathfinding in mazes, connected components, topological sort, cycle detection.\n",
    "\n",
    "- DFS Uses a stack \n",
    "\n",
    "### **Overview**:\n",
    "\n",
    "- DFS is a recursive algorithm for traversing or searching tree or graph data structures.\n",
    "- It starts at the root (or an arbitrary node for a graph) and goes as deep as possible along each branch before backtracking.\n",
    "- DFS uses a **stack** (LIFO). 2 options:\n",
    "    - Recursive-> Implicit call stack(small graph, easy implementation)\n",
    "    - Iterative -> Explicit stack (deep graphs)\n",
    "\n",
    "### **General DFS Steps (Pseudocode)**:\n",
    "\n",
    "1. Start at the root or an arbitrary node.\n",
    "2. Mark the current node as visited.\n",
    "3. For each unvisited adjacent node:\n",
    "    - Recursively call DFS for the adjacent node.\n",
    "4. If all adjacent nodes are visited, backtrack to the previous node."
   ]
  },
  {
   "cell_type": "markdown",
   "id": "86994235",
   "metadata": {},
   "source": [
    "***\n",
    "## 1. DFS for Trees\n",
    "- DFS is optimal for searching a tree that’s deeper than wide\n",
    "- DFS in trees is more intuitive & almost always uses recursive traversal like Preorder, Inorder, or Postorder.\n",
    "- Both iterative & recursive approaches for preorder, inorder and postorder have Time=O(n), Space=O(h)\n",
    "- BFS (Level Order) is less common but is useful for problems like finding the shortest path in unweighted trees.\n",
    "- Use **iterative DFS** approach for trees when dealing with deep or unbalanced trees to avoid stack overflow and have more control over the process. -> safer\n",
    "    - **Unbalanced binary tree**: If a tree is extremely skewed (like a LL), the recursion depth can approach `O(n)`, `n`=number of nodes.\n",
    "    - **Balanced binary tree**: Recursion depth is `O(log n)`-> manageable for most practical cases.\n",
    "- Tree traversal usually refers to **binary trees**. \n",
    "- DFS&BFS are still valid for **N-ary trees**, but traversal techniques like Inorder, Preorder, and Postorder only apply to binary trees.\n",
    "\n",
    "The **Tree DFS (Depth-First Search)** pattern is used to traverse a tree by exploring as far as possible along each branch before backtracking. \n",
    "- Recursive Exploration: Used when we need to explore all possible paths or calculate properties like depth, path sums, or the diameter of a tree.\n",
    "\n",
    "### **How to Recognize:**\n",
    "\n",
    "- Problems that involve traversing or exploring all possible paths in a tree or deep dive into subtrees.\n",
    "- Questions asking to calculate properties like the depth, sum of nodes, or checking for specific conditions in a tree.\n",
    "- Look for phrases like \"all paths,\" \"deepest node,\" or \"recursive.\"\n",
    "\n",
    "### Steps\n",
    "1. Start at the root of the tree (or any node in case of graphs).\n",
    "2. Explore one branch fully before moving to the next.\n",
    "3. Use a stack (or recursion) to keep track of the nodes to be visited.\n",
    "4. Process nodes in a 'deep-first' manner.\n",
    "\n",
    "***\n",
    "- For Inorder, we do something **between** left and right.\n",
    "- For Preorder, we do something **before** left and right.\n",
    "- For Postorder, we do something **after** left and right.\n",
    "\n",
    "#### **1.Inorder Traversal (Left → Root → Right)**\n",
    "- Use when you need nodes processed in sorted (ascending) order. Most useful for BSTs.\n",
    "- **Use Cases**:\n",
    "    - **BSTs**: Retrieves elements in sorted order.\n",
    "    - **Expression Trees**: Infix expression notation.\n",
    "- **Keywords**: \"Sorted order\", \"BST property\", \"Ascending/Descending order\".\n",
    "- **Recursive Approach**:\n",
    "    - Process the **left subtree**, then the **current node (root)**, and then the **right subtree**.\n",
    "    - Typically used when you want the nodes of a BST in sorted order.\n",
    "    \n",
    "**Version 1: Using a helper function (BP)**:\n",
    "- It separates the traversal logic from the result accumulation, leading to a clean, modular solution. The recursive depth is bounded by the height of the tree, making space complexity dependent on the height.\n",
    "- Separation of Concerns: Encapsulating the recursive logic in a helper function helps keep the main function focused on handling inputs and outputs. It separates the traversal logic & result accumulation. \n",
    "- Clarity: This structure improves readability by clearly defining the flow of the traversal logic.\n",
    "- Simplified Base Case Handling (root=None) w/o cluttering the main function. \n",
    "- **Avoiding Global States or Mutable Variables:** Reduce the risk of bugs in concurrent scenarios or complex apps->esp. important in multi-threaded environments.\n",
    "- Easier Debugging: You can add debugging statements or print outputs specific to the recursive calls w/o affecting the main function’s interface.\n",
    "- Performance: In some cases, having a single, mutable result list that you append to (as opposed to creating new lists each time) can be more efficient in terms of both time and space, especially in deep trees."
   ]
  },
  {
   "cell_type": "code",
   "execution_count": null,
   "id": "2fc8434b",
   "metadata": {},
   "outputs": [],
   "source": [
    "# Helper function approach: Preferred\n",
    "def inorderRecursive(root):\n",
    "    result = []\n",
    "    \n",
    "    def inorder(node):\n",
    "        if not node:\n",
    "            return\n",
    "        inorder(node.left)       # Traverse left subtree\n",
    "        result.append(node.val) # Process current node\n",
    "        inorder(node.right)      # Traverse right subtree\n",
    "     \n",
    "    inorder(root)\n",
    "    return result"
   ]
  },
  {
   "cell_type": "markdown",
   "id": "decc1000",
   "metadata": {},
   "source": [
    "- **Version 2: Concatenation of Lists(Bad Practice)**:\n",
    "- Inefficient: Creates a new list at every recursion level->additional overhead and increases the time complexity to O(n²). The frequent creation and merging of lists are expensive operations for large trees.\n",
    "- Space Complexity: Due to list concatenation at every recursive call, the space overhead increases significantly compared to the helper-based approach.\n",
    "- Readability:Although it looks more compact, it lacks the clarity of intention\n",
    "- This can be adapted to preorder and postorder by changing the order of statements in the return statement\n",
    "\n",
    "-In the helper function approach, by appending to a single list (result), we ensure that space usage is proportional to the height of the tree"
   ]
  },
  {
   "cell_type": "code",
   "execution_count": null,
   "id": "abe86ced",
   "metadata": {},
   "outputs": [],
   "source": [
    "def inorder_recursive(root):\n",
    "    if root is None:\n",
    "        return []\n",
    "    return inorder_recursive(root.left) + [root.val] + inorder_recursive(root.right)"
   ]
  },
  {
   "cell_type": "markdown",
   "id": "d8e83e03",
   "metadata": {},
   "source": [
    "---\n",
    "- **Iterative Approach**:\n",
    "    - Use an **explicit stack** to simulate recursion.\n",
    "    - Keep pushing left children to the stack until you reach a `None`. Then pop from the stack, process the node, and visit its right subtree."
   ]
  },
  {
   "cell_type": "code",
   "execution_count": null,
   "id": "3704d276",
   "metadata": {},
   "outputs": [],
   "source": [
    "def inorder_iterative(root):\n",
    "    stack = []\n",
    "    current = root\n",
    "\n",
    "    while stack or current:\n",
    "        while current:\n",
    "            stack.append(current)  # Push left nodes to stack\n",
    "            current = current.left\n",
    "\n",
    "        current = stack.pop()      # Process node\n",
    "        print(current.val)         # Process current node\n",
    "\n",
    "        current = current.right    # Visit right subtree"
   ]
  },
  {
   "cell_type": "markdown",
   "id": "ff6e3cdf",
   "metadata": {},
   "source": [
    "#### **2.Preorder Traversal (Root → Left → Right)**\n",
    "\n",
    "- Use when you need to process the root node before subtrees (aka its children).\n",
    "- Common in tree construction, serialization, or creating deep copies of trees.\n",
    "- Each time you pop a node from the stack, you \"visit\" it (aka append it to the result) and push its children for further processing.\n",
    "- **Use Cases**:\n",
    "    - **Copying Trees**: Duplicate the entire tree structure.\n",
    "    - **Expression Trees**: Prefix expression notation.\n",
    "    - **Serialization**: Storing the structure of a tree.\n",
    "- **Keywords**: \"Process node before children\", \"Prefix\", \"Clone\", \"Serialize\".\n",
    "\n",
    "- **Recursive Approach**:\n",
    "    - Process the **current node (root)**, then recursively traverse the **left subtree**, and finally the **right subtree**.\n",
    "    - Typically used when you need to create a copy of the tree or perform operations on the node before its children."
   ]
  },
  {
   "cell_type": "code",
   "execution_count": null,
   "id": "bb2e3ac5",
   "metadata": {},
   "outputs": [],
   "source": [
    "#root -> left -> right\n",
    "def preorderRecursive(root):\n",
    "    result = []\n",
    "    \n",
    "    def preorder(node):\n",
    "        if not node:\n",
    "            return\n",
    "        result.append(node.val)  # Process current node\n",
    "        preorder(node.left)      # Traverse left subtree\n",
    "        preorder(node.right)     # Traverse right subtree\n",
    "    \n",
    "    preorder(root)\n",
    "    return result"
   ]
  },
  {
   "cell_type": "markdown",
   "id": "d1e592e9",
   "metadata": {},
   "source": [
    "- **Iterative Approach**:\n",
    "    - Use a **stack** to simulate recursion.\n",
    "    - Stack is implemented as a Python list \n",
    "        - push (`stack.append(item)`) & pop (`stack.pop()`) from the end of list -> both O(1) time. append() is amortized for the occasional resizing of Python lists(dynamic) \n",
    "    1. Push the root node first, process it and pop\n",
    "    2. Push the right child (if it exists)\n",
    "    3. Push the left child \n",
    "    - Stack = LIFO-> Pushing the right child before left = Processing the left subtree before the right subtree\n",
    "    - `while stack`: When the stack becomes empty, we've traversed all the nodes. So, return the result"
   ]
  },
  {
   "cell_type": "code",
   "execution_count": null,
   "id": "e0c9b740",
   "metadata": {},
   "outputs": [],
   "source": [
    "# root -> left -> right\n",
    "def preorderIterative(root):\n",
    "    if not root:\n",
    "        return []\n",
    "\n",
    "    stack = [root]  # Initialize the stack with the root node\n",
    "    result = []     \n",
    "\n",
    "    while stack:\n",
    "        node = stack.pop()     # Pop the top node from the stack\n",
    "        result.append(node.val)  # Process the current node\n",
    "\n",
    "        if node.right: #Push right child first, so left is processed first\n",
    "            stack.append(node.right)\n",
    "        if node.left:\n",
    "            stack.append(node.left)\n",
    "\n",
    "    return result"
   ]
  },
  {
   "cell_type": "markdown",
   "id": "051a1bd2",
   "metadata": {},
   "source": [
    "#### **3.Postorder Traversal (Left → Right → Root)**\n",
    "\n",
    "- Use when you need to process children before the parent (root)\n",
    "- **Use Cases**:\n",
    "    - **Deleting Trees**: Remove all nodes safely.\n",
    "    - **Expression Trees**: Postfix expression notation.\n",
    "    - **Calculating Properties**: Heights, depths, or evaluating expressions.\n",
    "- **Keywords**: \"Process children before node\", \"Cleanup\", \"Evaluate\", \"Aggregate\", \"Bottom-up\".\n",
    "- **Recursive Approach**:\n",
    "    - Recursively process the **left subtree**, then the **right subtree**, and finally the **current node (root)**.\n",
    "    - Often used when deleting or freeing nodes because it processes child nodes before the parent."
   ]
  },
  {
   "cell_type": "code",
   "execution_count": null,
   "id": "a4f46cc6",
   "metadata": {},
   "outputs": [],
   "source": [
    "#left -> right -> root \n",
    "def postorderRecursive(root):\n",
    "    result = []\n",
    "    \n",
    "    def postorder(node):\n",
    "        if not node:\n",
    "            return\n",
    "        postorder(node.left)     # Traverse left subtree\n",
    "        postorder(node.right)    # Traverse right subtree\n",
    "        result.append(node.val)  # Process current node\n",
    "    \n",
    "    postorder(root)\n",
    "    return result"
   ]
  },
  {
   "cell_type": "markdown",
   "id": "97ed4965",
   "metadata": {},
   "source": [
    "- **Iterative Approach**:\n",
    "**2 Approaches to Postorder Iterative DFS**\n",
    "- **Direct iterative postorder**: (Harder) Requires `last_visited` to track when the right subtree is processed so we can backtrack to the root. Since postorder requires visiting the children before the root; without this tracking, we might process the root to early\n",
    "- **Modified preorder + reversal**: (Easier&preferred) Modify the preorder traversal, then reverse the result to get the correct postorder traversal. No need for `last_visited` because the root is processed first and the result is reversed afterward → no need to explicitly track which subtree was processed last. \n",
    "\n",
    "    1. **Preorder**:`Root → Left → Right`.\n",
    "    2. Modify this to `Root → Right → Left` by adjusting the stack pushing order\n",
    "        - Push left child first\n",
    "    3. **Reverse** the result at the end:(`Left → Right → Root`).\n",
    "        - No need to keep track of which nodes have had their subtrees fully processed"
   ]
  },
  {
   "cell_type": "code",
   "execution_count": null,
   "id": "7c60872e",
   "metadata": {},
   "outputs": [],
   "source": [
    "# (Left → Right → Root)\n",
    "def postorderTraversal(root):\n",
    "    if not root:\n",
    "        return []\n",
    "\n",
    "    stack = [root]\n",
    "    result = []\n",
    "\n",
    "    while stack:\n",
    "        node = stack.pop()\n",
    "        result.append(node.val)  # Process node (Root first)\n",
    "\n",
    "        if node.left:            # Push left child first\n",
    "            stack.append(node.left)\n",
    "        if node.right:           # Push right child second\n",
    "            stack.append(node.right)\n",
    "\n",
    "    # Reverse result to get postorder (Left -> Right -> Root)\n",
    "    return result[::-1]"
   ]
  },
  {
   "cell_type": "markdown",
   "id": "004883ce",
   "metadata": {},
   "source": [
    "### **Variables** :\n",
    "\n",
    "- **`root`**: The current node being processed in the tree.\n",
    "- **`stack`**: Used in iterative approaches to simulate the call stack of recursion.\n",
    "- **`current`**: In iterative Inorder traversal, tracks the current node in the process.\n",
    "- **`output`**: Used in iterative Postorder traversal to reverse the node order for left-right-root."
   ]
  },
  {
   "cell_type": "markdown",
   "id": "89f3e682",
   "metadata": {},
   "source": [
    "### **Time Complexity** (For all DFS traversals, Recursive and Iterative):\n",
    "\n",
    "- **Time**: **O(n)**, where `n` is the number of nodes in the tree → Each node is visited exactly once.\n",
    "- **Space** (both recursive&iterative): **O(h),** where `h`=height of tree (implicit call stack or explicit iteration stack). Worst case= tree is skewed → `O(n)`"
   ]
  },
  {
   "cell_type": "markdown",
   "id": "d04a65cc",
   "metadata": {},
   "source": [
    "***\n",
    "***\n",
    "## Graph DFS\n",
    "- Use **DFS** when you need to explore all possible paths and **BFS** for shortest-path problems in unweighted graphs.\n",
    "- **UC**: Problems involving exhaustive searching, connected components, and backtracking problems.\"\n",
    "- Start at an arbitrary unvisited node->graphs don't have a root unlike trees. \n",
    "- \"The depth-first nature of DFS allows it to explore one branch fully before moving on, making it ideal for solving problems where we need to make decisions based on the depth of the structure.\"\n",
    "- **Common Mistakes**: Not marking visited nodes, failing to account for disconnected graphs, confusing recursion base cases, and using the wrong data structures (e.g., queue for DFS).\n",
    "- **Time Complexity**: **O(V + E)**\n",
    "- **Space Complexity**: **O(V)** due to the recursion stack in the worst case (or O(V) for the explicit stack in the iterative version).\n",
    "\n",
    "### **Use Cases**:\n",
    "\n",
    "- Finding **connected components** in a graph.\n",
    "- **Detecting cycles** in a graph.\n",
    "- **Topological sorting** (for Directed Acyclic Graphs - DAGs).\n",
    "- **Solving mazes, puzzles, combinatorial problems** via backtracking (e.g., N-Queens, Sudoku Solver).\n",
    "- Finding **spanning trees** in a graph\n",
    "***\n",
    "### 1. Recursive DFS Implementation "
   ]
  },
  {
   "cell_type": "code",
   "execution_count": null,
   "id": "5016c89b",
   "metadata": {},
   "outputs": [],
   "source": [
    "def dfs_recursive(graph, node, visited=None):\n",
    "    if visited is None:\n",
    "        visited = set()\n",
    "    if node in visited: # Base Case: If node is already visited, return\n",
    "        return  \n",
    "    visited.add(node) # Mark the node as visited\n",
    "    print(node) # Process the current node (e.g., print, collect values)\n",
    "\n",
    "    for neighbor in graph[node]: # Recursively visit all unvisited neighbors\n",
    "        if neighbor not in visited:\n",
    "            dfs_recursive(graph, neighbor, visited)"
   ]
  },
  {
   "cell_type": "markdown",
   "id": "aaa64d7a",
   "metadata": {},
   "source": [
    "**Explanation of Variables**:\n",
    "\n",
    "- **`graph`**: Adjacency list representing the graph (`dict` where keys are nodes, and values are lists of neighbors).\n",
    "- **`node`**: Current node being processed.\n",
    "- **`visited`**: Set of nodes that have already been visited to avoid infinite loops.\n",
    "\n",
    "-Backtrack when there are no unvisited neighbors.\n",
    "\n",
    "---\n",
    "\n",
    "### **2. Iterative DFS Implementation (stack)**"
   ]
  },
  {
   "cell_type": "code",
   "execution_count": null,
   "id": "c5026613",
   "metadata": {},
   "outputs": [],
   "source": [
    "def dfs_iterative(graph, start_node):\n",
    "    visited = set()  # Initialize the visited set and stack\n",
    "    stack = [start_node]\n",
    "\n",
    "    while stack: # Loop until the stack is empty\n",
    "        node = stack.pop() # Pop the top node from stack\n",
    "        if node not in visited:  # If node not visited:\n",
    "            print(node)  \n",
    "            visited.add(node)\n",
    "\n",
    "            for neighbor in graph[node]: #Push all unvisited neighbors to stack\n",
    "                if neighbor not in visited:\n",
    "                    stack.append(neighbor)"
   ]
  },
  {
   "cell_type": "markdown",
   "id": "b4a4eebc",
   "metadata": {},
   "source": [
    "- **`graph`**: Adjacency list representing the graph (`dict` where keys are nodes, and values are lists of neighbors).\n",
    "- **`start_node`**: The starting node for DFS.\n",
    "- **`visited`**: Set of nodes that have already been visited to avoid reprocessing.\n",
    "- **`stack`**: Stack used to simulate recursion, holding nodes to be processed.\n",
    "\n",
    "---\n",
    "\n",
    "### **Comparison of Recursive vs. Iterative DFS**\n",
    "\n",
    "| **Aspect** | **Recursive DFS** | **Iterative DFS** |\n",
    "|-- |-- |-- |\n",
    "| **Main Data Structure** | Recursion (call stack) | Explicit Stack |\n",
    "| **Ease of Implementation** | Simpler due to natural recursion | Requires manual stack management |\n",
    "| **Space Complexity** | O(V) due to recursion depth (can cause stack overflow) | O(V) due to explicit stack management |\n",
    "| **Best for** | Simpler problems where recursion depth isn’t an issue | Larger graphs, or when recursion limits are a problem |\n",
    "| **Edge Cases** | Risk of stack overflow in very deep graphs | No stack overflow, but stack management is manual |\n"
   ]
  },
  {
   "cell_type": "markdown",
   "id": "3c6b144e",
   "metadata": {},
   "source": [
    "***\n",
    "### **Comparison Between Trees and Graphs in DFS**:\n",
    "\n",
    "| **Aspect** | **Binary Tree (DFS)** | **Graph (DFS)** |\n",
    "| --- | --- | --- |\n",
    "| **Traversal Techniques** | Preorder, Inorder, Postorder | DFS traversal (no predefined order) |\n",
    "| **Cycle Detection** | Not needed (trees don’t have cycles) | Needed (to avoid revisiting nodes) |\n",
    "| **Recursive vs Iterative** | Both are common (recursive preferred) | Both common (iterative preferred for large graphs) |\n",
    "| **Edge Cases** | Balanced vs. skewed trees, null nodes | Disconnected components, cycles |\n"
   ]
  },
  {
   "cell_type": "code",
   "execution_count": null,
   "id": "27e040fd",
   "metadata": {},
   "outputs": [],
   "source": []
  }
 ],
 "metadata": {
  "kernelspec": {
   "display_name": "Python 3 (ipykernel)",
   "language": "python",
   "name": "python3"
  },
  "language_info": {
   "codemirror_mode": {
    "name": "ipython",
    "version": 3
   },
   "file_extension": ".py",
   "mimetype": "text/x-python",
   "name": "python",
   "nbconvert_exporter": "python",
   "pygments_lexer": "ipython3",
   "version": "3.11.3"
  }
 },
 "nbformat": 4,
 "nbformat_minor": 5
}
