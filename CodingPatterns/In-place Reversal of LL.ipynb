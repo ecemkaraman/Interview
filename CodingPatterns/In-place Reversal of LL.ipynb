{
 "cells": [
  {
   "cell_type": "markdown",
   "id": "3788410b",
   "metadata": {},
   "source": [
    "### **In-place Reversal of Linked List Pattern Overview**\n",
    "\n",
    "### **Data Structures:**\n",
    "\n",
    "- **Singly Linked List**\n",
    "\n",
    "### **Pattern Logic:**\n",
    "\n",
    "- The **In-place Reversal** pattern is useful for problems where you are required to reverse a part of the linked list, or the entire list, without using additional memory.\n",
    "- The approach usually involves adjusting the pointers of the linked list nodes directly as you traverse them.\n",
    "- This pattern helps with problems like reversing a linked list, reversing a sublist, or rearranging linked list nodes in a particular way.\n",
    "\n",
    "### **How to Recognize:**\n",
    "\n",
    "- The problem will ask to reverse the nodes or adjust the order of elements within a linked list.\n",
    "- You are required to do it **in-place**, which means without using extra memory (i.e., no extra arrays or lists).\n",
    "- Keywords: reverse, reorder, rotate, rearrange, in-place."
   ]
  },
  {
   "cell_type": "markdown",
   "id": "ff32cb92",
   "metadata": {},
   "source": [
    "***\n",
    "### **Key Steps in This Pattern:**\n",
    "\n",
    "1. **Three Pointers Setup:**\n",
    "    - **previous:** Holds the previously reversed node (initially `None`).\n",
    "    - **current:** The node being processed.\n",
    "    - **next_node:** A temporary pointer to the next node so the chain can be reconnected after reversing.\n",
    "2. **Reversing:**\n",
    "    - Change the `.next` pointer of `current` to point to `previous`.\n",
    "    - Move all pointers one step forward.\n",
    "3. **Restoration:**\n",
    "    - After reversing a portion of the list, reconnect the newly reversed section with the rest of the list (especially for sublist reversals).\n",
    "***\n",
    "\n",
    "### **Smart Interview Comments:**\n",
    "\n",
    "- **In-place efficiency:** \"This solution operates in constant space, making it memory efficient as we do not use any additional data structures. We rely solely on pointer manipulation to reverse the list.\"\n",
    "- **Edge cases:** \"We ensure that edge cases, such as empty lists or lists with a single node, are handled gracefully by checking the base conditions.\"\n",
    "- **Time efficiency:** \"Since we traverse the linked list in one pass (`O(N)`), the solution is time-optimal for this type of problem.\"\n",
    "- **Real-world analogy:** \"This pattern mimics swapping train cars on a track where we rearrange nodes one by one while ensuring we don't lose the rest of the train.\"\n",
    "***\n",
    "### **Variations and Extensions:**\n",
    "\n",
    "- **Rotate Linked List:** Instead of reversing, sometimes you need to rotate the list (move elements from one end to the other).\n",
    "- **Rearrange Linked List:** This pattern can also be useful for problems where elements need to be rearranged in a specific way, not just reversed."
   ]
  },
  {
   "cell_type": "code",
   "execution_count": null,
   "id": "7cbcc5d9",
   "metadata": {},
   "outputs": [],
   "source": [
    "# Template for In-place Linked List Reversal\n",
    "def reverse_linked_list(head, left, right):\n",
    "    previous, current = None, head\n",
    "    while current and left <= right:\n",
    "        next_node = current.next\n",
    "        current.next = previous\n",
    "        previous = current\n",
    "        current = next_node\n",
    "        left += 1\n",
    "    # Connect to the rest of the list\n",
    "    return previous  # or the appropriate return value based on the problem\n"
   ]
  },
  {
   "cell_type": "markdown",
   "id": "a7b2fe05",
   "metadata": {},
   "source": [
    "***\n",
    "## LC Problems\n",
    "- **206. Reverse Linked List**\n",
    "- **92. Reverse Linked List II**\n",
    "- **25. Reverse Nodes in k-Group**\n",
    "### **1. Reverse Linked List (LeetCode 206)**\n",
    "\n",
    "### **Problem:**\n",
    "\n",
    "Reverse a singly linked list in-place.\n",
    "\n",
    "### **Steps:**\n",
    "\n",
    "1. Initialize three pointers: `previous` (to store the previous node), `current` (to track the current node), and `next_node` (to temporarily store the next node).\n",
    "2. Traverse the list, and for each node, reverse its pointer to point to the previous node.\n",
    "3. Move all pointers one step ahead until the end of the list is reached.\n",
    "\n",
    "- **Time:** `O(N)` where `N` is the number of nodes in the list.\n",
    "\n",
    "- **Space:** `O(1)` as we only use constant extra space for pointers."
   ]
  },
  {
   "cell_type": "code",
   "execution_count": null,
   "id": "f646f3a3",
   "metadata": {},
   "outputs": [],
   "source": [
    "class ListNode:\n",
    "    def __init__(self, value=0, next=None):\n",
    "        self.value = value\n",
    "        self.next = next\n",
    "\n",
    "def reverseList(head: ListNode) -> ListNode:\n",
    "    previous = None\n",
    "    current = head\n",
    "    while current:\n",
    "        next_node = current.next\n",
    "        current.next = previous\n",
    "        previous = current\n",
    "        current = next_node\n",
    "    return previous"
   ]
  },
  {
   "cell_type": "markdown",
   "id": "7a559378",
   "metadata": {},
   "source": [
    "### **2. Reverse Linked List II (LeetCode 92)**\n",
    "\n",
    "### **Problem:**\n",
    "\n",
    "Reverse a portion of a linked list between positions `left` and `right` (1-indexed).\n",
    "\n",
    "### **Steps:**\n",
    "\n",
    "1. Traverse the list until you reach the `left` node.\n",
    "2. Start reversing the nodes from position `left` to `right` using the same method as in **Reverse Linked List**.\n",
    "3. Adjust the pointers of the node before `left` and the node after `right` to maintain the list’s integrity.\n",
    "\n",
    "- **Time:** `O(N)` where `N` is the number of nodes in the list.\n",
    "- **Space:** `O(1)` for constant space used."
   ]
  },
  {
   "cell_type": "code",
   "execution_count": null,
   "id": "2b698e60",
   "metadata": {},
   "outputs": [],
   "source": [
    "def reverseBetween(head: ListNode, left: int, right: int) -> ListNode:\n",
    "    if not head or left == right:\n",
    "        return head\n",
    "\n",
    "    dummy = ListNode(0)\n",
    "    dummy.next = head\n",
    "    previous = dummy\n",
    "\n",
    "    for _ in range(left - 1):\n",
    "        previous = previous.next\n",
    "\n",
    "    current = previous.next\n",
    "    next_node = None\n",
    "\n",
    "    for _ in range(right - left):\n",
    "        next_node = current.next\n",
    "        current.next = next_node.next\n",
    "        next_node.next = previous.next\n",
    "        previous.next = next_node\n",
    "\n",
    "    return dummy.next\n"
   ]
  },
  {
   "cell_type": "markdown",
   "id": "9f2c3619",
   "metadata": {},
   "source": [
    "### **3. Reverse Nodes in k-Group (LeetCode 25)**\n",
    "\n",
    "### **Problem:**\n",
    "\n",
    "Given a linked list, reverse the nodes of the list `k` at a time and return its modified list. If the number of nodes is not a multiple of `k`, leave the last nodes as is.\n",
    "\n",
    "### **Steps:**\n",
    "\n",
    "1. Check if there are at least `k` nodes left in the list. If not, leave the list unchanged.\n",
    "2. Reverse the first `k` nodes using the same in-place reversal technique.\n",
    "3. Recursively reverse the rest of the list, attaching the newly reversed section to the rest.\n",
    "\n",
    "- **Time:** `O(N)` where `N` is the number of nodes in the list.\n",
    "- **Space:** `O(1)` for iterative solution."
   ]
  },
  {
   "cell_type": "code",
   "execution_count": 2,
   "id": "47d5d837",
   "metadata": {},
   "outputs": [
    {
     "ename": "NameError",
     "evalue": "name 'ListNode' is not defined",
     "output_type": "error",
     "traceback": [
      "\u001b[0;31m---------------------------------------------------------------------------\u001b[0m",
      "\u001b[0;31mNameError\u001b[0m                                 Traceback (most recent call last)",
      "Cell \u001b[0;32mIn[2], line 1\u001b[0m\n\u001b[0;32m----> 1\u001b[0m \u001b[38;5;28;01mdef\u001b[39;00m \u001b[38;5;21mreverseKGroup\u001b[39m(head: ListNode, k: \u001b[38;5;28mint\u001b[39m) \u001b[38;5;241m-\u001b[39m\u001b[38;5;241m>\u001b[39m ListNode:\n\u001b[1;32m      2\u001b[0m     count \u001b[38;5;241m=\u001b[39m \u001b[38;5;241m0\u001b[39m\n\u001b[1;32m      3\u001b[0m     node \u001b[38;5;241m=\u001b[39m head\n",
      "\u001b[0;31mNameError\u001b[0m: name 'ListNode' is not defined"
     ]
    }
   ],
   "source": [
    "def reverseKGroup(head: ListNode, k: int) -> ListNode:\n",
    "    count = 0\n",
    "    node = head\n",
    "\n",
    "    # Check if there are at least k nodes to reverse\n",
    "    while node and count < k:\n",
    "        node = node.next\n",
    "        count += 1\n",
    "\n",
    "    if count == k:\n",
    "        previous = None\n",
    "        current = head\n",
    "        for _ in range(k):\n",
    "            next_node = current.next\n",
    "            current.next = previous\n",
    "            previous = current\n",
    "            current = next_node\n",
    "\n",
    "        # Recursively reverse the rest of the list\n",
    "        if current:\n",
    "            head.next = reverseKGroup(current, k)\n",
    "        return previous\n",
    "    return head\n"
   ]
  },
  {
   "cell_type": "code",
   "execution_count": null,
   "id": "68d8c5e6",
   "metadata": {},
   "outputs": [],
   "source": []
  }
 ],
 "metadata": {
  "kernelspec": {
   "display_name": "Python 3 (ipykernel)",
   "language": "python",
   "name": "python3"
  },
  "language_info": {
   "codemirror_mode": {
    "name": "ipython",
    "version": 3
   },
   "file_extension": ".py",
   "mimetype": "text/x-python",
   "name": "python",
   "nbconvert_exporter": "python",
   "pygments_lexer": "ipython3",
   "version": "3.11.3"
  }
 },
 "nbformat": 4,
 "nbformat_minor": 5
}
